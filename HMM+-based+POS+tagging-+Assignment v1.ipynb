{
 "cells": [
  {
   "cell_type": "code",
   "execution_count": 1,
   "metadata": {},
   "outputs": [
    {
     "data": {
      "text/html": [
       "<style>\n",
       "body {\n",
       "    font-family: \"Tw Cen MT\", cursive, sans-serif;\n",
       "}\n",
       "</style> \n"
      ],
      "text/plain": [
       "<IPython.core.display.HTML object>"
      ]
     },
     "metadata": {},
     "output_type": "display_data"
    }
   ],
   "source": [
    "%%html\n",
    "<style>\n",
    "body {\n",
    "    font-family: \"Tw Cen MT\", cursive, sans-serif;\n",
    "}\n",
    "</style> "
   ]
  },
  {
   "cell_type": "markdown",
   "metadata": {},
   "source": [
    "# POS tagging using modified Viterbi"
   ]
  },
  {
   "cell_type": "markdown",
   "metadata": {},
   "source": [
    ">  By : Ayush Soni"
   ]
  },
  {
   "cell_type": "markdown",
   "metadata": {},
   "source": [
    "## Business Problem "
   ]
  },
  {
   "cell_type": "markdown",
   "metadata": {},
   "source": [
    "The vanilla Viterbi algorithm we had written had resulted in ~87% accuracy. The approx. 13% loss of accuracy was majorly due to the fact that when the algorithm encountered an unknown word (i.e. not present in the training set, such as 'Twitter'), it assigned an incorrect tag arbitrarily. This is because, for unknown words, the emission probabilities for all candidate tags are 0, so the algorithm arbitrarily chooses (the first) tag. <br>\n",
    "The problem at hand deals with improving the accuracy of the above discussed algorithm."
   ]
  },
  {
   "cell_type": "markdown",
   "metadata": {},
   "source": [
    "## Data Description"
   ]
  },
  {
   "cell_type": "markdown",
   "metadata": {},
   "source": [
    "For this assignment, we will use the Treebank dataset of NLTK with the 'universal' tagset. The Universal tagset of NLTK comprises only 12 coarse tag classes as follows: Verb, Noun, Pronouns, Adjectives, Adverbs, Adpositions, Conjunctions, Determiners, Cardinal Numbers, Particles, Other/ Foreign words, Punctuations.\n",
    "\n",
    "We are only using 2 coarse classes (compared to the 46 fine classes such as NNP, VBD etc.) which inturn will make the Viterbi algorithm faster as well."
   ]
  },
  {
   "cell_type": "markdown",
   "metadata": {},
   "source": [
    "## Objective"
   ]
  },
  {
   "cell_type": "markdown",
   "metadata": {},
   "source": [
    "You need to accomplish the following in this assignment:\n",
    "\n",
    "1. Write the vanilla Viterbi algorithm for assigning POS tags (i.e. without dealing with unknown words) \n",
    "2. Solve the problem of unknown words using at least two techniques. These techniques can use any of the approaches discussed in the class - lexicon, rule-based, probabilistic etc. Note that to implement these techniques, you can either write separate functions and call them from the main Viterbi algorithm, or modify the Viterbi algorithm, or both.\n",
    "3. Compare the tagging accuracy after making these modifications with the vanilla Viterbi algorithm.\n",
    "4. List down at least three cases from the sample test file (i.e. unknown word-tag pairs) which were incorrectly tagged by the original Viterbi POS tagger and got corrected after your modifications."
   ]
  },
  {
   "cell_type": "markdown",
   "metadata": {},
   "source": [
    "## Analysis"
   ]
  },
  {
   "cell_type": "markdown",
   "metadata": {},
   "source": [
    "Let us now import the required libraries to get started."
   ]
  },
  {
   "cell_type": "code",
   "execution_count": 2,
   "metadata": {},
   "outputs": [],
   "source": [
    "import nltk, re\n",
    "import numpy as np\n",
    "import pandas as pd\n",
    "import requests\n",
    "import matplotlib.pyplot as plt\n",
    "import seaborn as sns\n",
    "import random\n",
    "from sklearn.model_selection import train_test_split\n",
    "from nltk.tokenize import word_tokenize\n",
    "import itertools\n",
    "import plotly.express as px\n",
    "import plotly.io as pio\n",
    "import plotly.graph_objects as go\n",
    "pio.templates.default = \"plotly_white\""
   ]
  },
  {
   "cell_type": "markdown",
   "metadata": {},
   "source": [
    "## Data Preparation"
   ]
  },
  {
   "cell_type": "code",
   "execution_count": 3,
   "metadata": {},
   "outputs": [
    {
     "data": {
      "text/plain": [
       "[[('Pierre', 'NOUN'),\n",
       "  ('Vinken', 'NOUN'),\n",
       "  (',', '.'),\n",
       "  ('61', 'NUM'),\n",
       "  ('years', 'NOUN'),\n",
       "  ('old', 'ADJ'),\n",
       "  (',', '.'),\n",
       "  ('will', 'VERB'),\n",
       "  ('join', 'VERB'),\n",
       "  ('the', 'DET'),\n",
       "  ('board', 'NOUN'),\n",
       "  ('as', 'ADP'),\n",
       "  ('a', 'DET'),\n",
       "  ('nonexecutive', 'ADJ'),\n",
       "  ('director', 'NOUN'),\n",
       "  ('Nov.', 'NOUN'),\n",
       "  ('29', 'NUM'),\n",
       "  ('.', '.')],\n",
       " [('Mr.', 'NOUN'),\n",
       "  ('Vinken', 'NOUN'),\n",
       "  ('is', 'VERB'),\n",
       "  ('chairman', 'NOUN'),\n",
       "  ('of', 'ADP'),\n",
       "  ('Elsevier', 'NOUN'),\n",
       "  ('N.V.', 'NOUN'),\n",
       "  (',', '.'),\n",
       "  ('the', 'DET'),\n",
       "  ('Dutch', 'NOUN'),\n",
       "  ('publishing', 'VERB'),\n",
       "  ('group', 'NOUN'),\n",
       "  ('.', '.')]]"
      ]
     },
     "execution_count": 3,
     "metadata": {},
     "output_type": "execute_result"
    }
   ],
   "source": [
    "# reading the Treebank tagged sentences\n",
    "nltk_data = list(nltk.corpus.treebank.tagged_sents(tagset='universal'))\n",
    "nltk_data[:2]"
   ]
  },
  {
   "cell_type": "markdown",
   "metadata": {},
   "source": [
    "Let's split the dataset into train and test. We will keep the train,test ratio as 95:5."
   ]
  },
  {
   "cell_type": "code",
   "execution_count": 4,
   "metadata": {},
   "outputs": [
    {
     "name": "stdout",
     "output_type": "stream",
     "text": [
      "Length of Training Set - 3718\n",
      "Length of Test Set - 196\n",
      "------------------------------------------------------------------------------------------------------------------------\n",
      "Glimpse of training -\n",
      "\n",
      "[[('And', 'CONJ'), ('8', 'NUM'), ('%', 'NOUN'), ('*ICH*-1', 'X'), ('said', 'VERB'), ('0', 'X'), ('export', 'NOUN'), ('orders', 'NOUN'), ('were', 'VERB'), ('down', 'ADV'), ('last', 'ADJ'), ('month', 'NOUN'), (',', '.'), ('compared', 'VERB'), ('with', 'ADP'), ('6', 'NUM'), ('%', 'NOUN'), ('the', 'DET'), ('month', 'NOUN'), ('before', 'ADV'), ('.', '.')], [('The', 'DET'), ('Big', 'NOUN'), ('Three', 'NOUN'), ('auto', 'NOUN'), ('makers', 'NOUN'), ('said', 'VERB'), ('0', 'X'), ('the', 'DET'), ('rule', 'NOUN'), ('changes', 'NOUN'), ('were', 'VERB'), (\"n't\", 'ADV'), ('surprising', 'ADJ'), ('because', 'ADP'), ('Bush', 'NOUN'), ('administration', 'NOUN'), ('officials', 'NOUN'), ('have', 'VERB'), ('long', 'ADV'), ('said', 'VERB'), ('0', 'X'), ('they', 'PRON'), ('planned', 'VERB'), ('*-1', 'X'), ('to', 'PRT'), ('impose', 'VERB'), ('car', 'NOUN'), ('safety', 'NOUN'), ('standards', 'NOUN'), ('on', 'ADP'), ('light', 'ADJ'), ('trucks', 'NOUN'), ('and', 'CONJ'), ('vans', 'NOUN'), ('.', '.')], [('CoreStates', 'NOUN'), ('Financial', 'NOUN'), ('Corp.', 'NOUN'), (',', '.'), ('Philadelphia', 'NOUN'), (',', '.'), ('named', 'VERB'), ('Earle', 'NOUN'), ('Palmer', 'NOUN'), ('Brown', 'NOUN'), ('&', 'CONJ'), ('Spiro', 'NOUN'), (',', '.'), ('Philadelphia', 'NOUN'), (',', '.'), ('as', 'ADP'), ('agency', 'NOUN'), ('of', 'ADP'), ('record', 'NOUN'), ('for', 'ADP'), ('its', 'PRON'), ('$', '.'), ('5', 'NUM'), ('million', 'NUM'), ('*U*', 'X'), ('account', 'NOUN'), ('.', '.')], [('Use', 'NOUN'), ('of', 'ADP'), ('Scoring', 'NOUN'), ('High', 'NOUN'), ('is', 'VERB'), ('widespread', 'ADJ'), ('in', 'ADP'), ('South', 'NOUN'), ('Carolina', 'NOUN'), ('and', 'CONJ'), ('common', 'ADJ'), ('in', 'ADP'), ('Greenville', 'NOUN'), ('County', 'NOUN'), (',', '.'), ('Mrs.', 'NOUN'), ('Yeargin', 'NOUN'), (\"'s\", 'PRT'), ('school', 'NOUN'), ('district', 'NOUN'), ('.', '.')], [('Sir', 'NOUN'), ('Peter', 'NOUN'), ('Walters', 'NOUN'), (',', '.'), ('58-year-old', 'ADJ'), ('chairman', 'NOUN'), ('of', 'ADP'), ('British', 'NOUN'), ('Petroleum', 'NOUN'), ('Co.', 'NOUN'), ('until', 'ADP'), ('next', 'ADJ'), ('March', 'NOUN'), (',', '.'), ('joins', 'VERB'), ('the', 'DET'), ('board', 'NOUN'), ('of', 'ADP'), ('this', 'DET'), ('cement', 'NOUN'), ('products', 'NOUN'), ('company', 'NOUN'), ('on', 'ADP'), ('Dec.', 'NOUN'), ('1', 'NUM'), ('.', '.')], [('Separately', 'ADV'), (',', '.'), ('Reuter', 'NOUN'), ('reported', 'VERB'), ('that', 'ADP'), ('the', 'DET'), ('Papua-New', 'NOUN'), ('Guinea', 'NOUN'), ('government', 'NOUN'), ('urged', 'VERB'), ('its', 'PRON'), ('Parliament', 'NOUN'), ('*-1', 'X'), ('to', 'PRT'), ('extend', 'VERB'), ('a', 'DET'), ('state', 'NOUN'), ('of', 'ADP'), ('emergency', 'NOUN'), ('in', 'ADP'), ('copper-rich', 'ADJ'), ('Bougainville', 'NOUN'), ('Island', 'NOUN'), ('for', 'ADP'), ('two', 'NUM'), ('months', 'NOUN'), ('.', '.')], [('Some', 'DET'), ('of', 'ADP'), ('his', 'PRON'), ('observations', 'NOUN'), ('about', 'ADP'), ('Japanese', 'ADJ'), ('management', 'NOUN'), ('style', 'NOUN'), ('are', 'VERB'), ('on', 'ADP'), ('the', 'DET'), ('mark', 'NOUN'), ('.', '.')], [('That', 'DET'), ('compares', 'VERB'), ('with', 'ADP'), ('operating', 'VERB'), ('earnings', 'NOUN'), ('of', 'ADP'), ('$', '.'), ('132.9', 'NUM'), ('million', 'NUM'), ('*U*', 'X'), (',', '.'), ('or', 'CONJ'), ('49', 'NUM'), ('cents', 'NOUN'), ('a', 'DET'), ('share', 'NOUN'), (',', '.'), ('the', 'DET'), ('year', 'NOUN'), ('earlier', 'ADJ'), ('.', '.')], [('He', 'PRON'), ('notes', 'VERB'), ('that', 'ADP'), ('program', 'NOUN'), ('traders', 'NOUN'), ('have', 'VERB'), ('a', 'DET'), ('commission', 'NOUN'), ('cost', 'NOUN'), ('advantage', 'NOUN'), ('because', 'ADP'), ('of', 'ADP'), ('the', 'DET'), ('quantity', 'NOUN'), ('of', 'ADP'), ('their', 'PRON'), ('trades', 'NOUN'), (',', '.'), ('that', 'ADP'), ('they', 'PRON'), ('have', 'VERB'), ('a', 'DET'), ('smaller', 'ADJ'), ('margin', 'NOUN'), ('requirement', 'NOUN'), ('than', 'ADP'), ('individual', 'ADJ'), ('investors', 'NOUN'), ('do', 'VERB'), ('and', 'CONJ'), ('that', 'ADP'), ('they', 'PRON'), ('often', 'ADV'), ('can', 'VERB'), ('figure', 'VERB'), ('out', 'PRT'), ('earlier', 'ADJ'), ('where', 'ADV'), ('the', 'DET'), ('market', 'NOUN'), ('is', 'VERB'), ('heading', 'VERB'), ('*T*-1', 'X'), ('.', '.')], [('One', 'NUM'), ('of', 'ADP'), ('the', 'DET'), ('fastest', 'ADJ'), ('growing', 'VERB'), ('segments', 'NOUN'), ('of', 'ADP'), ('the', 'DET'), ('wine', 'NOUN'), ('market', 'NOUN'), ('is', 'VERB'), ('the', 'DET'), ('category', 'NOUN'), ('of', 'ADP'), ('superpremiums', 'NOUN'), ('--', '.'), ('wines', 'NOUN'), ('limited', 'VERB'), ('*', 'X'), ('in', 'ADP'), ('production', 'NOUN'), (',', '.'), ('of', 'ADP'), ('exceptional', 'ADJ'), ('quality', 'NOUN'), ('-LRB-', '.'), ('or', 'CONJ'), ('so', 'ADV'), ('perceived', 'VERB'), ('*', 'X'), (',', '.'), ('at', 'ADP'), ('any', 'DET'), ('rate', 'NOUN'), ('-RRB-', '.'), (',', '.'), ('and', 'CONJ'), ('with', 'ADP'), ('exceedingly', 'ADV'), ('high', 'ADJ'), ('prices', 'NOUN'), ('.', '.')]]\n"
     ]
    }
   ],
   "source": [
    "# Splitting into train and test\n",
    "random.seed(1234)\n",
    "train_set, test_set = train_test_split(nltk_data, test_size=0.05)\n",
    "\n",
    "print(\"Length of Training Set -\", len(train_set))\n",
    "print(\"Length of Test Set -\", len(test_set))\n",
    "print(\"-\" * 120)\n",
    "print(\"Glimpse of training -\\n\")\n",
    "print(train_set[:10])"
   ]
  },
  {
   "cell_type": "code",
   "execution_count": 5,
   "metadata": {},
   "outputs": [],
   "source": [
    "# Get list of tagged words\n",
    "train_tagged_words = [tup for sent in train_set for tup in sent]"
   ]
  },
  {
   "cell_type": "markdown",
   "metadata": {},
   "source": [
    "Lets have a glimpse of training set."
   ]
  },
  {
   "cell_type": "code",
   "execution_count": 6,
   "metadata": {},
   "outputs": [
    {
     "data": {
      "text/plain": [
       "[('And', 'CONJ'),\n",
       " ('8', 'NUM'),\n",
       " ('%', 'NOUN'),\n",
       " ('*ICH*-1', 'X'),\n",
       " ('said', 'VERB'),\n",
       " ('0', 'X'),\n",
       " ('export', 'NOUN'),\n",
       " ('orders', 'NOUN'),\n",
       " ('were', 'VERB'),\n",
       " ('down', 'ADV')]"
      ]
     },
     "execution_count": 6,
     "metadata": {},
     "output_type": "execute_result"
    }
   ],
   "source": [
    "# Let's have a look at the tagged words in the training set\n",
    "\n",
    "train_tagged_words[:10]"
   ]
  },
  {
   "cell_type": "markdown",
   "metadata": {},
   "source": [
    "Let's see the total number of tagged words in the train set."
   ]
  },
  {
   "cell_type": "code",
   "execution_count": 7,
   "metadata": {},
   "outputs": [
    {
     "data": {
      "text/plain": [
       "95990"
      ]
     },
     "execution_count": 7,
     "metadata": {},
     "output_type": "execute_result"
    }
   ],
   "source": [
    "len(train_tagged_words)"
   ]
  },
  {
   "cell_type": "code",
   "execution_count": 8,
   "metadata": {},
   "outputs": [
    {
     "data": {
      "text/plain": [
       "['And', '8', '%', '*ICH*-1', 'said', '0', 'export', 'orders', 'were', 'down']"
      ]
     },
     "execution_count": 8,
     "metadata": {},
     "output_type": "execute_result"
    }
   ],
   "source": [
    "# tokens in the train set - train_tagged_words\n",
    "train_data_tokens = [pair[0] for pair in train_tagged_words]\n",
    "train_data_tokens[:10]"
   ]
  },
  {
   "cell_type": "markdown",
   "metadata": {},
   "source": [
    "Lets look at the POS tags assigned to words."
   ]
  },
  {
   "cell_type": "code",
   "execution_count": 9,
   "metadata": {},
   "outputs": [
    {
     "data": {
      "text/plain": [
       "['CONJ', 'NUM', 'NOUN', 'X', 'VERB', 'X', 'NOUN', 'NOUN', 'VERB', 'ADV']"
      ]
     },
     "execution_count": 9,
     "metadata": {},
     "output_type": "execute_result"
    }
   ],
   "source": [
    "# POS tags for the tokens in the train set -\n",
    "\n",
    "train_data_pos_tags = [pair[1] for pair in train_tagged_words]\n",
    "train_data_pos_tags[:10]"
   ]
  },
  {
   "cell_type": "code",
   "execution_count": 10,
   "metadata": {},
   "outputs": [],
   "source": [
    "# Build the train vocabulary to set\n",
    "training_vocabulary_set = set(train_data_tokens)\n",
    "# Build the pos tags to set\n",
    "training_pos_tag_set = set(train_data_pos_tags)"
   ]
  },
  {
   "cell_type": "code",
   "execution_count": 11,
   "metadata": {},
   "outputs": [
    {
     "name": "stdout",
     "output_type": "stream",
     "text": [
      "Vocabulary: 12125 \n",
      "Tags: 12\n",
      "\n",
      "Available Tags :\n",
      "{'ADJ', 'X', 'DET', 'VERB', '.', 'ADP', 'PRON', 'CONJ', 'NOUN', 'NUM', 'ADV', 'PRT'}\n"
     ]
    }
   ],
   "source": [
    "print(\"Vocabulary: {} \\nTags: {}\".format(len(training_vocabulary_set), len(training_pos_tag_set)))\n",
    "print(\"\\nAvailable Tags :\")\n",
    "print(training_pos_tag_set)"
   ]
  },
  {
   "cell_type": "markdown",
   "metadata": {},
   "source": [
    "### Emission and Transition Probabilities"
   ]
  },
  {
   "cell_type": "code",
   "execution_count": 12,
   "metadata": {},
   "outputs": [],
   "source": [
    "# computing P(w/t) and storing in [Tags x Vocabulary] matrix. This is a matrix with dimension as len(training_pos_tag_set) X en(training_vocabulary_set)\n",
    "\n",
    "len_pos_tags = len(training_pos_tag_set)\n",
    "len_vocab = len(training_vocabulary_set)\n",
    "\n",
    "word_given_tag = np.zeros((len_pos_tags, len_vocab))"
   ]
  },
  {
   "cell_type": "markdown",
   "metadata": {},
   "source": [
    "Defining Functions for calculating Emission Probability and Transition Probability"
   ]
  },
  {
   "cell_type": "code",
   "execution_count": 13,
   "metadata": {},
   "outputs": [],
   "source": [
    "# compute word given tag: Emission Probability\n",
    "def word_given_tag(word, tag, train_bag = train_tagged_words):\n",
    "    tag_list = [pair for pair in train_bag if pair[1]==tag]\n",
    "    count_tag = len(tag_list)\n",
    "    w_given_tag_list = [pair[0] for pair in tag_list if pair[0]==word]\n",
    "    count_w_given_tag = len(w_given_tag_list)\n",
    "    \n",
    "    return (count_w_given_tag, count_tag)"
   ]
  },
  {
   "cell_type": "code",
   "execution_count": 14,
   "metadata": {},
   "outputs": [],
   "source": [
    "# compute tag given tag: tag2(t2) given tag1 (t1), i.e. Transition Probability\n",
    "def t2_given_t1(t2, t1, train_bag = train_tagged_words):\n",
    "    tags = [pair[1] for pair in train_bag]\n",
    "    count_t1 = len([t for t in tags if t==t1])\n",
    "    count_t2_t1 = 0\n",
    "    for index in range(len(tags)-1):\n",
    "        if tags[index]==t1 and tags[index+1] == t2:\n",
    "            count_t2_t1 += 1\n",
    "    return (count_t2_t1, count_t1)"
   ]
  },
  {
   "cell_type": "code",
   "execution_count": 15,
   "metadata": {},
   "outputs": [
    {
     "data": {
      "text/plain": [
       "array([[6.6688515e-02, 2.0645585e-02, 4.7517614e-03, 1.2452892e-02,\n",
       "        6.3902996e-02, 7.8322135e-02, 6.5541535e-04, 1.6876945e-02,\n",
       "        7.0014745e-01, 2.0645585e-02, 4.7517614e-03, 1.0158938e-02],\n",
       "       [1.6518425e-02, 7.4174076e-02, 5.3684879e-02, 2.0473316e-01,\n",
       "        1.6613723e-01, 1.4374205e-01, 5.6067344e-02, 1.0324015e-02,\n",
       "        6.0991105e-02, 2.8589580e-03, 2.5254130e-02, 1.8551461e-01]],\n",
       "      dtype=float32)"
      ]
     },
     "execution_count": 15,
     "metadata": {},
     "output_type": "execute_result"
    }
   ],
   "source": [
    "# creating t x t transition matrix of tags, each column is t2, each row is t1 thus M(i, j) represents P(tj given ti)\n",
    "tags_matrix = np.zeros((len_pos_tags, len_pos_tags), dtype='float32')\n",
    "for i, t1 in enumerate(list(training_pos_tag_set)):\n",
    "    for j, t2 in enumerate(list(training_pos_tag_set)): \n",
    "        tags_matrix[i, j] = t2_given_t1(t2, t1)[0]/t2_given_t1(t2, t1)[1]\n",
    "\n",
    "# Let's have a glimpse into the transition matrix\n",
    "tags_matrix[0:2]"
   ]
  },
  {
   "cell_type": "markdown",
   "metadata": {},
   "source": [
    "Lets visualise this in a dataframe for better readability."
   ]
  },
  {
   "cell_type": "code",
   "execution_count": 16,
   "metadata": {},
   "outputs": [
    {
     "data": {
      "text/html": [
       "<div>\n",
       "<style scoped>\n",
       "    .dataframe tbody tr th:only-of-type {\n",
       "        vertical-align: middle;\n",
       "    }\n",
       "\n",
       "    .dataframe tbody tr th {\n",
       "        vertical-align: top;\n",
       "    }\n",
       "\n",
       "    .dataframe thead th {\n",
       "        text-align: right;\n",
       "    }\n",
       "</style>\n",
       "<table border=\"1\" class=\"dataframe\">\n",
       "  <thead>\n",
       "    <tr style=\"text-align: right;\">\n",
       "      <th></th>\n",
       "      <th>ADJ</th>\n",
       "      <th>X</th>\n",
       "      <th>DET</th>\n",
       "      <th>VERB</th>\n",
       "      <th>.</th>\n",
       "      <th>ADP</th>\n",
       "      <th>PRON</th>\n",
       "      <th>CONJ</th>\n",
       "      <th>NOUN</th>\n",
       "      <th>NUM</th>\n",
       "      <th>ADV</th>\n",
       "      <th>PRT</th>\n",
       "    </tr>\n",
       "  </thead>\n",
       "  <tbody>\n",
       "    <tr>\n",
       "      <th>ADJ</th>\n",
       "      <td>0.066689</td>\n",
       "      <td>0.020646</td>\n",
       "      <td>0.004752</td>\n",
       "      <td>0.012453</td>\n",
       "      <td>0.063903</td>\n",
       "      <td>0.078322</td>\n",
       "      <td>0.000655</td>\n",
       "      <td>0.016877</td>\n",
       "      <td>0.700147</td>\n",
       "      <td>0.020646</td>\n",
       "      <td>0.004752</td>\n",
       "      <td>0.010159</td>\n",
       "    </tr>\n",
       "    <tr>\n",
       "      <th>X</th>\n",
       "      <td>0.016518</td>\n",
       "      <td>0.074174</td>\n",
       "      <td>0.053685</td>\n",
       "      <td>0.204733</td>\n",
       "      <td>0.166137</td>\n",
       "      <td>0.143742</td>\n",
       "      <td>0.056067</td>\n",
       "      <td>0.010324</td>\n",
       "      <td>0.060991</td>\n",
       "      <td>0.002859</td>\n",
       "      <td>0.025254</td>\n",
       "      <td>0.185515</td>\n",
       "    </tr>\n",
       "    <tr>\n",
       "      <th>DET</th>\n",
       "      <td>0.206064</td>\n",
       "      <td>0.045658</td>\n",
       "      <td>0.005556</td>\n",
       "      <td>0.039256</td>\n",
       "      <td>0.017514</td>\n",
       "      <td>0.009301</td>\n",
       "      <td>0.003624</td>\n",
       "      <td>0.000483</td>\n",
       "      <td>0.637758</td>\n",
       "      <td>0.022104</td>\n",
       "      <td>0.012441</td>\n",
       "      <td>0.000242</td>\n",
       "    </tr>\n",
       "    <tr>\n",
       "      <th>VERB</th>\n",
       "      <td>0.064621</td>\n",
       "      <td>0.217670</td>\n",
       "      <td>0.133802</td>\n",
       "      <td>0.168509</td>\n",
       "      <td>0.035016</td>\n",
       "      <td>0.090979</td>\n",
       "      <td>0.035866</td>\n",
       "      <td>0.005565</td>\n",
       "      <td>0.110999</td>\n",
       "      <td>0.023112</td>\n",
       "      <td>0.082322</td>\n",
       "      <td>0.031537</td>\n",
       "    </tr>\n",
       "    <tr>\n",
       "      <th>.</th>\n",
       "      <td>0.044120</td>\n",
       "      <td>0.026848</td>\n",
       "      <td>0.172275</td>\n",
       "      <td>0.088599</td>\n",
       "      <td>0.093700</td>\n",
       "      <td>0.091104</td>\n",
       "      <td>0.065688</td>\n",
       "      <td>0.058439</td>\n",
       "      <td>0.222749</td>\n",
       "      <td>0.081439</td>\n",
       "      <td>0.052443</td>\n",
       "      <td>0.002506</td>\n",
       "    </tr>\n",
       "  </tbody>\n",
       "</table>\n",
       "</div>"
      ],
      "text/plain": [
       "           ADJ         X       DET      VERB         .       ADP      PRON  \\\n",
       "ADJ   0.066689  0.020646  0.004752  0.012453  0.063903  0.078322  0.000655   \n",
       "X     0.016518  0.074174  0.053685  0.204733  0.166137  0.143742  0.056067   \n",
       "DET   0.206064  0.045658  0.005556  0.039256  0.017514  0.009301  0.003624   \n",
       "VERB  0.064621  0.217670  0.133802  0.168509  0.035016  0.090979  0.035866   \n",
       ".     0.044120  0.026848  0.172275  0.088599  0.093700  0.091104  0.065688   \n",
       "\n",
       "          CONJ      NOUN       NUM       ADV       PRT  \n",
       "ADJ   0.016877  0.700147  0.020646  0.004752  0.010159  \n",
       "X     0.010324  0.060991  0.002859  0.025254  0.185515  \n",
       "DET   0.000483  0.637758  0.022104  0.012441  0.000242  \n",
       "VERB  0.005565  0.110999  0.023112  0.082322  0.031537  \n",
       ".     0.058439  0.222749  0.081439  0.052443  0.002506  "
      ]
     },
     "metadata": {},
     "output_type": "display_data"
    }
   ],
   "source": [
    "tags_df = pd.DataFrame(tags_matrix, columns = list(training_pos_tag_set), index=list(training_pos_tag_set))\n",
    "display(tags_df.head(5))"
   ]
  },
  {
   "cell_type": "markdown",
   "metadata": {},
   "source": [
    "Lets visualise this matrix in a form of heatmap for better understanding."
   ]
  },
  {
   "cell_type": "code",
   "execution_count": 17,
   "metadata": {},
   "outputs": [
    {
     "data": {
      "image/png": "[encoded data removed]",
      "text/plain": [
       "<Figure size 1296x576 with 2 Axes>"
      ]
     },
     "metadata": {
      "needs_background": "light"
     },
     "output_type": "display_data"
    }
   ],
   "source": [
    "plt.figure(figsize=(18, 8))\n",
    "sns.heatmap(tags_df, annot = True)\n",
    "plt.show()"
   ]
  },
  {
   "cell_type": "markdown",
   "metadata": {},
   "source": [
    "Lets tweak the above graph to include only the frequent tags."
   ]
  },
  {
   "cell_type": "code",
   "execution_count": 18,
   "metadata": {},
   "outputs": [
    {
     "data": {
      "image/png": "[encoded data removed]",
      "text/plain": [
       "<Figure size 1296x576 with 2 Axes>"
      ]
     },
     "metadata": {
      "needs_background": "light"
     },
     "output_type": "display_data"
    }
   ],
   "source": [
    "tags_frequent = tags_df[tags_df>0.5]\n",
    "plt.figure(figsize=(18, 8))\n",
    "sns.heatmap(tags_frequent, annot = True)\n",
    "plt.show()"
   ]
  },
  {
   "cell_type": "markdown",
   "metadata": {},
   "source": [
    "## Build the Vanilla Viterbi based POS tagger"
   ]
  },
  {
   "cell_type": "markdown",
   "metadata": {},
   "source": [
    "Lets now build the base viterbi POS tagger."
   ]
  },
  {
   "cell_type": "code",
   "execution_count": 19,
   "metadata": {},
   "outputs": [],
   "source": [
    "# Viterbi Heuristic\n",
    "def Vanilla_Viterbi(words, train_bag = train_tagged_words):\n",
    "    state = []\n",
    "    T = list(set([pair[1] for pair in train_bag]))\n",
    "    \n",
    "    for key, word in enumerate(words):\n",
    "        #initialise list of probability column for a given observation\n",
    "        p = [] \n",
    "        for tag in T:\n",
    "            if key == 0:\n",
    "                transition_p = tags_df.loc['.', tag]\n",
    "            else:\n",
    "                transition_p = tags_df.loc[state[-1], tag]\n",
    "                \n",
    "            # compute emission and state probabilities\n",
    "            emission_p = word_given_tag(words[key], tag)[0]/word_given_tag(words[key], tag)[1]\n",
    "            state_probability = emission_p * transition_p    \n",
    "            p.append(state_probability)\n",
    "            \n",
    "        pmax = max(p)\n",
    "        # getting state for which probability is maximum\n",
    "        state_max = T[p.index(pmax)] \n",
    "        state.append(state_max)\n",
    "    return list(zip(words, state))"
   ]
  },
  {
   "cell_type": "code",
   "execution_count": 20,
   "metadata": {},
   "outputs": [],
   "source": [
    "random.seed(1234)\n",
    "\n",
    "# list of tagged words\n",
    "test_run_base = [tup for sent in test_set for tup in sent]\n",
    "\n",
    "# list of untagged words\n",
    "test_tagged_words = [tup[0] for sent in test_set for tup in sent]\n"
   ]
  },
  {
   "cell_type": "code",
   "execution_count": 21,
   "metadata": {},
   "outputs": [],
   "source": [
    "# tagging the test sentences\n",
    "tagged_seq = Vanilla_Viterbi(test_tagged_words)"
   ]
  },
  {
   "cell_type": "code",
   "execution_count": 22,
   "metadata": {},
   "outputs": [
    {
     "name": "stdout",
     "output_type": "stream",
     "text": [
      "Accuracy of Vanilla Viterbi Algorithm :  0.9229620145113103\n"
     ]
    }
   ],
   "source": [
    "# Find out the accuracy of the Vanilla Viterbi Algorithm\n",
    "\n",
    "check = [i for i, j in zip(tagged_seq, test_run_base) if i == j]\n",
    "\n",
    "vanilla_viterbi_accuracy = len(check)/len(tagged_seq)\n",
    "\n",
    "print(\"Accuracy of Vanilla Viterbi Algorithm : \", vanilla_viterbi_accuracy)"
   ]
  },
  {
   "cell_type": "markdown",
   "metadata": {},
   "source": [
    "We can see that our Vanilla Viterbi Algorithm achieves the accuracy of 92.2%. Though it is a good number but lets find out ways to improve it."
   ]
  },
  {
   "cell_type": "markdown",
   "metadata": {},
   "source": [
    "Lets have a look over the incorrectly tagged cases."
   ]
  },
  {
   "cell_type": "code",
   "execution_count": 23,
   "metadata": {
    "scrolled": true
   },
   "outputs": [
    {
     "name": "stdout",
     "output_type": "stream",
     "text": [
      "361\n"
     ]
    },
    {
     "data": {
      "text/plain": [
       "[[('as', 'ADP'), (('chief', 'NOUN'), ('chief', 'ADJ'))],\n",
       " [('assumed', 'VERB'), (('*-121', 'ADJ'), ('*-121', 'X'))],\n",
       " [('Chairman', 'NOUN'), (('Jay', 'ADJ'), ('Jay', 'NOUN'))],\n",
       " [('B.', 'NOUN'), (('Langner', 'ADJ'), ('Langner', 'NOUN'))],\n",
       " [('in', 'ADP'), (('excess', 'ADJ'), ('excess', 'NOUN'))],\n",
       " [('be', 'VERB'), (('better', 'ADV'), ('better', 'ADJ'))],\n",
       " [('*-1', 'X'), (('out', 'PRT'), ('out', 'ADP'))],\n",
       " [('reached', 'VERB'), (('*-24', 'ADJ'), ('*-24', 'X'))],\n",
       " [('from', 'ADP'), (('malnutrition', 'ADJ'), ('malnutrition', 'NOUN'))],\n",
       " [(',', '.'), (('chest', 'ADJ'), ('chest', 'NOUN'))],\n",
       " [('the', 'DET'), (('aftereffects', 'ADJ'), ('aftereffects', 'NOUN'))],\n",
       " [('of', 'ADP'), (('assaults', 'ADJ'), ('assaults', 'NOUN'))],\n",
       " [('federal', 'ADJ'), (('disaster', 'ADJ'), ('disaster', 'NOUN'))],\n",
       " [('to', 'PRT'), (('mend', 'ADJ'), ('mend', 'VERB'))],\n",
       " [('which', 'DET'), (('*T*-244', 'ADJ'), ('*T*-244', 'X'))],\n",
       " [('have', 'VERB'), (('deteriorated', 'ADJ'), ('deteriorated', 'VERB'))],\n",
       " [('in', 'ADP'), (('Chinese-American', 'ADJ'), ('Chinese-American', 'NOUN'))],\n",
       " [(\"n't\", 'ADV'), (('endorse', 'ADJ'), ('endorse', 'VERB'))],\n",
       " [('totaled', 'VERB'), (('11,390,000', 'ADJ'), ('11,390,000', 'NUM'))],\n",
       " [('company', 'NOUN'), (('distributed', 'ADJ'), ('distributed', 'VERB'))],\n",
       " [(\"'s\", 'PRT'), (('unitholders', 'ADJ'), ('unitholders', 'NOUN'))],\n",
       " [('to', 'PRT'), (('reprove', 'ADJ'), ('reprove', 'VERB'))],\n",
       " [('Coleman', 'NOUN'), (('counterattack', 'ADJ'), ('counterattack', 'NOUN'))],\n",
       " [('a', 'DET'), (('close-up', 'ADJ'), ('close-up', 'NOUN'))],\n",
       " [('in', 'ADP'), (('shadows', 'ADJ'), ('shadows', 'NOUN'))],\n",
       " [('was', 'VERB'), (('recalling', 'ADJ'), ('recalling', 'VERB'))],\n",
       " [('courtroom', 'NOUN'), (('ordeal', 'ADJ'), ('ordeal', 'NOUN'))],\n",
       " [('tune', 'VERB'), (('in', 'ADP'), ('in', 'PRT'))],\n",
       " [(',', '.'), (('transcribe', 'ADJ'), ('transcribe', 'VERB'))],\n",
       " [('?', '.'), (('History', 'ADJ'), ('History', 'NOUN'))],\n",
       " [('could', 'VERB'), (('clear', 'ADJ'), ('clear', 'VERB'))],\n",
       " [('the', 'DET'), (('future', 'ADJ'), ('future', 'NOUN'))],\n",
       " [('the', 'DET'), (('Berlin', 'ADJ'), ('Berlin', 'NOUN'))],\n",
       " [('the', 'DET'), (('executive', 'NOUN'), ('executive', 'ADJ'))],\n",
       " [('could', 'VERB'), (('sign', 'NOUN'), ('sign', 'VERB'))],\n",
       " [('and', 'CONJ'), (('assert', 'ADJ'), ('assert', 'VERB'))],\n",
       " [('rider', 'NOUN'), (('restricting', 'ADJ'), ('restricting', 'VERB'))],\n",
       " [('will', 'VERB'), (('specialize', 'ADJ'), ('specialize', 'VERB'))],\n",
       " [('white-collar', 'ADJ'), (('criminal', 'ADJ'), ('criminal', 'NOUN'))],\n",
       " [('to', 'PRT'), (('brief', 'ADJ'), ('brief', 'VERB'))],\n",
       " [('.', '.'), (('INTERPUBLIC', 'ADJ'), ('INTERPUBLIC', 'NOUN'))],\n",
       " [('INTERPUBLIC', 'NOUN'), (('ON', 'ADJ'), ('ON', 'NOUN'))],\n",
       " [('*-1', 'X'), (('demonstrating', 'ADJ'), ('demonstrating', 'VERB'))],\n",
       " [('he', 'PRON'), (('possessed', 'ADJ'), ('possessed', 'VERB'))],\n",
       " [('included', 'VERB'), (('checking', 'NOUN'), ('checking', 'VERB'))],\n",
       " [('--', '.'), (('plus', 'CONJ'), ('plus', 'ADV'))],\n",
       " [('J.', 'NOUN'), (('Danzig', 'ADJ'), ('Danzig', 'NOUN'))],\n",
       " [('Hearst', 'NOUN'), (('Newspapers', 'ADJ'), ('Newspapers', 'NOUN'))],\n",
       " [('stood', 'VERB'), (('up', 'ADV'), ('up', 'PRT'))],\n",
       " [('and', 'CONJ'), (('that', 'DET'), ('that', 'ADP'))],\n",
       " [('putting', 'VERB'), (('more', 'ADV'), ('more', 'ADJ'))],\n",
       " [('than', 'ADP'), (('730', 'ADJ'), ('730', 'NUM'))],\n",
       " [('employees', 'NOUN'), (('out', 'PRT'), ('out', 'ADP'))],\n",
       " [('sizable', 'ADJ'), (('West', 'NOUN'), ('West', 'ADJ'))],\n",
       " [('West', 'ADJ'), (('German', 'NOUN'), ('German', 'ADJ'))],\n",
       " [('German', 'ADJ'), (('refinery', 'ADJ'), ('refinery', 'NOUN'))],\n",
       " [('*', 'X'), (('tightening', 'ADJ'), ('tightening', 'VERB'))],\n",
       " [('loan', 'NOUN'), (('up', 'PRT'), ('up', 'ADP'))],\n",
       " [('throws', 'VERB'), (('in', 'ADP'), ('in', 'PRT'))],\n",
       " [('*', 'X'), (('saving', 'ADJ'), ('saving', 'VERB'))],\n",
       " [('of', 'ADP'), (('kidnapping', 'ADJ'), ('kidnapping', 'NOUN'))],\n",
       " [('to', 'PRT'), (('repay', 'ADJ'), ('repay', 'VERB'))],\n",
       " [('trend', 'NOUN'), (('that', 'ADP'), ('that', 'DET'))],\n",
       " [('first', 'ADJ'), (('stirrings', 'ADJ'), ('stirrings', 'NOUN'))],\n",
       " [(',', '.'), (('accelerated', 'ADJ'), ('accelerated', 'VERB'))],\n",
       " [('the', 'DET'), (('dawn', 'ADJ'), ('dawn', 'NOUN'))],\n",
       " [('*T*-50', 'X'), (('accounts', 'NOUN'), ('accounts', 'VERB'))],\n",
       " [('nearly', 'ADV'), (('half', 'DET'), ('half', 'NOUN'))],\n",
       " [('was', 'VERB'), (('off', 'PRT'), ('off', 'ADJ'))],\n",
       " [('$', '.'), (('191.9', 'ADJ'), ('191.9', 'NUM'))],\n",
       " [('Italy', 'NOUN'), (('there', 'DET'), ('there', 'ADV'))],\n",
       " [('is', 'VERB'), (('Angelo', 'ADJ'), ('Angelo', 'NOUN'))],\n",
       " [('Angelo', 'NOUN'), (('Gaja', 'ADJ'), ('Gaja', 'NOUN'))],\n",
       " [('Gaja', 'NOUN'), (('Barbaresco', 'ADJ'), ('Barbaresco', 'NOUN'))],\n",
       " [(',', '.'), (('Piero', 'ADJ'), ('Piero', 'NOUN'))],\n",
       " [('Piero', 'NOUN'), (('Antinori', 'ADJ'), ('Antinori', 'NOUN'))],\n",
       " [('La', 'NOUN'), (('Solaia', 'ADJ'), ('Solaia', 'NOUN'))],\n",
       " [('``', '.'), (('derivatives', 'ADJ'), ('derivatives', 'NOUN'))],\n",
       " [('times', 'NOUN'), (('as', 'ADP'), ('as', 'ADV'))],\n",
       " [('the', 'DET'), (('underlying', 'ADJ'), ('underlying', 'VERB'))],\n",
       " [('be', 'VERB'), (('twinned', 'ADJ'), ('twinned', 'VERB'))],\n",
       " [('nearly', 'ADV'), (('complete', 'VERB'), ('complete', 'ADJ'))],\n",
       " [('miles', 'NOUN'), (('upstream', 'ADJ'), ('upstream', 'ADV'))],\n",
       " [('chemical', 'NOUN'), (('giant', 'ADJ'), ('giant', 'NOUN'))],\n",
       " [('Montedison', 'NOUN'), (('S.p.A.', 'ADJ'), ('S.p.A.', 'NOUN'))],\n",
       " [('pharmaceuticals', 'NOUN'),\n",
       "  (('incorporated', 'ADJ'), ('incorporated', 'VERB'))],\n",
       " [('expected', 'VERB'), (('*-129', 'ADJ'), ('*-129', 'X'))],\n",
       " [('Ms.', 'NOUN'), (('Ensrud', 'ADJ'), ('Ensrud', 'NOUN'))],\n",
       " [('and', 'CONJ'), (('warehousing', 'ADJ'), ('warehousing', 'NOUN'))],\n",
       " [('on', 'ADP'), (('353', 'ADJ'), ('353', 'NUM'))],\n",
       " [('``', '.'), (('contrary', 'NOUN'), ('contrary', 'ADJ'))],\n",
       " [('The', 'DET'), (('following', 'NOUN'), ('following', 'VERB'))],\n",
       " [(\"'s\", 'PRT'), (('offerings', 'ADJ'), ('offerings', 'NOUN'))],\n",
       " [('and', 'CONJ'), (('pricings', 'ADJ'), ('pricings', 'NOUN'))],\n",
       " [('and', 'CONJ'), (('non-U.S.', 'ADJ'), ('non-U.S.', 'NOUN'))],\n",
       " [('and', 'CONJ'), (('syndicate', 'ADJ'), ('syndicate', 'NOUN'))],\n",
       " [(':', '.'), (('Packaging', 'ADJ'), ('Packaging', 'NOUN'))],\n",
       " [('some', 'DET'), (('drawbacks', 'ADJ'), ('drawbacks', 'NOUN'))],\n",
       " [(\"''\", '.'), (('Midwesco', 'ADJ'), ('Midwesco', 'NOUN'))],\n",
       " [('Midwesco', 'NOUN'), (('Filter', 'ADJ'), ('Filter', 'NOUN'))],\n",
       " [('of', 'ADP'), (('830,000', 'ADJ'), ('830,000', 'NUM'))],\n",
       " [('$', '.'), (('492', 'ADJ'), ('492', 'NUM'))],\n",
       " [('$', '.'), (('4.55', 'ADJ'), ('4.55', 'NUM'))],\n",
       " [('$', '.'), (('12.97', 'ADJ'), ('12.97', 'NUM'))],\n",
       " [('is', 'VERB'), (('conducted', 'ADJ'), ('conducted', 'VERB'))],\n",
       " [('Family', 'NOUN'), (('Opinion', 'ADJ'), ('Opinion', 'NOUN'))],\n",
       " [('high-flying', 'ADJ'), (('toy', 'ADJ'), ('toy', 'NOUN'))],\n",
       " [('early', 'ADJ'), (('1980s', 'NOUN'), ('1980s', 'NUM'))],\n",
       " [('plan', 'NOUN'), (('that', 'ADP'), ('that', 'DET'))],\n",
       " [('pressure', 'NOUN'), (('tactics', 'ADJ'), ('tactics', 'NOUN'))],\n",
       " [('which', 'DET'), (('*T*-237', 'ADJ'), ('*T*-237', 'X'))],\n",
       " [('it', 'PRON'), (('lacked', 'ADJ'), ('lacked', 'VERB'))],\n",
       " [('Series', 'NOUN'), (('A', 'DET'), ('A', 'NOUN'))],\n",
       " [('convertible', 'ADJ'), (('preferred', 'ADJ'), ('preferred', 'VERB'))],\n",
       " [('.', '.'), (('Medical', 'NOUN'), ('Medical', 'ADJ'))],\n",
       " [('the', 'DET'), (('transplantation', 'ADJ'), ('transplantation', 'NOUN'))],\n",
       " [('into', 'ADP'), (('humans', 'ADJ'), ('humans', 'NOUN'))],\n",
       " [('juvenile', 'ADJ'), (('diabetes', 'ADJ'), ('diabetes', 'NOUN'))],\n",
       " [('and', 'CONJ'), (('Huntington', 'ADJ'), ('Huntington', 'NOUN'))],\n",
       " [('$', '.'), (('2.875', 'ADJ'), ('2.875', 'NUM'))],\n",
       " [('*', 'X'), (('Filling', 'ADJ'), ('Filling', 'VERB'))],\n",
       " [('Filling', 'VERB'), (('out', 'ADP'), ('out', 'PRT'))],\n",
       " [('would', 'VERB'), (('tip', 'ADJ'), ('tip', 'VERB'))],\n",
       " [('.', '.'), (('Earlier', 'ADV'), ('Earlier', 'ADJ'))],\n",
       " [('snapped', 'VERB'), (('up', 'ADV'), ('up', 'PRT'))],\n",
       " [('$', '.'), (('570', 'ADJ'), ('570', 'NUM'))],\n",
       " [('*-12', 'X'), (('back', 'PRT'), ('back', 'ADV'))],\n",
       " [('the', 'DET'), (('red', 'ADJ'), ('red', 'NOUN'))],\n",
       " [('to', 'PRT'), (('7.15', 'ADJ'), ('7.15', 'NUM'))],\n",
       " [('movie', 'NOUN'), (('ends', 'NOUN'), ('ends', 'VERB'))],\n",
       " [(',', '.'), (('beaten', 'VERB'), ('beaten', 'ADJ'))],\n",
       " [('.', '.'), (('Proponents', 'ADJ'), ('Proponents', 'NOUN'))],\n",
       " [('*U*', 'X'), (('more', 'ADV'), ('more', 'ADJ'))],\n",
       " [('base', 'NOUN'), (('pay', 'VERB'), ('pay', 'NOUN'))],\n",
       " [('.', '.'), (('Continuing', 'ADJ'), ('Continuing', 'VERB'))],\n",
       " [('Robert', 'NOUN'), (('Shrum', 'ADJ'), ('Shrum', 'NOUN'))],\n",
       " [('David', 'NOUN'), (('Doak', 'ADJ'), ('Doak', 'NOUN'))],\n",
       " [('finally', 'ADV'), (('unleashed', 'ADJ'), ('unleashed', 'VERB'))],\n",
       " [('the', 'DET'), (('purchasing', 'NOUN'), ('purchasing', 'VERB'))],\n",
       " [('reported', 'VERB'), (('better', 'ADV'), ('better', 'ADJ'))],\n",
       " [('better', 'ADJ'), (('export', 'VERB'), ('export', 'NOUN'))],\n",
       " [('.', '.'), (('Ad', 'ADJ'), ('Ad', 'NOUN'))],\n",
       " [('Ad', 'NOUN'), (('Notes', 'ADJ'), ('Notes', 'NOUN'))],\n",
       " [('of', 'ADP'), (('Mount', 'ADJ'), ('Mount', 'NOUN'))],\n",
       " [('Mount', 'NOUN'), (('Clemens', 'ADJ'), ('Clemens', 'NOUN'))],\n",
       " [('totaled', 'VERB'), (('154.2', 'ADJ'), ('154.2', 'NUM'))],\n",
       " [('of', 'ADP'), (('Ballantine\\\\/Del', 'ADJ'), ('Ballantine\\\\/Del', 'NOUN'))],\n",
       " [('Ballantine\\\\/Del', 'NOUN'),\n",
       "  (('Rey\\\\/Fawcett', 'ADJ'), ('Rey\\\\/Fawcett', 'NOUN'))],\n",
       " [('successful', 'ADJ'), (('paperback', 'ADJ'), ('paperback', 'NOUN'))],\n",
       " [('His', 'PRON'), (('longer', 'ADV'), ('longer', 'ADJ'))],\n",
       " [('of', 'ADP'), (('executive', 'NOUN'), ('executive', 'ADJ'))],\n",
       " [('.', '.'), (('Jay', 'ADJ'), ('Jay', 'NOUN'))],\n",
       " [('Jay', 'NOUN'), (('Goldinger', 'ADJ'), ('Goldinger', 'NOUN'))],\n",
       " [('Capital', 'NOUN'), (('Insight', 'ADJ'), ('Insight', 'NOUN'))],\n",
       " [(',', '.'), (('reasons', 'NOUN'), ('reasons', 'VERB'))],\n",
       " [('yen', 'NOUN'), (('as', 'ADP'), ('as', 'ADV'))],\n",
       " [('--', '.'), (('the', 'DET'), ('the', 'ADJ'))],\n",
       " [('to', 'PRT'), (('77.70', 'ADJ'), ('77.70', 'NUM'))],\n",
       " [('from', 'ADP'), (('77.56', 'ADJ'), ('77.56', 'NUM'))],\n",
       " [('--', '.'), (('the', 'DET'), ('the', 'ADJ'))],\n",
       " [('*-1', 'X'), (('lure', 'VERB'), ('lure', 'NOUN'))],\n",
       " [('by', 'ADP'), (('Blackstone', 'ADJ'), ('Blackstone', 'NOUN'))],\n",
       " [('probably', 'ADV'), (('worth', 'ADJ'), ('worth', 'ADP'))],\n",
       " [('funds', 'NOUN'), (('that', 'ADP'), ('that', 'DET'))],\n",
       " [('that', 'DET'), (('*T*-42', 'ADJ'), ('*T*-42', 'X'))],\n",
       " [('markets', 'NOUN'), (('that', 'ADP'), ('that', 'DET'))],\n",
       " [('who', 'PRON'), (('*T*-135', 'ADJ'), ('*T*-135', 'X'))],\n",
       " [('and', 'CONJ'), (('that', 'DET'), ('that', 'ADP'))],\n",
       " [('any', 'DET'), (('punishment', 'ADJ'), ('punishment', 'NOUN'))],\n",
       " [('year', 'NOUN'), (('reversed', 'ADJ'), ('reversed', 'VERB'))],\n",
       " [('has', 'VERB'), (('chilled', 'ADJ'), ('chilled', 'VERB'))],\n",
       " [('.', '.'), (('Thousands', 'ADJ'), ('Thousands', 'NOUN'))],\n",
       " [('Germans', 'NOUN'), (('fled', 'ADJ'), ('fled', 'VERB'))],\n",
       " [('East', 'NOUN'), (('Berlin', 'ADJ'), ('Berlin', 'NOUN'))],\n",
       " [('*-1', 'X'), (('Observing', 'ADJ'), ('Observing', 'VERB'))],\n",
       " [('never', 'ADV'), (('exhibited', 'ADJ'), ('exhibited', 'VERB'))],\n",
       " [('or', 'CONJ'), (('prejudice', 'ADJ'), ('prejudice', 'NOUN'))],\n",
       " [('a', 'DET'), (('homosexual', 'ADJ'), ('homosexual', 'NOUN'))],\n",
       " [('or', 'CONJ'), (('prostitute', 'ADJ'), ('prostitute', 'NOUN'))],\n",
       " [('coming', 'VERB'), (('closer', 'ADJ'), ('closer', 'ADV'))],\n",
       " [('*', 'X'), (('achieving', 'ADJ'), ('achieving', 'VERB'))],\n",
       " [('some', 'DET'), (('downward', 'ADV'), ('downward', 'ADJ'))],\n",
       " [('Much', 'ADV'), (('less', 'ADJ'), ('less', 'ADV'))],\n",
       " [('-LCB-', '.'), (('index-arbitrage', 'ADJ'), ('index-arbitrage', 'NOUN'))],\n",
       " [('done', 'VERB'), (('*-161', 'ADJ'), ('*-161', 'X'))],\n",
       " [('Richard', 'NOUN'), (('Barfield', 'ADJ'), ('Barfield', 'NOUN'))],\n",
       " [('Life', 'NOUN'), (('Assurance', 'ADJ'), ('Assurance', 'NOUN'))],\n",
       " [('which', 'DET'), (('*T*-258', 'ADJ'), ('*T*-258', 'X'))],\n",
       " [('*T*-258', 'X'), (('manages', 'ADJ'), ('manages', 'VERB'))],\n",
       " [('$', '.'), (('23.72', 'ADJ'), ('23.72', 'NUM'))],\n",
       " [(',', '.'), (('sociology', 'ADJ'), ('sociology', 'NOUN'))],\n",
       " [('he', 'PRON'), (('blames', 'ADJ'), ('blames', 'VERB'))],\n",
       " [('the', 'DET'), (('inside', 'ADJ'), ('inside', 'NOUN'))],\n",
       " [('the', 'DET'), (('outside', 'ADJ'), ('outside', 'NOUN'))],\n",
       " [('the', 'DET'), (('most', 'ADJ'), ('most', 'ADV'))],\n",
       " [('authority', 'NOUN'), (('engaging', 'ADJ'), ('engaging', 'VERB'))],\n",
       " [('consumer', 'NOUN'), (('demands', 'ADJ'), ('demands', 'NOUN'))],\n",
       " [('*', 'X'), (('Choose', 'ADJ'), ('Choose', 'VERB'))],\n",
       " [('them', 'PRON'), (('out', 'PRT'), ('out', 'ADP'))],\n",
       " [('be', 'VERB'), (('deprived', 'ADJ'), ('deprived', 'VERB'))],\n",
       " [('deprived', 'VERB'), (('*-24', 'ADJ'), ('*-24', 'X'))],\n",
       " [(',', '.'), (('families', 'ADJ'), ('families', 'NOUN'))],\n",
       " [('P.', 'NOUN'), (('Tassinari', 'ADJ'), ('Tassinari', 'NOUN'))],\n",
       " [('dividend', 'NOUN'), (('bulls', 'ADJ'), ('bulls', 'NOUN'))],\n",
       " [('having', 'VERB'), (('plenty', 'ADJ'), ('plenty', 'NOUN'))],\n",
       " [('left', 'VERB'), (('over', 'ADP'), ('over', 'PRT'))],\n",
       " [('capital', 'NOUN'), (('expenditures', 'ADJ'), ('expenditures', 'NOUN'))],\n",
       " [('or', 'CONJ'), (('force', 'NOUN'), ('force', 'VERB'))],\n",
       " [('``', '.'), (('interventions', 'ADJ'), ('interventions', 'NOUN'))],\n",
       " [('that', 'DET'), (('*T*-86', 'ADJ'), ('*T*-86', 'X'))],\n",
       " [('mean', 'VERB'), (('firings', 'ADJ'), ('firings', 'NOUN'))],\n",
       " [('a', 'DET'), (('powerhouse', 'ADJ'), ('powerhouse', 'NOUN'))],\n",
       " [('Robert', 'NOUN'), (('Gottlieb', 'ADJ'), ('Gottlieb', 'NOUN'))],\n",
       " [('New', 'NOUN'), (('Yorker', 'ADJ'), ('Yorker', 'NOUN'))],\n",
       " [('government', 'NOUN'), (('charges', 'NOUN'), ('charges', 'VERB'))],\n",
       " [('Argentina', 'NOUN'), (('aspires', 'ADJ'), ('aspires', 'VERB'))],\n",
       " [(',', '.'), (('Miguel', 'ADJ'), ('Miguel', 'NOUN'))],\n",
       " [('Miguel', 'NOUN'), (('Alurralde', 'ADJ'), ('Alurralde', 'NOUN'))],\n",
       " [('the', 'DET'), (('future', 'ADJ'), ('future', 'NOUN'))],\n",
       " [('U.S.', 'NOUN'), (('troop', 'ADJ'), ('troop', 'NOUN'))],\n",
       " [('trade', 'NOUN'), (('publishing', 'NOUN'), ('publishing', 'VERB'))],\n",
       " [('in', 'ADP'), (('INS', 'ADJ'), ('INS', 'NOUN'))],\n",
       " [('v.', 'CONJ'), (('Chadha', 'ADJ'), ('Chadha', 'NOUN'))],\n",
       " [('legislative', 'ADJ'), (('vetoes', 'ADJ'), ('vetoes', 'NOUN'))],\n",
       " [('master', 'NOUN'), (('appointed', 'ADJ'), ('appointed', 'VERB'))],\n",
       " [('*-1', 'X'), (('commenting', 'ADJ'), ('commenting', 'VERB'))],\n",
       " [('new', 'ADJ'), (('Explorer', 'ADJ'), ('Explorer', 'NOUN'))],\n",
       " [('.', '.'), (('Companies', 'ADJ'), ('Companies', 'NOUN'))],\n",
       " [('the', 'DET'), (('average', 'ADJ'), ('average', 'NOUN'))],\n",
       " [(\"'\", 'PRT'), (('estimates', 'VERB'), ('estimates', 'NOUN'))],\n",
       " [('*T*-1', 'X'), (('Chuck', 'ADJ'), ('Chuck', 'NOUN'))],\n",
       " [('Chuck', 'NOUN'), (('Hurley', 'ADJ'), ('Hurley', 'NOUN'))],\n",
       " [('of', 'ADP'), (('communications', 'ADJ'), ('communications', 'NOUN'))],\n",
       " [('and', 'CONJ'), (('life-style', 'ADJ'), ('life-style', 'NOUN'))],\n",
       " [('numerous', 'ADJ'), (('sub-markets', 'ADJ'), ('sub-markets', 'NOUN'))],\n",
       " [('cheating', 'NOUN'), (('before', 'ADP'), ('before', 'ADV'))],\n",
       " [('the', 'DET'), (('1990s', 'NUM'), ('1990s', 'NOUN'))],\n",
       " [('into', 'ADP'), (('multinationals', 'ADJ'), ('multinationals', 'NOUN'))],\n",
       " [('be', 'VERB'), (('centralized', 'ADJ'), ('centralized', 'VERB'))],\n",
       " [('has', 'VERB'), (('much', 'ADV'), ('much', 'ADJ'))],\n",
       " [('head', 'NOUN'), (('chopped', 'ADJ'), ('chopped', 'VERB'))],\n",
       " [('far', 'ADV'), (('more', 'ADJ'), ('more', 'ADV'))],\n",
       " [('more', 'ADV'), (('limited', 'ADJ'), ('limited', 'VERB'))],\n",
       " [('limited', 'VERB'), (('applicability', 'ADJ'), ('applicability', 'NOUN'))],\n",
       " [('Senate', 'NOUN'), (('Judiciary', 'ADJ'), ('Judiciary', 'NOUN'))],\n",
       " [('some', 'DET'), (('liberal', 'NOUN'), ('liberal', 'ADJ'))],\n",
       " [('to', 'PRT'), (('question', 'NOUN'), ('question', 'VERB'))],\n",
       " [('a', 'DET'), (('Johnson-era', 'ADJ'), ('Johnson-era', 'NOUN'))],\n",
       " [('creation', 'NOUN'), (('that', 'ADP'), ('that', 'DET'))],\n",
       " [('*T*-2', 'X'), (('mandates', 'ADJ'), ('mandates', 'VERB'))],\n",
       " [('*-1', 'X'), (('noncompetitively', 'ADJ'), ('noncompetitively', 'ADV'))],\n",
       " [('Hahn', 'NOUN'), (('picked', 'ADJ'), ('picked', 'VERB'))],\n",
       " [('Virginia', 'NOUN'), (('Polytechnic', 'ADJ'), ('Polytechnic', 'NOUN'))],\n",
       " [(',', '.'), (('highway', 'ADJ'), ('highway', 'NOUN'))],\n",
       " [(',', '.'), (('as', 'ADP'), ('as', 'ADV'))],\n",
       " [('as', 'ADV'), (('long', 'ADJ'), ('long', 'ADV'))],\n",
       " [('a', 'DET'), (('crash', 'NOUN'), ('crash', 'ADJ'))],\n",
       " [('the', 'DET'), (('sidewalk', 'ADJ'), ('sidewalk', 'NOUN'))],\n",
       " [('investors', 'NOUN'), (('acquires', 'ADJ'), ('acquires', 'VERB'))],\n",
       " [('the', 'DET'), (('expectation', 'ADJ'), ('expectation', 'NOUN'))],\n",
       " [('funds', 'NOUN'), (('generated', 'ADJ'), ('generated', 'VERB'))],\n",
       " [('in', 'ADP'), (('warehouses', 'ADJ'), ('warehouses', 'NOUN'))],\n",
       " [('in', 'ADP'), (('limbo', 'ADJ'), ('limbo', 'NOUN'))],\n",
       " [('1985', 'NUM'), (('advisory', 'ADJ'), ('advisory', 'NOUN'))],\n",
       " [('``', '.'), (('parallel', 'VERB'), ('parallel', 'ADJ'))],\n",
       " [('and', 'CONJ'), (('CTBS', 'ADJ'), ('CTBS', 'NOUN'))],\n",
       " [('the', 'DET'), (('courage', 'ADJ'), ('courage', 'NOUN'))],\n",
       " [('*T*-2', 'X'), (('A.D.', 'ADJ'), ('A.D.', 'NOUN'))],\n",
       " [(',', '.'), (('depends', 'ADJ'), ('depends', 'VERB'))],\n",
       " [('%', 'NOUN'), (('boosts', 'VERB'), ('boosts', 'NOUN'))],\n",
       " [('--', '.'), (('complicated', 'ADJ'), ('complicated', 'ADP'))],\n",
       " [('Industry', 'NOUN'), (('summoned', 'ADJ'), ('summoned', 'VERB'))],\n",
       " [('.', '.'), (('Rogers', 'ADJ'), ('Rogers', 'NOUN'))],\n",
       " [('Class', 'NOUN'), (('B', 'ADJ'), ('B', 'NOUN'))],\n",
       " [('but', 'CONJ'), (('that', 'DET'), ('that', 'ADP'))],\n",
       " [('to', 'PRT'), (('13.1', 'ADJ'), ('13.1', 'NUM'))],\n",
       " [('two', 'NUM'), (('champions', 'ADJ'), ('champions', 'NOUN'))],\n",
       " [('champions', 'NOUN'), (('sitting', 'ADJ'), ('sitting', 'VERB'))],\n",
       " [('sitting', 'VERB'), (('right', 'NOUN'), ('right', 'ADJ'))],\n",
       " [('gained', 'VERB'), (('1.39', 'ADJ'), ('1.39', 'NUM'))],\n",
       " [('to', 'PRT'), (('446.62', 'ADJ'), ('446.62', 'NUM'))],\n",
       " [('something', 'NOUN'), (('structurally', 'ADJ'), ('structurally', 'ADV'))],\n",
       " [('and', 'CONJ'), (('radically', 'ADJ'), ('radically', 'ADV'))],\n",
       " [('shut', 'VERB'), (('down', 'ADV'), ('down', 'PRT'))],\n",
       " [('They', 'PRON'), (('view', 'NOUN'), ('view', 'VERB'))],\n",
       " [('area', 'NOUN'), (('so', 'ADV'), ('so', 'ADP'))],\n",
       " [('Richard', 'NOUN'), (('Olsen', 'ADJ'), ('Olsen', 'NOUN'))],\n",
       " [('purchase', 'NOUN'), (('plans', 'VERB'), ('plans', 'NOUN'))],\n",
       " [('totaled', 'VERB'), (('1.916', 'ADJ'), ('1.916', 'NUM'))],\n",
       " [('from', 'ADP'), (('1.637', 'ADJ'), ('1.637', 'NUM'))],\n",
       " [('concept', 'NOUN'), (('begot', 'ADJ'), ('begot', 'VERB'))],\n",
       " [('a', 'DET'), (('slew', 'ADJ'), ('slew', 'NOUN'))],\n",
       " [('of', 'ADP'), (('copycats', 'ADJ'), ('copycats', 'NOUN'))],\n",
       " [('with', 'ADP'), (('blue-chips', 'ADJ'), ('blue-chips', 'NOUN'))],\n",
       " [('blue-chips', 'NOUN'), (('bearing', 'NOUN'), ('bearing', 'VERB'))],\n",
       " [('the', 'DET'), (('brunt', 'ADJ'), ('brunt', 'NOUN'))],\n",
       " [('issue', 'NOUN'), (('disturbs', 'ADJ'), ('disturbs', 'VERB'))],\n",
       " [('did', 'VERB'), (('*T*-97', 'ADJ'), ('*T*-97', 'X'))],\n",
       " [('your', 'PRON'), (('gut', 'ADJ'), ('gut', 'NOUN'))],\n",
       " [('The', 'DET'), (('preferred', 'ADJ'), ('preferred', 'VERB'))],\n",
       " [('each', 'DET'), (('preferred', 'ADJ'), ('preferred', 'VERB'))],\n",
       " [('.', '.'), (('Legislation', 'ADJ'), ('Legislation', 'NOUN'))],\n",
       " [('is', 'VERB'), (('ensnarled', 'ADJ'), ('ensnarled', 'VERB'))],\n",
       " [('cutting', 'VERB'), (('capital-gains', 'NOUN'), ('capital-gains', 'ADJ'))],\n",
       " [('*-1', 'X'), (('Citing', 'ADJ'), ('Citing', 'VERB'))],\n",
       " [('no', 'DET'), (('one', 'NUM'), ('one', 'NOUN'))],\n",
       " [('Rudolph', 'NOUN'), (('Agnew', 'ADJ'), ('Agnew', 'NOUN'))],\n",
       " [('is', 'VERB'), (('sweeping', 'ADJ'), ('sweeping', 'VERB'))],\n",
       " [('the', 'DET'), (('very', 'ADV'), ('very', 'ADJ'))],\n",
       " [('very', 'ADJ'), (('building', 'VERB'), ('building', 'NOUN'))],\n",
       " [('*ICH*-4', 'X'), (('that', 'ADP'), ('that', 'DET'))],\n",
       " [('What', 'PRON'), (('*T*-42', 'ADJ'), ('*T*-42', 'X'))],\n",
       " [('*T*-42', 'X'), (('saved', 'ADJ'), ('saved', 'VERB'))],\n",
       " [('to', 'PRT'), (('reclaim', 'ADJ'), ('reclaim', 'VERB'))],\n",
       " [('``', '.'), (('mortgaged', 'ADJ'), ('mortgaged', 'VERB'))],\n",
       " [(',', '.'), (('more', 'ADV'), ('more', 'ADJ'))],\n",
       " [('will', 'VERB'), (('worsen', 'ADJ'), ('worsen', 'VERB'))],\n",
       " [('it', 'PRON'), (('bid', 'NOUN'), ('bid', 'VERB'))],\n",
       " [('separate', 'ADJ'), (('public', 'NOUN'), ('public', 'ADJ'))],\n",
       " [('It', 'PRON'), (('shed', 'ADJ'), ('shed', 'VERB'))],\n",
       " [('to', 'PRT'), (('tender', 'NOUN'), ('tender', 'VERB'))],\n",
       " [('numerous', 'ADJ'), (('occurrences', 'ADJ'), ('occurrences', 'NOUN'))],\n",
       " [('teacher', 'NOUN'), (('help', 'VERB'), ('help', 'NOUN'))],\n",
       " [('is', 'VERB'), (('revising', 'ADJ'), ('revising', 'VERB'))],\n",
       " [(',', '.'), (('portray', 'ADJ'), ('portray', 'VERB'))],\n",
       " [('the', 'DET'), (('Neanderthals', 'ADJ'), ('Neanderthals', 'NOUN'))],\n",
       " [('the', 'DET'), (('gamut', 'ADJ'), ('gamut', 'NOUN'))],\n",
       " [('a', 'DET'), (('blender', 'ADJ'), ('blender', 'NOUN'))],\n",
       " [('to', 'PRT'), (('chairs', 'ADJ'), ('chairs', 'NOUN'))],\n",
       " [('for', 'ADP'), (('witches', 'ADJ'), ('witches', 'NOUN'))],\n",
       " [('convenient', 'ADJ'), (('boogieman', 'ADJ'), ('boogieman', 'NOUN'))],\n",
       " [('firm', 'NOUN'), (('that', 'ADP'), ('that', 'DET'))],\n",
       " [('*U*', 'X'), (('fund', 'VERB'), ('fund', 'NOUN'))],\n",
       " [('fund', 'NOUN'), (('that', 'ADP'), ('that', 'DET'))],\n",
       " [('boost', 'VERB'), (('sagging', 'ADJ'), ('sagging', 'VERB'))],\n",
       " [('employee', 'NOUN'), (('morale', 'ADJ'), ('morale', 'NOUN'))],\n",
       " [('Institution', 'NOUN'), (('off', 'PRT'), ('off', 'ADP'))],\n",
       " [('Donald', 'NOUN'), (('Anderson', 'ADJ'), ('Anderson', 'NOUN'))],\n",
       " [('``', '.'), (('fluctuations', 'ADJ'), ('fluctuations', 'NOUN'))],\n",
       " [('the', 'DET'), (('heebie-jeebies', 'ADJ'), ('heebie-jeebies', 'NOUN'))],\n",
       " [('see', 'VERB'), (('much', 'ADV'), ('much', 'ADJ'))],\n",
       " [('much', 'ADJ'), (('point', 'VERB'), ('point', 'NOUN'))],\n",
       " [('*', 'X'), (('outlawing', 'ADJ'), ('outlawing', 'VERB'))],\n",
       " [('to', 'PRT'), (('recruit', 'ADJ'), ('recruit', 'VERB'))],\n",
       " [('prominent', 'ADJ'), (('doctors', 'ADJ'), ('doctors', 'NOUN'))],\n",
       " [('the', 'DET'), (('helm', 'ADJ'), ('helm', 'NOUN'))],\n",
       " [('the', 'DET'), (('Centers', 'ADJ'), ('Centers', 'NOUN'))],\n",
       " [('for', 'ADP'), (('Disease', 'ADJ'), ('Disease', 'NOUN'))],\n",
       " [('Disease', 'NOUN'), (('Control', 'ADJ'), ('Control', 'NOUN'))],\n",
       " [('.', '.'), (('So', 'ADV'), ('So', 'ADP'))],\n",
       " [('$', '.'), (('28.25', 'ADJ'), ('28.25', 'NUM'))],\n",
       " [('to', 'PRT'), (('oust', 'ADJ'), ('oust', 'VERB'))],\n",
       " [('of', 'ADP'), (('Datapoint', 'ADJ'), ('Datapoint', 'NOUN'))],\n",
       " [('.', '.'), (('Financial', 'NOUN'), ('Financial', 'ADJ'))],\n",
       " [('often', 'ADV'), (('urge', 'ADJ'), ('urge', 'VERB'))],\n",
       " [('a', 'DET'), (('smattering', 'ADJ'), ('smattering', 'NOUN'))],\n",
       " [('which', 'DET'), (('*T*-194', 'ADJ'), ('*T*-194', 'X'))],\n",
       " [('no', 'DET'), (('relation', 'ADJ'), ('relation', 'NOUN'))],\n",
       " [('can', 'VERB'), (('generate', 'ADJ'), ('generate', 'VERB'))],\n",
       " [('U.S.', 'NOUN'), (('Generalized', 'ADJ'), ('Generalized', 'NOUN'))],\n",
       " [('of', 'ADP'), (('Preferences', 'ADJ'), ('Preferences', 'NOUN'))]]"
      ]
     },
     "execution_count": 23,
     "metadata": {},
     "output_type": "execute_result"
    }
   ],
   "source": [
    "incorrect_tagged_cases = [[test_run_base[i-1],j] for i, j in enumerate(zip(tagged_seq, test_run_base)) if j[0]!=j[1]]\n",
    "print(len(incorrect_tagged_cases))\n",
    "incorrect_tagged_cases"
   ]
  },
  {
   "cell_type": "markdown",
   "metadata": {},
   "source": [
    "Let us now find out the proportion of unknown words(words that were not present in the training data but are in test data) in the incorrect cases. For this let us first find out unknown words."
   ]
  },
  {
   "cell_type": "code",
   "execution_count": 24,
   "metadata": {},
   "outputs": [
    {
     "name": "stdout",
     "output_type": "stream",
     "text": [
      "Total Unknown words : 283\n",
      "\n",
      "\n",
      "#############################################################################################################################\n",
      "\n",
      "\n",
      "Unknown Words\n",
      "['Mount', 'Barbaresco', 'assert', 'Gottlieb', 'doctors', 'Yorker', 'distributed', 'Disease', '*-129', 'unethical', 'CTBS', 'Doak', 'Companies', 'incorporated', 'S.p.A.', 'Observing', 'Control', 'Johnson-era', 'unfunded', 'unleashed', 'Blackstone', 'Hurley', 'cardiovascular', 'sub-markets', 'Neanderthals', 'radically', 'sitting', 'possessed', 'diabetes', 'Berlin', 'inside', 'pre-approved', 'Danzig', 'Newspapers', 'twinned', 'deprived', '77.70', 'aspires', 'Rogers', 'witches', 'toy', 'nonfinancial', 'whimsical', 'anti-takeover', 'Notes', 'uncanny', 'B', 'recruit', 'depends', 'portray', 'noncompetitively', '1.39', 'fifth-largest', 'mortgaged', 'ON', 'stirrings', 'heebie-jeebies', 'Legislation', '*-161', 'worsen', 'sufficient', 'Varying', 'Solaia', 'deteriorated', 'Midwesco', 'bank-backed', 'powerhouse', '*T*-194', '23.72', 'Filter', 'price-support', '1.916', 'slew', '1.637', '154.2', 'lacked', 'prostitute', 'systematic', 'raw', '11,390,000', 'Preferences', 'Chadha', 'copycats', 'indirect', 'INTERPUBLIC', 'tactics', 'Thousands', 'chairs', 'sidewalk', 'begot', '37-a-share', 'malnutrition', 'courage', 'external', '730', '*T*-244', 'generated', 'structurally', 'kidnapping', 'recalling', 'Clemens', '2.875', 'unworkable', 'urge', 'aftereffects', 'chopped', 'chest', 'refinery', 'Piero', 'Tassinari', 'ensnarled', 'mend', 'Antinori', 'Ensrud', 'Possible', 'Citing', 'degenerative', 'Angelo', '492', 'tip', 'relation', 'reprove', '353', 'Centers', 'tightening', 'highway', 'Miguel', '830,000', 'Opinion', 'vetoes', 'safe', '13.1', 'bulls', 'expenditures', 'disaster', 'oust', 'Jay', 'Alurralde', 'high-flying', 'transplantation', 'humans', 'gamut', 'transcribe', 'disturbs', 'saved', 'sport-utility', 'paperback', 'Gaja', 'Huntington', 'Packaging', 'Rey\\\\/Fawcett', 'third-largest', 'mandates', '*T*-135', 'specialize', '*T*-258', '*T*-42', 'advisory', 'multinationals', '7.15', 'state-supervised', 'reclaim', 'prejudice', 'Continuing', 'Explorer', 'definitive', 'unpleasant', 'Polytechnic', 'shed', 'counterattack', '*T*-237', 'INS', 'endorse', '*T*-97', 'pricings', 'Datapoint', 'gut', 'picked', 'sagging', '28.25', 'syndicate', '59-year-old', 'Chuck', 'A.D.', 'blames', 'Filling', 'upstream', 'shadows', 'fled', 'impartial', '191.9', 'blender', 'life-style', 'History', 'Ballantine\\\\/Del', 'Chinese-American', 'Barfield', 'conducted', 'warehouses', '12.97', 'helm', 'Langner', 'Anderson', 'non-U.S.', 'fluctuations', 'expectation', 'exhibited', 'Generalized', '446.62', 'sociology', 'firings', 'offerings', 'appointed', 'Proponents', 'repay', 'short-wave', 'infectious', 'drawbacks', 'Negotiable', 'occurrences', 'warehousing', 'reversed', 'unitholders', '4.55', 'achieving', '*-24', 'boogieman', 'smattering', 'punishment', 'brunt', 'derivatives', 'higher-salaried', 'sometimes-tawdry', 'chilled', 'interventions', 'peaked', 'Assurance', 'revising', '*T*-86', 'Agnew', 'white-collar', 'wrenching', 'blue-chips', 'restricting', 'Insight', '570', '77.56', 'Choose', 'demonstrating', 'assaults', 'Shrum', 'outlawing', 'applicability', 'get-out-the-vote', 'commenting', 'demands', 'families', 'old-fashioned', 'juvenile', 'Goldinger', '*-121', 'generate', 'Olsen', 'Ad', 'Judiciary', 'morale', 'summoned', 'saving', 'enviable', 'photographic', 'limbo', 'champions', 'ordeal', 'communications', 'troop', 'responsive', 'acquires', 'dawn', 'free-lance', 'centralized', 'manages', 'close-up', 'hospitable']\n"
     ]
    }
   ],
   "source": [
    "# Unknown words \n",
    "test_vocabulary_set = set([t for t in test_tagged_words])\n",
    "\n",
    "unknown_words = list(test_vocabulary_set - training_vocabulary_set)\n",
    "print(\"Total Unknown words :\", len(unknown_words))\n",
    "print('\\n')\n",
    "print('#'*125)\n",
    "print('\\n')\n",
    "print(\"Unknown Words\")\n",
    "print(unknown_words)"
   ]
  },
  {
   "cell_type": "markdown",
   "metadata": {},
   "source": [
    "## Solve the problem of Unknown Words"
   ]
  },
  {
   "cell_type": "markdown",
   "metadata": {},
   "source": [
    "> Let's try to improve the POS Tagging using the following approaches :"
   ]
  },
  {
   "cell_type": "markdown",
   "metadata": {},
   "source": [
    "### Unigram Tagger"
   ]
  },
  {
   "cell_type": "code",
   "execution_count": 25,
   "metadata": {},
   "outputs": [],
   "source": [
    "unigram_tagger = nltk.UnigramTagger(train_set)"
   ]
  },
  {
   "cell_type": "markdown",
   "metadata": {},
   "source": [
    "#### Evaluating tagging accuracy"
   ]
  },
  {
   "cell_type": "code",
   "execution_count": 26,
   "metadata": {},
   "outputs": [
    {
     "name": "stdout",
     "output_type": "stream",
     "text": [
      "Accuracy of the Unigram Tagger is :  0.9099445155783183\n"
     ]
    }
   ],
   "source": [
    "unigram_tagger_accuracy = unigram_tagger.evaluate(test_set)\n",
    "print(\"Accuracy of the Unigram Tagger is : \", unigram_tagger_accuracy)"
   ]
  },
  {
   "cell_type": "markdown",
   "metadata": {},
   "source": [
    "Let's now try combining the unigram tagger with a rule based regex tagger."
   ]
  },
  {
   "cell_type": "markdown",
   "metadata": {},
   "source": [
    "### Regex rules based tagger "
   ]
  },
  {
   "cell_type": "code",
   "execution_count": 27,
   "metadata": {},
   "outputs": [],
   "source": [
    "# patterns for tagging using a rule based regex tagger -\n",
    "patterns = [\n",
    "    (r'^[aA-zZ].*[0-9]+','NOUN'),  # Alpha Numeric\n",
    "    (r'.*ness$', 'NOUN'),\n",
    "    (r'.*\\'s$', 'NOUN'),              # possessive nouns\n",
    "    (r'.*s$', 'NOUN'),                # plural nouns\n",
    "    (r'.*', 'NOUN'),    \n",
    "    (r'.*ly$', 'ADV'),\n",
    "    (r'^(0|([*|-|$].*))','X'), # Any special character combination\n",
    "    (r'.*ould$', 'X'), # modals\n",
    "    (r'(The|the|A|a|An|an)$', 'DET'),\n",
    "    (r'^([0-9]|[aA-zZ])+\\-[aA-zZ]*$','ADJ'),\n",
    "    (r'.*able$', 'ADJ'), # adjective like 100-megabytes 237-Seats\n",
    "    (r'[aA-zZ]+(ed|ing|es)$', 'VERB'), # Any word ending with 'ing' or 'ed' is a verb\n",
    "    (r'[0-9].?[,\\/]?[0-9]*','NUM')# Numbers \n",
    "    ]"
   ]
  },
  {
   "cell_type": "code",
   "execution_count": 28,
   "metadata": {},
   "outputs": [],
   "source": [
    "# rule based RegexpTagger\n",
    "\n",
    "rule_based_tagger = nltk.RegexpTagger(patterns)\n",
    "\n",
    "# unigram tagger backed up by the rule-based tagger\n",
    "rule_based_unigram_tagger = nltk.UnigramTagger(train_set, backoff = rule_based_tagger)"
   ]
  },
  {
   "cell_type": "markdown",
   "metadata": {},
   "source": [
    "#### Evaluating tagging accuracy"
   ]
  },
  {
   "cell_type": "code",
   "execution_count": 29,
   "metadata": {},
   "outputs": [
    {
     "name": "stdout",
     "output_type": "stream",
     "text": [
      "Accuracy of the Unigram Tagger backed up by the RegexpTagger is : 0.939820742637644\n"
     ]
    }
   ],
   "source": [
    "accuracy_rule_based_unigram_tagger = rule_based_unigram_tagger.evaluate(test_set)\n",
    "\n",
    "print(\"Accuracy of the Unigram Tagger backed up by the RegexpTagger is :\", accuracy_rule_based_unigram_tagger)"
   ]
  },
  {
   "cell_type": "markdown",
   "metadata": {},
   "source": [
    "Lets try to improve the Unigram Tagger by using bigram tagger."
   ]
  },
  {
   "cell_type": "markdown",
   "metadata": {},
   "source": [
    "### Bigram Tagger"
   ]
  },
  {
   "cell_type": "code",
   "execution_count": 30,
   "metadata": {},
   "outputs": [
    {
     "data": {
      "text/plain": [
       "0.9440887750746906"
      ]
     },
     "execution_count": 30,
     "metadata": {},
     "output_type": "execute_result"
    }
   ],
   "source": [
    "# Bigram tagger\n",
    "\n",
    "bigram_tagger = nltk.BigramTagger(train_set, backoff = rule_based_unigram_tagger)\n",
    "bigram_tagger.evaluate(test_set)"
   ]
  },
  {
   "cell_type": "markdown",
   "metadata": {},
   "source": [
    "#### Evaluating tagging accuracy"
   ]
  },
  {
   "cell_type": "code",
   "execution_count": 31,
   "metadata": {},
   "outputs": [
    {
     "name": "stdout",
     "output_type": "stream",
     "text": [
      "The accuracy of the Bigram Tagger backed up by the rule_based_unigram_tagger is : 0.9440887750746906\n"
     ]
    }
   ],
   "source": [
    "accuracy_bigram_tagger = bigram_tagger.evaluate(test_set)\n",
    "print(\"The accuracy of the Bigram Tagger backed up by the rule_based_unigram_tagger is :\", accuracy_bigram_tagger)"
   ]
  },
  {
   "cell_type": "markdown",
   "metadata": {},
   "source": [
    "Let us now see if there are any improvements using the trigram tagger."
   ]
  },
  {
   "cell_type": "markdown",
   "metadata": {},
   "source": [
    "### Trigram Tagger"
   ]
  },
  {
   "cell_type": "code",
   "execution_count": 32,
   "metadata": {},
   "outputs": [
    {
     "data": {
      "text/plain": [
       "0.9415279556124626"
      ]
     },
     "execution_count": 32,
     "metadata": {},
     "output_type": "execute_result"
    }
   ],
   "source": [
    "# trigram tagger\n",
    "\n",
    "trigram_tagger = nltk.TrigramTagger(train_set, backoff = bigram_tagger)\n",
    "trigram_tagger.evaluate(test_set)"
   ]
  },
  {
   "cell_type": "markdown",
   "metadata": {},
   "source": [
    "#### Evaluating tagging accuracy"
   ]
  },
  {
   "cell_type": "code",
   "execution_count": 33,
   "metadata": {},
   "outputs": [
    {
     "name": "stdout",
     "output_type": "stream",
     "text": [
      "The accuracy of the Trigram Tagger backed up by the bigram_tagger is : 0.9415279556124626\n"
     ]
    }
   ],
   "source": [
    "accuracy_trigram_tagger = trigram_tagger.evaluate(test_set)\n",
    "print(\"The accuracy of the Trigram Tagger backed up by the bigram_tagger is :\", accuracy_trigram_tagger)"
   ]
  },
  {
   "cell_type": "markdown",
   "metadata": {},
   "source": [
    "### Modified Viterbi using trigram tagger as backoff"
   ]
  },
  {
   "cell_type": "markdown",
   "metadata": {},
   "source": [
    "Above we have seen that the Trigram Tagger backed up by the bigram tagger gives an accuracy of about 94.8%.\n",
    "Let us try using the trigram tagger as a backoff for the viterbi algorithm, in case of no matches for the trigram tagger, it will use the rule based tagger."
   ]
  },
  {
   "cell_type": "code",
   "execution_count": 34,
   "metadata": {},
   "outputs": [],
   "source": [
    "# A trigram tagger backed off by a rule based tagger.\n",
    "\n",
    "def trigram_tagger(word, train_set = train_set):\n",
    "    \n",
    "    patterns = [\n",
    "    (r'[aA-zZ]+(ed|ing|es)$', 'VERB'), # Any word ending with 'ing' or 'ed' is a verb\n",
    "\n",
    "    (r'.*ly$', 'ADV'),\n",
    "        \n",
    "    (r'^([0-9]|[aA-zZ])+\\-[aA-zZ]*$','ADJ'),\n",
    "    (r'.*able$', 'ADJ'), \n",
    "    (r'.*ful$', 'ADJ'),\n",
    "    (r'.*ous$', 'ADJ'),\n",
    "        \n",
    "    (r'^[aA-zZ].*[0-9]+','NOUN'),     # Alpha Numeric\n",
    "    (r'.*ness$', 'NOUN'),\n",
    "    (r'.*\\'s$', 'NOUN'),              # possessive nouns - words ending with 's\n",
    "    (r'.*s$', 'NOUN'),                # plural nouns\n",
    "    (r'.*ers$', 'NOUN'),              # eg.- kinderganteners, autobioghapgers\n",
    "    (r'.*ment$', 'NOUN'),\n",
    "    (r'.*town$', 'NOUN'),\n",
    "        \n",
    "    (r'^(0|([*|-|$].*))','X'), # Any special character combination\n",
    "    (r'.*ould$', 'X'),\n",
    "        \n",
    "    (r'(The|the|A|a|An|an|That|that|This|this|Those|those|These|these)$', 'DET'), # That/this/these/those belong to the category of Demonstrative determiners\n",
    "    (r'[0-9].?[,\\/]?[0-9]*','NUM'), # Numbers \n",
    "        \n",
    "    (r'.*', 'NOUN')\n",
    "    ]\n",
    "\n",
    "    regex_based_tagger = nltk.RegexpTagger(patterns)\n",
    "\n",
    "    # trigram backed off by the regex tagger\n",
    "    trigram_regex_tagger = nltk.TrigramTagger(train_set, backoff = regex_based_tagger)\n",
    "    return trigram_regex_tagger.tag_sents([[(word)]])"
   ]
  },
  {
   "cell_type": "code",
   "execution_count": 35,
   "metadata": {},
   "outputs": [],
   "source": [
    "def viterbi_backedup_by_trigram_tagger(words, train_bag = train_tagged_words):\n",
    "    state = []\n",
    "    tag_set = list(set([pair[1] for pair in train_bag]))\n",
    "    \n",
    "    # use the trigram tagger backed up by the rule based tagger\n",
    "    # for unknown words.\n",
    "    for key, word in enumerate(words):\n",
    "        if word not in training_vocabulary_set:\n",
    "            unknown_word_tag = trigram_tagger(word)\n",
    "            for sent in unknown_word_tag:\n",
    "                for tup in sent:\n",
    "                    state.append(tup[1])\n",
    "        else:            \n",
    "            p = [] \n",
    "            for tag in tag_set:\n",
    "                if key == 0:\n",
    "                    transition_p = tags_df.loc['.', tag]\n",
    "                else:\n",
    "                    transition_p = tags_df.loc[state[-1], tag]\n",
    "                \n",
    "            # compute emission and state probabilities\n",
    "                emission_p = word_given_tag(words[key], tag)[0]/word_given_tag(words[key], tag)[1]\n",
    "                state_probability = emission_p * transition_p    \n",
    "                p.append(state_probability)\n",
    "            \n",
    "            pmax = max(p)\n",
    "            # getting state for which probability is maximum\n",
    "            state_max = tag_set[p.index(pmax)] \n",
    "            state.append(state_max)\n",
    "    return list(zip(words, state))"
   ]
  },
  {
   "cell_type": "code",
   "execution_count": 36,
   "metadata": {},
   "outputs": [],
   "source": [
    "# tagging the test sentences\n",
    "viterbi_trigram_tagged_seq = viterbi_backedup_by_trigram_tagger(test_tagged_words)"
   ]
  },
  {
   "cell_type": "markdown",
   "metadata": {},
   "source": [
    "#### Evaluating tagging accuracy"
   ]
  },
  {
   "cell_type": "code",
   "execution_count": 37,
   "metadata": {},
   "outputs": [
    {
     "name": "stdout",
     "output_type": "stream",
     "text": [
      "The accuracy of the Viterbi backed up by Trigram tagger is : 0.9590268886043534\n"
     ]
    }
   ],
   "source": [
    "# accuracy\n",
    "viterbi_trigram_word_check = [i for i, j in zip(viterbi_trigram_tagged_seq, test_run_base) if i == j]\n",
    "\n",
    "viterbi_trigram_accuracy = len(viterbi_trigram_word_check)/len(viterbi_trigram_tagged_seq)\n",
    "\n",
    "print(\"The accuracy of the Viterbi backed up by Trigram tagger is :\", viterbi_trigram_accuracy)"
   ]
  },
  {
   "cell_type": "markdown",
   "metadata": {},
   "source": [
    "We have seen that the Vanilla Viterbi Algorithm had the accuracy as 92.2% whereas our Viterbi Algorithm backed up Trigram Tagger achieves an accuracy of 95.9%."
   ]
  },
  {
   "cell_type": "markdown",
   "metadata": {},
   "source": [
    "### Modified Viterbi using only transition probabilities for Unknown Words."
   ]
  },
  {
   "cell_type": "markdown",
   "metadata": {},
   "source": [
    "The Vanilla viterbi algorithm achieved an accuracy of about 92.2%. The cause of this 8% accuracy loss is mainly the case when the algorithm encountered unknown words i.e. words which were not present in the training set such as 'Twitter' etc.\n",
    "For such words, the algorithm assigned an incorrect tag arbitarily. The reason beyond this is that the emission probabilities for unknown words for all tags is zero and thus the algorithm chooses the first tag which isn't a smart guess. Now, we need to find out a way to resolve this accuracy trade off for the unknown words.\n",
    "\n",
    "Let's modify the vanilla viterbi algorithm in a way that if a word isn't present in the training vocabulary, it's emission probabilities will be zero and thus we can use transition probability and ignore the emission probability.\n",
    "\n",
    "Let's define the algorithm more formally as: \n",
    "\n",
    "If Word is Unknown <br>\n",
    "\n",
    "- Consider only Transition Probabilty\n",
    "\n",
    "Else\n",
    "\n",
    "- Consider both the Emission and Transition probability."
   ]
  },
  {
   "cell_type": "code",
   "execution_count": 38,
   "metadata": {},
   "outputs": [],
   "source": [
    "# Modified Viterbi Heuristic\n",
    "def Vanilla_Viterbi_for_Unknown_Words(words, train_bag = train_tagged_words):\n",
    "    state = []\n",
    "    T = list(set([pair[1] for pair in train_bag]))\n",
    "    \n",
    "    for key, word in enumerate(words):\n",
    "        #initialise list of probability column for a given observation\n",
    "        p = [] \n",
    "        for tag in T:\n",
    "            if key == 0:\n",
    "                transition_p = tags_df.loc['.', tag]\n",
    "            else:\n",
    "                transition_p = tags_df.loc[state[-1], tag]\n",
    "                \n",
    "            # compute emission and state probabilities\n",
    "            emission_p = word_given_tag(words[key], tag)[0]/word_given_tag(words[key], tag)[1]\n",
    "            \n",
    "            # modification to the original vanilla viterbi algorithm \n",
    "            # to consider unknown words\n",
    "            if word not in training_vocabulary_set:\n",
    "                state_probability = transition_p\n",
    "            else:\n",
    "                state_probability = emission_p * transition_p\n",
    "                \n",
    "            p.append(state_probability)\n",
    "            \n",
    "        pmax = max(p)\n",
    "        # getting state for which probability is maximum\n",
    "        state_max = T[p.index(pmax)] \n",
    "        state.append(state_max)\n",
    "    return list(zip(words, state))"
   ]
  },
  {
   "cell_type": "code",
   "execution_count": 39,
   "metadata": {},
   "outputs": [],
   "source": [
    "# tagging the test sentences\n",
    "unknown_word_tagged_seq = Vanilla_Viterbi_for_Unknown_Words(test_tagged_words)"
   ]
  },
  {
   "cell_type": "markdown",
   "metadata": {},
   "source": [
    "#### Evaluating tagging accuracy"
   ]
  },
  {
   "cell_type": "code",
   "execution_count": 40,
   "metadata": {},
   "outputs": [
    {
     "name": "stdout",
     "output_type": "stream",
     "text": [
      "Accuracy of the Vanilla Viterbi Algorithm using only transition probability for Unknown words :  0.9466495945369184\n"
     ]
    }
   ],
   "source": [
    "# accuracy\n",
    "unknown_word_check = [i for i, j in zip(unknown_word_tagged_seq, test_run_base) if i == j]\n",
    "\n",
    "optimized_viterbi_accuracy = len(unknown_word_check)/len(unknown_word_tagged_seq)\n",
    "\n",
    "print(\"Accuracy of the Vanilla Viterbi Algorithm using only transition probability for Unknown words : \", optimized_viterbi_accuracy)"
   ]
  },
  {
   "cell_type": "markdown",
   "metadata": {},
   "source": [
    "Our modification of using Viterbi Algorithm with only transition probability in case of unknown words results in 94.6% accuracy which is better than the Vanilla Viterbi Algorithm which has 92.2.% accuracy."
   ]
  },
  {
   "cell_type": "markdown",
   "metadata": {},
   "source": [
    "### Compare the tagging accuracies of the modifications with the vanilla Viterbi algorithm"
   ]
  },
  {
   "cell_type": "markdown",
   "metadata": {},
   "source": [
    "Lets evaluate our different pos taggers on the test set that we initially created out of Penn Treebank Dataset."
   ]
  },
  {
   "cell_type": "code",
   "execution_count": 52,
   "metadata": {},
   "outputs": [
    {
     "data": {
      "text/html": [
       "<div>\n",
       "<style scoped>\n",
       "    .dataframe tbody tr th:only-of-type {\n",
       "        vertical-align: middle;\n",
       "    }\n",
       "\n",
       "    .dataframe tbody tr th {\n",
       "        vertical-align: top;\n",
       "    }\n",
       "\n",
       "    .dataframe thead th {\n",
       "        text-align: right;\n",
       "    }\n",
       "</style>\n",
       "<table border=\"1\" class=\"dataframe\">\n",
       "  <thead>\n",
       "    <tr style=\"text-align: right;\">\n",
       "      <th></th>\n",
       "      <th>Tagging_Algorithm</th>\n",
       "      <th>Tagging_Accuracy</th>\n",
       "    </tr>\n",
       "  </thead>\n",
       "  <tbody>\n",
       "    <tr>\n",
       "      <th>0</th>\n",
       "      <td>Vanilla Viterbi</td>\n",
       "      <td>92.30</td>\n",
       "    </tr>\n",
       "    <tr>\n",
       "      <th>1</th>\n",
       "      <td>Optimized Vanilla Viterbi</td>\n",
       "      <td>94.66</td>\n",
       "    </tr>\n",
       "    <tr>\n",
       "      <th>2</th>\n",
       "      <td>Unigram Tagger</td>\n",
       "      <td>90.99</td>\n",
       "    </tr>\n",
       "    <tr>\n",
       "      <th>3</th>\n",
       "      <td>Unigram + RegexpTagger</td>\n",
       "      <td>93.98</td>\n",
       "    </tr>\n",
       "    <tr>\n",
       "      <th>4</th>\n",
       "      <td>Bigram Tagger + Unigram_tagger</td>\n",
       "      <td>94.41</td>\n",
       "    </tr>\n",
       "    <tr>\n",
       "      <th>5</th>\n",
       "      <td>Trigram Tagger + Bigram_tagger</td>\n",
       "      <td>94.15</td>\n",
       "    </tr>\n",
       "    <tr>\n",
       "      <th>6</th>\n",
       "      <td>Viterbi + Trigram_tagger</td>\n",
       "      <td>95.90</td>\n",
       "    </tr>\n",
       "  </tbody>\n",
       "</table>\n",
       "</div>"
      ],
      "text/plain": [
       "                Tagging_Algorithm  Tagging_Accuracy\n",
       "0                 Vanilla Viterbi             92.30\n",
       "1       Optimized Vanilla Viterbi             94.66\n",
       "2                  Unigram Tagger             90.99\n",
       "3          Unigram + RegexpTagger             93.98\n",
       "4  Bigram Tagger + Unigram_tagger             94.41\n",
       "5  Trigram Tagger + Bigram_tagger             94.15\n",
       "6        Viterbi + Trigram_tagger             95.90"
      ]
     },
     "execution_count": 52,
     "metadata": {},
     "output_type": "execute_result"
    }
   ],
   "source": [
    "accuracy_data = [['Vanilla Viterbi', vanilla_viterbi_accuracy*100], \n",
    "                  ['Optimized Vanilla Viterbi', optimized_viterbi_accuracy*100], \n",
    "                  ['Unigram Tagger', unigram_tagger_accuracy*100],\n",
    "                  ['Unigram + RegexpTagger', accuracy_rule_based_unigram_tagger*100],\n",
    "                  ['Bigram Tagger + Unigram_tagger', accuracy_bigram_tagger*100],\n",
    "                  ['Trigram Tagger + Bigram_tagger', accuracy_trigram_tagger*100],\n",
    "                  ['Viterbi + Trigram_tagger', viterbi_trigram_accuracy*100]]\n",
    "\n",
    "accuracy_data_df = pd.DataFrame(acccuracy_data, columns = ['Tagging_Algorithm', 'Tagging_Accuracy'])\n",
    "accuracy_data_df['Tagging_Accuracy'] = round(accuracy_data_df['Tagging_Accuracy'],2)\n",
    "accuracy_data_df"
   ]
  },
  {
   "cell_type": "code",
   "execution_count": 59,
   "metadata": {},
   "outputs": [
    {
     "data": {
      "application/vnd.plotly.v1+json": {
       "config": {
        "plotlyServerURL": "https://plot.ly"
       },
       "data": [
        {
         "alignmentgroup": "True",
         "hovertemplate": "Tagging_Algorithm=%{x}<br>Tagging_Accuracy=%{marker.color}<extra></extra>",
         "legendgroup": "",
         "marker": {
          "color": [
           92.3,
           94.66,
           90.99,
           93.98,
           94.41,
           94.15,
           95.9
          ],
          "coloraxis": "coloraxis"
         },
         "name": "",
         "offsetgroup": "",
         "orientation": "v",
         "showlegend": false,
         "text": [
          92.3,
          94.66,
          90.99,
          93.98,
          94.41,
          94.15,
          95.9
         ],
         "textposition": "inside",
         "texttemplate": "%{text}%",
         "type": "bar",
         "x": [
          "Vanilla Viterbi",
          "Optimized Vanilla Viterbi",
          "Unigram Tagger",
          "Unigram + RegexpTagger",
          "Bigram Tagger + Unigram_tagger",
          "Trigram Tagger + Bigram_tagger",
          "Viterbi + Trigram_tagger"
         ],
         "xaxis": "x",
         "y": [
          92.3,
          94.66,
          90.99,
          93.98,
          94.41,
          94.15,
          95.9
         ],
         "yaxis": "y"
        }
       ],
       "layout": {
        "barmode": "relative",
        "coloraxis": {
         "colorbar": {
          "title": {
           "text": "Tagging_Accuracy"
          }
         },
         "colorscale": [
          [
           0,
           "#fee838"
          ],
          [
           0.1111111111111111,
           "#e1cc55"
          ],
          [
           0.2222222222222222,
           "#c3b369"
          ],
          [
           0.3333333333333333,
           "#a59c74"
          ],
          [
           0.4444444444444444,
           "#8a8678"
          ],
          [
           0.5555555555555556,
           "#707173"
          ],
          [
           0.6666666666666666,
           "#575d6d"
          ],
          [
           0.7777777777777778,
           "#3b496c"
          ],
          [
           0.8888888888888888,
           "#123570"
          ],
          [
           1,
           "#00224e"
          ]
         ]
        },
        "legend": {
         "tracegroupgap": 0
        },
        "margin": {
         "t": 60
        },
        "template": {
         "data": {
          "bar": [
           {
            "error_x": {
             "color": "#2a3f5f"
            },
            "error_y": {
             "color": "#2a3f5f"
            },
            "marker": {
             "line": {
              "color": "white",
              "width": 0.5
             }
            },
            "type": "bar"
           }
          ],
          "barpolar": [
           {
            "marker": {
             "line": {
              "color": "white",
              "width": 0.5
             }
            },
            "type": "barpolar"
           }
          ],
          "carpet": [
           {
            "aaxis": {
             "endlinecolor": "#2a3f5f",
             "gridcolor": "#C8D4E3",
             "linecolor": "#C8D4E3",
             "minorgridcolor": "#C8D4E3",
             "startlinecolor": "#2a3f5f"
            },
            "baxis": {
             "endlinecolor": "#2a3f5f",
             "gridcolor": "#C8D4E3",
             "linecolor": "#C8D4E3",
             "minorgridcolor": "#C8D4E3",
             "startlinecolor": "#2a3f5f"
            },
            "type": "carpet"
           }
          ],
          "choropleth": [
           {
            "colorbar": {
             "outlinewidth": 0,
             "ticks": ""
            },
            "type": "choropleth"
           }
          ],
          "contour": [
           {
            "colorbar": {
             "outlinewidth": 0,
             "ticks": ""
            },
            "colorscale": [
             [
              0,
              "#0d0887"
             ],
             [
              0.1111111111111111,
              "#46039f"
             ],
             [
              0.2222222222222222,
              "#7201a8"
             ],
             [
              0.3333333333333333,
              "#9c179e"
             ],
             [
              0.4444444444444444,
              "#bd3786"
             ],
             [
              0.5555555555555556,
              "#d8576b"
             ],
             [
              0.6666666666666666,
              "#ed7953"
             ],
             [
              0.7777777777777778,
              "#fb9f3a"
             ],
             [
              0.8888888888888888,
              "#fdca26"
             ],
             [
              1,
              "#f0f921"
             ]
            ],
            "type": "contour"
           }
          ],
          "contourcarpet": [
           {
            "colorbar": {
             "outlinewidth": 0,
             "ticks": ""
            },
            "type": "contourcarpet"
           }
          ],
          "heatmap": [
           {
            "colorbar": {
             "outlinewidth": 0,
             "ticks": ""
            },
            "colorscale": [
             [
              0,
              "#0d0887"
             ],
             [
              0.1111111111111111,
              "#46039f"
             ],
             [
              0.2222222222222222,
              "#7201a8"
             ],
             [
              0.3333333333333333,
              "#9c179e"
             ],
             [
              0.4444444444444444,
              "#bd3786"
             ],
             [
              0.5555555555555556,
              "#d8576b"
             ],
             [
              0.6666666666666666,
              "#ed7953"
             ],
             [
              0.7777777777777778,
              "#fb9f3a"
             ],
             [
              0.8888888888888888,
              "#fdca26"
             ],
             [
              1,
              "#f0f921"
             ]
            ],
            "type": "heatmap"
           }
          ],
          "heatmapgl": [
           {
            "colorbar": {
             "outlinewidth": 0,
             "ticks": ""
            },
            "colorscale": [
             [
              0,
              "#0d0887"
             ],
             [
              0.1111111111111111,
              "#46039f"
             ],
             [
              0.2222222222222222,
              "#7201a8"
             ],
             [
              0.3333333333333333,
              "#9c179e"
             ],
             [
              0.4444444444444444,
              "#bd3786"
             ],
             [
              0.5555555555555556,
              "#d8576b"
             ],
             [
              0.6666666666666666,
              "#ed7953"
             ],
             [
              0.7777777777777778,
              "#fb9f3a"
             ],
             [
              0.8888888888888888,
              "#fdca26"
             ],
             [
              1,
              "#f0f921"
             ]
            ],
            "type": "heatmapgl"
           }
          ],
          "histogram": [
           {
            "marker": {
             "colorbar": {
              "outlinewidth": 0,
              "ticks": ""
             }
            },
            "type": "histogram"
           }
          ],
          "histogram2d": [
           {
            "colorbar": {
             "outlinewidth": 0,
             "ticks": ""
            },
            "colorscale": [
             [
              0,
              "#0d0887"
             ],
             [
              0.1111111111111111,
              "#46039f"
             ],
             [
              0.2222222222222222,
              "#7201a8"
             ],
             [
              0.3333333333333333,
              "#9c179e"
             ],
             [
              0.4444444444444444,
              "#bd3786"
             ],
             [
              0.5555555555555556,
              "#d8576b"
             ],
             [
              0.6666666666666666,
              "#ed7953"
             ],
             [
              0.7777777777777778,
              "#fb9f3a"
             ],
             [
              0.8888888888888888,
              "#fdca26"
             ],
             [
              1,
              "#f0f921"
             ]
            ],
            "type": "histogram2d"
           }
          ],
          "histogram2dcontour": [
           {
            "colorbar": {
             "outlinewidth": 0,
             "ticks": ""
            },
            "colorscale": [
             [
              0,
              "#0d0887"
             ],
             [
              0.1111111111111111,
              "#46039f"
             ],
             [
              0.2222222222222222,
              "#7201a8"
             ],
             [
              0.3333333333333333,
              "#9c179e"
             ],
             [
              0.4444444444444444,
              "#bd3786"
             ],
             [
              0.5555555555555556,
              "#d8576b"
             ],
             [
              0.6666666666666666,
              "#ed7953"
             ],
             [
              0.7777777777777778,
              "#fb9f3a"
             ],
             [
              0.8888888888888888,
              "#fdca26"
             ],
             [
              1,
              "#f0f921"
             ]
            ],
            "type": "histogram2dcontour"
           }
          ],
          "mesh3d": [
           {
            "colorbar": {
             "outlinewidth": 0,
             "ticks": ""
            },
            "type": "mesh3d"
           }
          ],
          "parcoords": [
           {
            "line": {
             "colorbar": {
              "outlinewidth": 0,
              "ticks": ""
             }
            },
            "type": "parcoords"
           }
          ],
          "pie": [
           {
            "automargin": true,
            "type": "pie"
           }
          ],
          "scatter": [
           {
            "marker": {
             "colorbar": {
              "outlinewidth": 0,
              "ticks": ""
             }
            },
            "type": "scatter"
           }
          ],
          "scatter3d": [
           {
            "line": {
             "colorbar": {
              "outlinewidth": 0,
              "ticks": ""
             }
            },
            "marker": {
             "colorbar": {
              "outlinewidth": 0,
              "ticks": ""
             }
            },
            "type": "scatter3d"
           }
          ],
          "scattercarpet": [
           {
            "marker": {
             "colorbar": {
              "outlinewidth": 0,
              "ticks": ""
             }
            },
            "type": "scattercarpet"
           }
          ],
          "scattergeo": [
           {
            "marker": {
             "colorbar": {
              "outlinewidth": 0,
              "ticks": ""
             }
            },
            "type": "scattergeo"
           }
          ],
          "scattergl": [
           {
            "marker": {
             "colorbar": {
              "outlinewidth": 0,
              "ticks": ""
             }
            },
            "type": "scattergl"
           }
          ],
          "scattermapbox": [
           {
            "marker": {
             "colorbar": {
              "outlinewidth": 0,
              "ticks": ""
             }
            },
            "type": "scattermapbox"
           }
          ],
          "scatterpolar": [
           {
            "marker": {
             "colorbar": {
              "outlinewidth": 0,
              "ticks": ""
             }
            },
            "type": "scatterpolar"
           }
          ],
          "scatterpolargl": [
           {
            "marker": {
             "colorbar": {
              "outlinewidth": 0,
              "ticks": ""
             }
            },
            "type": "scatterpolargl"
           }
          ],
          "scatterternary": [
           {
            "marker": {
             "colorbar": {
              "outlinewidth": 0,
              "ticks": ""
             }
            },
            "type": "scatterternary"
           }
          ],
          "surface": [
           {
            "colorbar": {
             "outlinewidth": 0,
             "ticks": ""
            },
            "colorscale": [
             [
              0,
              "#0d0887"
             ],
             [
              0.1111111111111111,
              "#46039f"
             ],
             [
              0.2222222222222222,
              "#7201a8"
             ],
             [
              0.3333333333333333,
              "#9c179e"
             ],
             [
              0.4444444444444444,
              "#bd3786"
             ],
             [
              0.5555555555555556,
              "#d8576b"
             ],
             [
              0.6666666666666666,
              "#ed7953"
             ],
             [
              0.7777777777777778,
              "#fb9f3a"
             ],
             [
              0.8888888888888888,
              "#fdca26"
             ],
             [
              1,
              "#f0f921"
             ]
            ],
            "type": "surface"
           }
          ],
          "table": [
           {
            "cells": {
             "fill": {
              "color": "#EBF0F8"
             },
             "line": {
              "color": "white"
             }
            },
            "header": {
             "fill": {
              "color": "#C8D4E3"
             },
             "line": {
              "color": "white"
             }
            },
            "type": "table"
           }
          ]
         },
         "layout": {
          "annotationdefaults": {
           "arrowcolor": "#2a3f5f",
           "arrowhead": 0,
           "arrowwidth": 1
          },
          "coloraxis": {
           "colorbar": {
            "outlinewidth": 0,
            "ticks": ""
           }
          },
          "colorscale": {
           "diverging": [
            [
             0,
             "#8e0152"
            ],
            [
             0.1,
             "#c51b7d"
            ],
            [
             0.2,
             "#de77ae"
            ],
            [
             0.3,
             "#f1b6da"
            ],
            [
             0.4,
             "#fde0ef"
            ],
            [
             0.5,
             "#f7f7f7"
            ],
            [
             0.6,
             "#e6f5d0"
            ],
            [
             0.7,
             "#b8e186"
            ],
            [
             0.8,
             "#7fbc41"
            ],
            [
             0.9,
             "#4d9221"
            ],
            [
             1,
             "#276419"
            ]
           ],
           "sequential": [
            [
             0,
             "#0d0887"
            ],
            [
             0.1111111111111111,
             "#46039f"
            ],
            [
             0.2222222222222222,
             "#7201a8"
            ],
            [
             0.3333333333333333,
             "#9c179e"
            ],
            [
             0.4444444444444444,
             "#bd3786"
            ],
            [
             0.5555555555555556,
             "#d8576b"
            ],
            [
             0.6666666666666666,
             "#ed7953"
            ],
            [
             0.7777777777777778,
             "#fb9f3a"
            ],
            [
             0.8888888888888888,
             "#fdca26"
            ],
            [
             1,
             "#f0f921"
            ]
           ],
           "sequentialminus": [
            [
             0,
             "#0d0887"
            ],
            [
             0.1111111111111111,
             "#46039f"
            ],
            [
             0.2222222222222222,
             "#7201a8"
            ],
            [
             0.3333333333333333,
             "#9c179e"
            ],
            [
             0.4444444444444444,
             "#bd3786"
            ],
            [
             0.5555555555555556,
             "#d8576b"
            ],
            [
             0.6666666666666666,
             "#ed7953"
            ],
            [
             0.7777777777777778,
             "#fb9f3a"
            ],
            [
             0.8888888888888888,
             "#fdca26"
            ],
            [
             1,
             "#f0f921"
            ]
           ]
          },
          "colorway": [
           "#636efa",
           "#EF553B",
           "#00cc96",
           "#ab63fa",
           "#FFA15A",
           "#19d3f3",
           "#FF6692",
           "#B6E880",
           "#FF97FF",
           "#FECB52"
          ],
          "font": {
           "color": "#2a3f5f"
          },
          "geo": {
           "bgcolor": "white",
           "lakecolor": "white",
           "landcolor": "white",
           "showlakes": true,
           "showland": true,
           "subunitcolor": "#C8D4E3"
          },
          "hoverlabel": {
           "align": "left"
          },
          "hovermode": "closest",
          "mapbox": {
           "style": "light"
          },
          "paper_bgcolor": "white",
          "plot_bgcolor": "white",
          "polar": {
           "angularaxis": {
            "gridcolor": "#EBF0F8",
            "linecolor": "#EBF0F8",
            "ticks": ""
           },
           "bgcolor": "white",
           "radialaxis": {
            "gridcolor": "#EBF0F8",
            "linecolor": "#EBF0F8",
            "ticks": ""
           }
          },
          "scene": {
           "xaxis": {
            "backgroundcolor": "white",
            "gridcolor": "#DFE8F3",
            "gridwidth": 2,
            "linecolor": "#EBF0F8",
            "showbackground": true,
            "ticks": "",
            "zerolinecolor": "#EBF0F8"
           },
           "yaxis": {
            "backgroundcolor": "white",
            "gridcolor": "#DFE8F3",
            "gridwidth": 2,
            "linecolor": "#EBF0F8",
            "showbackground": true,
            "ticks": "",
            "zerolinecolor": "#EBF0F8"
           },
           "zaxis": {
            "backgroundcolor": "white",
            "gridcolor": "#DFE8F3",
            "gridwidth": 2,
            "linecolor": "#EBF0F8",
            "showbackground": true,
            "ticks": "",
            "zerolinecolor": "#EBF0F8"
           }
          },
          "shapedefaults": {
           "line": {
            "color": "#2a3f5f"
           }
          },
          "ternary": {
           "aaxis": {
            "gridcolor": "#DFE8F3",
            "linecolor": "#A2B1C6",
            "ticks": ""
           },
           "baxis": {
            "gridcolor": "#DFE8F3",
            "linecolor": "#A2B1C6",
            "ticks": ""
           },
           "bgcolor": "white",
           "caxis": {
            "gridcolor": "#DFE8F3",
            "linecolor": "#A2B1C6",
            "ticks": ""
           }
          },
          "title": {
           "x": 0.05
          },
          "xaxis": {
           "automargin": true,
           "gridcolor": "#EBF0F8",
           "linecolor": "#EBF0F8",
           "ticks": "",
           "title": {
            "standoff": 15
           },
           "zerolinecolor": "#EBF0F8",
           "zerolinewidth": 2
          },
          "yaxis": {
           "automargin": true,
           "gridcolor": "#EBF0F8",
           "linecolor": "#EBF0F8",
           "ticks": "",
           "title": {
            "standoff": 15
           },
           "zerolinecolor": "#EBF0F8",
           "zerolinewidth": 2
          }
         }
        },
        "uniformtext": {
         "minsize": 8,
         "mode": "hide"
        },
        "xaxis": {
         "anchor": "y",
         "domain": [
          0,
          1
         ],
         "title": {
          "text": "Tagging_Algorithm"
         }
        },
        "yaxis": {
         "anchor": "x",
         "domain": [
          0,
          1
         ],
         "title": {
          "text": "Tagging_Accuracy"
         }
        }
       }
      },
      "text/html": [
       "<div>\n",
       "        \n",
       "        \n",
       "            <div id=\"558cf1df-2d28-4780-a8c0-74505c3f89fd\" class=\"plotly-graph-div\" style=\"height:525px; width:100%;\"></div>\n",
       "            <script type=\"text/javascript\">\n",
       "                require([\"plotly\"], function(Plotly) {\n",
       "                    window.PLOTLYENV=window.PLOTLYENV || {};\n",
       "                    \n",
       "                if (document.getElementById(\"558cf1df-2d28-4780-a8c0-74505c3f89fd\")) {\n",
       "                    Plotly.newPlot(\n",
       "                        '558cf1df-2d28-4780-a8c0-74505c3f89fd',\n",
       "                        [{\"alignmentgroup\": \"True\", \"hovertemplate\": \"Tagging_Algorithm=%{x}<br>Tagging_Accuracy=%{marker.color}<extra></extra>\", \"legendgroup\": \"\", \"marker\": {\"color\": [92.3, 94.66, 90.99, 93.98, 94.41, 94.15, 95.9], \"coloraxis\": \"coloraxis\"}, \"name\": \"\", \"offsetgroup\": \"\", \"orientation\": \"v\", \"showlegend\": false, \"text\": [92.3, 94.66, 90.99, 93.98, 94.41, 94.15, 95.9], \"textposition\": \"inside\", \"texttemplate\": \"%{text}%\", \"type\": \"bar\", \"x\": [\"Vanilla Viterbi\", \"Optimized Vanilla Viterbi\", \"Unigram Tagger\", \"Unigram + RegexpTagger\", \"Bigram Tagger + Unigram_tagger\", \"Trigram Tagger + Bigram_tagger\", \"Viterbi + Trigram_tagger\"], \"xaxis\": \"x\", \"y\": [92.3, 94.66, 90.99, 93.98, 94.41, 94.15, 95.9], \"yaxis\": \"y\"}],\n",
       "                        {\"barmode\": \"relative\", \"coloraxis\": {\"colorbar\": {\"title\": {\"text\": \"Tagging_Accuracy\"}}, \"colorscale\": [[0.0, \"#fee838\"], [0.1111111111111111, \"#e1cc55\"], [0.2222222222222222, \"#c3b369\"], [0.3333333333333333, \"#a59c74\"], [0.4444444444444444, \"#8a8678\"], [0.5555555555555556, \"#707173\"], [0.6666666666666666, \"#575d6d\"], [0.7777777777777778, \"#3b496c\"], [0.8888888888888888, \"#123570\"], [1.0, \"#00224e\"]]}, \"legend\": {\"tracegroupgap\": 0}, \"margin\": {\"t\": 60}, \"template\": {\"data\": {\"bar\": [{\"error_x\": {\"color\": \"#2a3f5f\"}, \"error_y\": {\"color\": \"#2a3f5f\"}, \"marker\": {\"line\": {\"color\": \"white\", \"width\": 0.5}}, \"type\": \"bar\"}], \"barpolar\": [{\"marker\": {\"line\": {\"color\": \"white\", \"width\": 0.5}}, \"type\": \"barpolar\"}], \"carpet\": [{\"aaxis\": {\"endlinecolor\": \"#2a3f5f\", \"gridcolor\": \"#C8D4E3\", \"linecolor\": \"#C8D4E3\", \"minorgridcolor\": \"#C8D4E3\", \"startlinecolor\": \"#2a3f5f\"}, \"baxis\": {\"endlinecolor\": \"#2a3f5f\", \"gridcolor\": \"#C8D4E3\", \"linecolor\": \"#C8D4E3\", \"minorgridcolor\": \"#C8D4E3\", \"startlinecolor\": \"#2a3f5f\"}, \"type\": \"carpet\"}], \"choropleth\": [{\"colorbar\": {\"outlinewidth\": 0, \"ticks\": \"\"}, \"type\": \"choropleth\"}], \"contour\": [{\"colorbar\": {\"outlinewidth\": 0, \"ticks\": \"\"}, \"colorscale\": [[0.0, \"#0d0887\"], [0.1111111111111111, \"#46039f\"], [0.2222222222222222, \"#7201a8\"], [0.3333333333333333, \"#9c179e\"], [0.4444444444444444, \"#bd3786\"], [0.5555555555555556, \"#d8576b\"], [0.6666666666666666, \"#ed7953\"], [0.7777777777777778, \"#fb9f3a\"], [0.8888888888888888, \"#fdca26\"], [1.0, \"#f0f921\"]], \"type\": \"contour\"}], \"contourcarpet\": [{\"colorbar\": {\"outlinewidth\": 0, \"ticks\": \"\"}, \"type\": \"contourcarpet\"}], \"heatmap\": [{\"colorbar\": {\"outlinewidth\": 0, \"ticks\": \"\"}, \"colorscale\": [[0.0, \"#0d0887\"], [0.1111111111111111, \"#46039f\"], [0.2222222222222222, \"#7201a8\"], [0.3333333333333333, \"#9c179e\"], [0.4444444444444444, \"#bd3786\"], [0.5555555555555556, \"#d8576b\"], [0.6666666666666666, \"#ed7953\"], [0.7777777777777778, \"#fb9f3a\"], [0.8888888888888888, \"#fdca26\"], [1.0, \"#f0f921\"]], \"type\": \"heatmap\"}], \"heatmapgl\": [{\"colorbar\": {\"outlinewidth\": 0, \"ticks\": \"\"}, \"colorscale\": [[0.0, \"#0d0887\"], [0.1111111111111111, \"#46039f\"], [0.2222222222222222, \"#7201a8\"], [0.3333333333333333, \"#9c179e\"], [0.4444444444444444, \"#bd3786\"], [0.5555555555555556, \"#d8576b\"], [0.6666666666666666, \"#ed7953\"], [0.7777777777777778, \"#fb9f3a\"], [0.8888888888888888, \"#fdca26\"], [1.0, \"#f0f921\"]], \"type\": \"heatmapgl\"}], \"histogram\": [{\"marker\": {\"colorbar\": {\"outlinewidth\": 0, \"ticks\": \"\"}}, \"type\": \"histogram\"}], \"histogram2d\": [{\"colorbar\": {\"outlinewidth\": 0, \"ticks\": \"\"}, \"colorscale\": [[0.0, \"#0d0887\"], [0.1111111111111111, \"#46039f\"], [0.2222222222222222, \"#7201a8\"], [0.3333333333333333, \"#9c179e\"], [0.4444444444444444, \"#bd3786\"], [0.5555555555555556, \"#d8576b\"], [0.6666666666666666, \"#ed7953\"], [0.7777777777777778, \"#fb9f3a\"], [0.8888888888888888, \"#fdca26\"], [1.0, \"#f0f921\"]], \"type\": \"histogram2d\"}], \"histogram2dcontour\": [{\"colorbar\": {\"outlinewidth\": 0, \"ticks\": \"\"}, \"colorscale\": [[0.0, \"#0d0887\"], [0.1111111111111111, \"#46039f\"], [0.2222222222222222, \"#7201a8\"], [0.3333333333333333, \"#9c179e\"], [0.4444444444444444, \"#bd3786\"], [0.5555555555555556, \"#d8576b\"], [0.6666666666666666, \"#ed7953\"], [0.7777777777777778, \"#fb9f3a\"], [0.8888888888888888, \"#fdca26\"], [1.0, \"#f0f921\"]], \"type\": \"histogram2dcontour\"}], \"mesh3d\": [{\"colorbar\": {\"outlinewidth\": 0, \"ticks\": \"\"}, \"type\": \"mesh3d\"}], \"parcoords\": [{\"line\": {\"colorbar\": {\"outlinewidth\": 0, \"ticks\": \"\"}}, \"type\": \"parcoords\"}], \"pie\": [{\"automargin\": true, \"type\": \"pie\"}], \"scatter\": [{\"marker\": {\"colorbar\": {\"outlinewidth\": 0, \"ticks\": \"\"}}, \"type\": \"scatter\"}], \"scatter3d\": [{\"line\": {\"colorbar\": {\"outlinewidth\": 0, \"ticks\": \"\"}}, \"marker\": {\"colorbar\": {\"outlinewidth\": 0, \"ticks\": \"\"}}, \"type\": \"scatter3d\"}], \"scattercarpet\": [{\"marker\": {\"colorbar\": {\"outlinewidth\": 0, \"ticks\": \"\"}}, \"type\": \"scattercarpet\"}], \"scattergeo\": [{\"marker\": {\"colorbar\": {\"outlinewidth\": 0, \"ticks\": \"\"}}, \"type\": \"scattergeo\"}], \"scattergl\": [{\"marker\": {\"colorbar\": {\"outlinewidth\": 0, \"ticks\": \"\"}}, \"type\": \"scattergl\"}], \"scattermapbox\": [{\"marker\": {\"colorbar\": {\"outlinewidth\": 0, \"ticks\": \"\"}}, \"type\": \"scattermapbox\"}], \"scatterpolar\": [{\"marker\": {\"colorbar\": {\"outlinewidth\": 0, \"ticks\": \"\"}}, \"type\": \"scatterpolar\"}], \"scatterpolargl\": [{\"marker\": {\"colorbar\": {\"outlinewidth\": 0, \"ticks\": \"\"}}, \"type\": \"scatterpolargl\"}], \"scatterternary\": [{\"marker\": {\"colorbar\": {\"outlinewidth\": 0, \"ticks\": \"\"}}, \"type\": \"scatterternary\"}], \"surface\": [{\"colorbar\": {\"outlinewidth\": 0, \"ticks\": \"\"}, \"colorscale\": [[0.0, \"#0d0887\"], [0.1111111111111111, \"#46039f\"], [0.2222222222222222, \"#7201a8\"], [0.3333333333333333, \"#9c179e\"], [0.4444444444444444, \"#bd3786\"], [0.5555555555555556, \"#d8576b\"], [0.6666666666666666, \"#ed7953\"], [0.7777777777777778, \"#fb9f3a\"], [0.8888888888888888, \"#fdca26\"], [1.0, \"#f0f921\"]], \"type\": \"surface\"}], \"table\": [{\"cells\": {\"fill\": {\"color\": \"#EBF0F8\"}, \"line\": {\"color\": \"white\"}}, \"header\": {\"fill\": {\"color\": \"#C8D4E3\"}, \"line\": {\"color\": \"white\"}}, \"type\": \"table\"}]}, \"layout\": {\"annotationdefaults\": {\"arrowcolor\": \"#2a3f5f\", \"arrowhead\": 0, \"arrowwidth\": 1}, \"coloraxis\": {\"colorbar\": {\"outlinewidth\": 0, \"ticks\": \"\"}}, \"colorscale\": {\"diverging\": [[0, \"#8e0152\"], [0.1, \"#c51b7d\"], [0.2, \"#de77ae\"], [0.3, \"#f1b6da\"], [0.4, \"#fde0ef\"], [0.5, \"#f7f7f7\"], [0.6, \"#e6f5d0\"], [0.7, \"#b8e186\"], [0.8, \"#7fbc41\"], [0.9, \"#4d9221\"], [1, \"#276419\"]], \"sequential\": [[0.0, \"#0d0887\"], [0.1111111111111111, \"#46039f\"], [0.2222222222222222, \"#7201a8\"], [0.3333333333333333, \"#9c179e\"], [0.4444444444444444, \"#bd3786\"], [0.5555555555555556, \"#d8576b\"], [0.6666666666666666, \"#ed7953\"], [0.7777777777777778, \"#fb9f3a\"], [0.8888888888888888, \"#fdca26\"], [1.0, \"#f0f921\"]], \"sequentialminus\": [[0.0, \"#0d0887\"], [0.1111111111111111, \"#46039f\"], [0.2222222222222222, \"#7201a8\"], [0.3333333333333333, \"#9c179e\"], [0.4444444444444444, \"#bd3786\"], [0.5555555555555556, \"#d8576b\"], [0.6666666666666666, \"#ed7953\"], [0.7777777777777778, \"#fb9f3a\"], [0.8888888888888888, \"#fdca26\"], [1.0, \"#f0f921\"]]}, \"colorway\": [\"#636efa\", \"#EF553B\", \"#00cc96\", \"#ab63fa\", \"#FFA15A\", \"#19d3f3\", \"#FF6692\", \"#B6E880\", \"#FF97FF\", \"#FECB52\"], \"font\": {\"color\": \"#2a3f5f\"}, \"geo\": {\"bgcolor\": \"white\", \"lakecolor\": \"white\", \"landcolor\": \"white\", \"showlakes\": true, \"showland\": true, \"subunitcolor\": \"#C8D4E3\"}, \"hoverlabel\": {\"align\": \"left\"}, \"hovermode\": \"closest\", \"mapbox\": {\"style\": \"light\"}, \"paper_bgcolor\": \"white\", \"plot_bgcolor\": \"white\", \"polar\": {\"angularaxis\": {\"gridcolor\": \"#EBF0F8\", \"linecolor\": \"#EBF0F8\", \"ticks\": \"\"}, \"bgcolor\": \"white\", \"radialaxis\": {\"gridcolor\": \"#EBF0F8\", \"linecolor\": \"#EBF0F8\", \"ticks\": \"\"}}, \"scene\": {\"xaxis\": {\"backgroundcolor\": \"white\", \"gridcolor\": \"#DFE8F3\", \"gridwidth\": 2, \"linecolor\": \"#EBF0F8\", \"showbackground\": true, \"ticks\": \"\", \"zerolinecolor\": \"#EBF0F8\"}, \"yaxis\": {\"backgroundcolor\": \"white\", \"gridcolor\": \"#DFE8F3\", \"gridwidth\": 2, \"linecolor\": \"#EBF0F8\", \"showbackground\": true, \"ticks\": \"\", \"zerolinecolor\": \"#EBF0F8\"}, \"zaxis\": {\"backgroundcolor\": \"white\", \"gridcolor\": \"#DFE8F3\", \"gridwidth\": 2, \"linecolor\": \"#EBF0F8\", \"showbackground\": true, \"ticks\": \"\", \"zerolinecolor\": \"#EBF0F8\"}}, \"shapedefaults\": {\"line\": {\"color\": \"#2a3f5f\"}}, \"ternary\": {\"aaxis\": {\"gridcolor\": \"#DFE8F3\", \"linecolor\": \"#A2B1C6\", \"ticks\": \"\"}, \"baxis\": {\"gridcolor\": \"#DFE8F3\", \"linecolor\": \"#A2B1C6\", \"ticks\": \"\"}, \"bgcolor\": \"white\", \"caxis\": {\"gridcolor\": \"#DFE8F3\", \"linecolor\": \"#A2B1C6\", \"ticks\": \"\"}}, \"title\": {\"x\": 0.05}, \"xaxis\": {\"automargin\": true, \"gridcolor\": \"#EBF0F8\", \"linecolor\": \"#EBF0F8\", \"ticks\": \"\", \"title\": {\"standoff\": 15}, \"zerolinecolor\": \"#EBF0F8\", \"zerolinewidth\": 2}, \"yaxis\": {\"automargin\": true, \"gridcolor\": \"#EBF0F8\", \"linecolor\": \"#EBF0F8\", \"ticks\": \"\", \"title\": {\"standoff\": 15}, \"zerolinecolor\": \"#EBF0F8\", \"zerolinewidth\": 2}}}, \"uniformtext\": {\"minsize\": 8, \"mode\": \"hide\"}, \"xaxis\": {\"anchor\": \"y\", \"domain\": [0.0, 1.0], \"title\": {\"text\": \"Tagging_Algorithm\"}}, \"yaxis\": {\"anchor\": \"x\", \"domain\": [0.0, 1.0], \"title\": {\"text\": \"Tagging_Accuracy\"}}},\n",
       "                        {\"responsive\": true}\n",
       "                    ).then(function(){\n",
       "                            \n",
       "var gd = document.getElementById('558cf1df-2d28-4780-a8c0-74505c3f89fd');\n",
       "var x = new MutationObserver(function (mutations, observer) {{\n",
       "        var display = window.getComputedStyle(gd).display;\n",
       "        if (!display || display === 'none') {{\n",
       "            console.log([gd, 'removed!']);\n",
       "            Plotly.purge(gd);\n",
       "            observer.disconnect();\n",
       "        }}\n",
       "}});\n",
       "\n",
       "// Listen for the removal of the full notebook cells\n",
       "var notebookContainer = gd.closest('#notebook-container');\n",
       "if (notebookContainer) {{\n",
       "    x.observe(notebookContainer, {childList: true});\n",
       "}}\n",
       "\n",
       "// Listen for the clearing of the current output cell\n",
       "var outputEl = gd.closest('.output');\n",
       "if (outputEl) {{\n",
       "    x.observe(outputEl, {childList: true});\n",
       "}}\n",
       "\n",
       "                        })\n",
       "                };\n",
       "                });\n",
       "            </script>\n",
       "        </div>"
      ]
     },
     "metadata": {},
     "output_type": "display_data"
    }
   ],
   "source": [
    "fig = px.bar(accuracy_data_df, x='Tagging_Algorithm', y='Tagging_Accuracy',text='Tagging_Accuracy',color='Tagging_Accuracy',\n",
    "            color_continuous_scale=px.colors.sequential.Cividis_r)\n",
    "fig.update_traces(texttemplate='%{text}%', textposition='inside')\n",
    "fig.update_layout(uniformtext_minsize=8, uniformtext_mode='hide')\n",
    "fig.show()\n"
   ]
  },
  {
   "cell_type": "markdown",
   "metadata": {},
   "source": [
    "We can see that our Viterbi Algorithm backed off with a Trigram tagger has the highest accuracy i.e. 95.9% among all the other algorithms."
   ]
  },
  {
   "cell_type": "markdown",
   "metadata": {},
   "source": [
    "### Lets check the tagging accuracies for the algorithm on the sample test sentences provided -"
   ]
  },
  {
   "cell_type": "code",
   "execution_count": 60,
   "metadata": {},
   "outputs": [],
   "source": [
    "sample_test_sentences = ['Android is a mobile operating system developed by Google.',\n",
    "\"Android has been the best-selling OS worldwide on smartphones since 2011 and on tablets since 2013.\",\n",
    "\"Google and Twitter made a deal in 2015 that gave Google access to Twitter's firehose.\",\n",
    "\"Twitter is an online news and social networking service on which users post and interact with messages known as tweets.\",\n",
    "\"Before entering politics, Donald Trump was a domineering businessman and a television personality.\",\n",
    "\"The 2018 FIFA World Cup is the 21st FIFA World Cup, an international football tournament contested once every four years.\",\n",
    "\"This is the first World Cup to be held in Eastern Europe and the 11th time that it has been held in Europe.\",\n",
    "\"Show me the cheapest round trips from Dallas to Atlanta\",\n",
    "\"I would like to see flights from Denver to Philadelphia.\",\n",
    "\"Show me the price of the flights leaving Atlanta at about 3 in the afternoon and arriving in San Francisco.\",\n",
    "\"NASA invited social media users to experience the launch of ICESAT-2 Satellite.\"]"
   ]
  },
  {
   "cell_type": "code",
   "execution_count": 61,
   "metadata": {},
   "outputs": [
    {
     "data": {
      "text/plain": [
       "[[('Android', 'NOUN'),\n",
       "  ('is', 'VERB'),\n",
       "  ('a', 'DET'),\n",
       "  ('mobile', 'ADJ'),\n",
       "  ('operating', 'NOUN'),\n",
       "  ('system', 'NOUN'),\n",
       "  ('developed', 'VERB'),\n",
       "  ('by', 'ADP'),\n",
       "  ('Google', 'NOUN'),\n",
       "  ('.', '.')],\n",
       " [('Android', 'NOUN'),\n",
       "  ('has', 'VERB'),\n",
       "  ('been', 'VERB'),\n",
       "  ('the', 'DET'),\n",
       "  ('best-selling', 'ADJ'),\n",
       "  ('OS', 'NOUN'),\n",
       "  ('worldwide', 'NOUN'),\n",
       "  ('on', 'ADP'),\n",
       "  ('smartphones', 'NOUN'),\n",
       "  ('since', 'ADP'),\n",
       "  ('2011', 'NUM'),\n",
       "  ('and', 'CONJ'),\n",
       "  ('on', 'ADP'),\n",
       "  ('tablets', 'NOUN'),\n",
       "  ('since', 'ADP'),\n",
       "  ('2013', 'NUM'),\n",
       "  ('.', '.')],\n",
       " [('Google', 'NOUN'),\n",
       "  ('and', 'CONJ'),\n",
       "  ('Twitter', 'NOUN'),\n",
       "  ('made', 'VERB'),\n",
       "  ('a', 'DET'),\n",
       "  ('deal', 'NOUN'),\n",
       "  ('in', 'ADP'),\n",
       "  ('2015', 'NUM'),\n",
       "  ('that', 'DET'),\n",
       "  ('gave', 'VERB'),\n",
       "  ('Google', 'NOUN'),\n",
       "  ('access', 'NOUN'),\n",
       "  ('to', 'PRT'),\n",
       "  ('Twitter', 'NOUN'),\n",
       "  (\"'s\", 'PRT'),\n",
       "  ('firehose', 'NOUN'),\n",
       "  ('.', '.')],\n",
       " [('Twitter', 'NOUN'),\n",
       "  ('is', 'VERB'),\n",
       "  ('an', 'DET'),\n",
       "  ('online', 'ADJ'),\n",
       "  ('news', 'NOUN'),\n",
       "  ('and', 'CONJ'),\n",
       "  ('social', 'ADJ'),\n",
       "  ('networking', 'NOUN'),\n",
       "  ('service', 'NOUN'),\n",
       "  ('on', 'ADP'),\n",
       "  ('which', 'DET'),\n",
       "  ('users', 'NOUN'),\n",
       "  ('post', 'NOUN'),\n",
       "  ('and', 'CONJ'),\n",
       "  ('interact', 'NOUN'),\n",
       "  ('with', 'ADP'),\n",
       "  ('messages', 'NOUN'),\n",
       "  ('known', 'VERB'),\n",
       "  ('as', 'ADP'),\n",
       "  ('tweets', 'NOUN'),\n",
       "  ('.', '.')],\n",
       " [('Before', 'ADP'),\n",
       "  ('entering', 'VERB'),\n",
       "  ('politics', 'NOUN'),\n",
       "  (',', '.'),\n",
       "  ('Donald', 'NOUN'),\n",
       "  ('Trump', 'NOUN'),\n",
       "  ('was', 'VERB'),\n",
       "  ('a', 'DET'),\n",
       "  ('domineering', 'ADJ'),\n",
       "  ('businessman', 'NOUN'),\n",
       "  ('and', 'CONJ'),\n",
       "  ('a', 'DET'),\n",
       "  ('television', 'NOUN'),\n",
       "  ('personality', 'NOUN'),\n",
       "  ('.', '.')],\n",
       " [('The', 'DET'),\n",
       "  ('2018', 'NUM'),\n",
       "  ('FIFA', 'NOUN'),\n",
       "  ('World', 'NOUN'),\n",
       "  ('Cup', 'NOUN'),\n",
       "  ('is', 'VERB'),\n",
       "  ('the', 'DET'),\n",
       "  ('21st', 'NUM'),\n",
       "  ('FIFA', 'NOUN'),\n",
       "  ('World', 'NOUN'),\n",
       "  ('Cup', 'NOUN'),\n",
       "  (',', '.'),\n",
       "  ('an', 'DET'),\n",
       "  ('international', 'ADJ'),\n",
       "  ('football', 'NOUN'),\n",
       "  ('tournament', 'NOUN'),\n",
       "  ('contested', 'VERB'),\n",
       "  ('once', 'ADV'),\n",
       "  ('every', 'DET'),\n",
       "  ('four', 'NUM'),\n",
       "  ('years', 'NOUN'),\n",
       "  ('.', '.')],\n",
       " [('This', 'DET'),\n",
       "  ('is', 'VERB'),\n",
       "  ('the', 'DET'),\n",
       "  ('first', 'ADJ'),\n",
       "  ('World', 'NOUN'),\n",
       "  ('Cup', 'NOUN'),\n",
       "  ('to', 'PRT'),\n",
       "  ('be', 'VERB'),\n",
       "  ('held', 'VERB'),\n",
       "  ('in', 'ADP'),\n",
       "  ('Eastern', 'NOUN'),\n",
       "  ('Europe', 'NOUN'),\n",
       "  ('and', 'CONJ'),\n",
       "  ('the', 'DET'),\n",
       "  ('11th', 'NUM'),\n",
       "  ('time', 'NOUN'),\n",
       "  ('that', 'ADP'),\n",
       "  ('it', 'PRON'),\n",
       "  ('has', 'VERB'),\n",
       "  ('been', 'VERB'),\n",
       "  ('held', 'VERB'),\n",
       "  ('in', 'ADP'),\n",
       "  ('Europe', 'NOUN'),\n",
       "  ('.', '.')],\n",
       " [('Show', 'VERB'),\n",
       "  ('me', 'PRON'),\n",
       "  ('the', 'DET'),\n",
       "  ('cheapest', 'ADJ'),\n",
       "  ('round', 'NOUN'),\n",
       "  ('trips', 'NOUN'),\n",
       "  ('from', 'ADP'),\n",
       "  ('Dallas', 'NOUN'),\n",
       "  ('to', 'PRT'),\n",
       "  ('Atlanta', 'VERB')],\n",
       " [('I', 'PRON'),\n",
       "  ('would', 'VERB'),\n",
       "  ('like', 'VERB'),\n",
       "  ('to', 'PRT'),\n",
       "  ('see', 'VERB'),\n",
       "  ('flights', 'NOUN'),\n",
       "  ('from', 'ADP'),\n",
       "  ('Denver', 'NOUN'),\n",
       "  ('to', 'PRT'),\n",
       "  ('Philadelphia', 'NOUN'),\n",
       "  ('.', '.')],\n",
       " [('Show', 'VERB'),\n",
       "  ('me', 'PRON'),\n",
       "  ('the', 'DET'),\n",
       "  ('price', 'NOUN'),\n",
       "  ('of', 'ADP'),\n",
       "  ('the', 'DET'),\n",
       "  ('flights', 'NOUN'),\n",
       "  ('leaving', 'VERB'),\n",
       "  ('Atlanta', 'NOUN'),\n",
       "  ('at', 'ADP'),\n",
       "  ('about', 'ADV'),\n",
       "  ('3', 'NUM'),\n",
       "  ('in', 'ADP'),\n",
       "  ('the', 'DET'),\n",
       "  ('afternoon', 'NOUN'),\n",
       "  ('and', 'CONJ'),\n",
       "  ('arriving', 'NOUN'),\n",
       "  ('in', 'ADP'),\n",
       "  ('San', 'NOUN'),\n",
       "  ('Francisco', 'NOUN'),\n",
       "  ('.', '.')],\n",
       " [('NASA', 'NOUN'),\n",
       "  ('invited', 'VERB'),\n",
       "  ('social', 'ADJ'),\n",
       "  ('media', 'NOUN'),\n",
       "  ('users', 'NOUN'),\n",
       "  ('to', 'PRT'),\n",
       "  ('experience', 'VERB'),\n",
       "  ('the', 'DET'),\n",
       "  ('launch', 'NOUN'),\n",
       "  ('of', 'ADP'),\n",
       "  ('ICESAT-2', 'NOUN'),\n",
       "  ('Satellite', 'NOUN'),\n",
       "  ('.', '.')]]"
      ]
     },
     "execution_count": 61,
     "metadata": {},
     "output_type": "execute_result"
    }
   ],
   "source": [
    "sample_test_tokenized_sents = [word_tokenize(sent) for sent in sample_test_sentences]\n",
    "sample_test_corpus_pos_tags = nltk.pos_tag_sents(sample_test_tokenized_sents, tagset = 'universal')\n",
    "sample_test_corpus_pos_tags"
   ]
  },
  {
   "cell_type": "code",
   "execution_count": 62,
   "metadata": {},
   "outputs": [],
   "source": [
    "# list of untagged words from the sample test data provided\n",
    "sample_test_tagged_words = [tup[0] for sent in sample_test_corpus_pos_tags for tup in sent]\n",
    "\n",
    "\n",
    "# list of tagged words\n",
    "sample_test_test_run_base = [tup for sent in sample_test_corpus_pos_tags for tup in sent]"
   ]
  },
  {
   "cell_type": "code",
   "execution_count": 63,
   "metadata": {
    "scrolled": true
   },
   "outputs": [
    {
     "data": {
      "text/plain": [
       "['Android',\n",
       " 'is',\n",
       " 'a',\n",
       " 'mobile',\n",
       " 'operating',\n",
       " 'system',\n",
       " 'developed',\n",
       " 'by',\n",
       " 'Google',\n",
       " '.',\n",
       " 'Android',\n",
       " 'has',\n",
       " 'been',\n",
       " 'the',\n",
       " 'best-selling',\n",
       " 'OS',\n",
       " 'worldwide',\n",
       " 'on',\n",
       " 'smartphones',\n",
       " 'since',\n",
       " '2011',\n",
       " 'and',\n",
       " 'on',\n",
       " 'tablets',\n",
       " 'since',\n",
       " '2013',\n",
       " '.',\n",
       " 'Google',\n",
       " 'and',\n",
       " 'Twitter',\n",
       " 'made',\n",
       " 'a',\n",
       " 'deal',\n",
       " 'in',\n",
       " '2015',\n",
       " 'that',\n",
       " 'gave',\n",
       " 'Google',\n",
       " 'access',\n",
       " 'to',\n",
       " 'Twitter',\n",
       " \"'s\",\n",
       " 'firehose',\n",
       " '.',\n",
       " 'Twitter',\n",
       " 'is',\n",
       " 'an',\n",
       " 'online',\n",
       " 'news',\n",
       " 'and',\n",
       " 'social',\n",
       " 'networking',\n",
       " 'service',\n",
       " 'on',\n",
       " 'which',\n",
       " 'users',\n",
       " 'post',\n",
       " 'and',\n",
       " 'interact',\n",
       " 'with',\n",
       " 'messages',\n",
       " 'known',\n",
       " 'as',\n",
       " 'tweets',\n",
       " '.',\n",
       " 'Before',\n",
       " 'entering',\n",
       " 'politics',\n",
       " ',',\n",
       " 'Donald',\n",
       " 'Trump',\n",
       " 'was',\n",
       " 'a',\n",
       " 'domineering',\n",
       " 'businessman',\n",
       " 'and',\n",
       " 'a',\n",
       " 'television',\n",
       " 'personality',\n",
       " '.',\n",
       " 'The',\n",
       " '2018',\n",
       " 'FIFA',\n",
       " 'World',\n",
       " 'Cup',\n",
       " 'is',\n",
       " 'the',\n",
       " '21st',\n",
       " 'FIFA',\n",
       " 'World',\n",
       " 'Cup',\n",
       " ',',\n",
       " 'an',\n",
       " 'international',\n",
       " 'football',\n",
       " 'tournament',\n",
       " 'contested',\n",
       " 'once',\n",
       " 'every',\n",
       " 'four',\n",
       " 'years',\n",
       " '.',\n",
       " 'This',\n",
       " 'is',\n",
       " 'the',\n",
       " 'first',\n",
       " 'World',\n",
       " 'Cup',\n",
       " 'to',\n",
       " 'be',\n",
       " 'held',\n",
       " 'in',\n",
       " 'Eastern',\n",
       " 'Europe',\n",
       " 'and',\n",
       " 'the',\n",
       " '11th',\n",
       " 'time',\n",
       " 'that',\n",
       " 'it',\n",
       " 'has',\n",
       " 'been',\n",
       " 'held',\n",
       " 'in',\n",
       " 'Europe',\n",
       " '.',\n",
       " 'Show',\n",
       " 'me',\n",
       " 'the',\n",
       " 'cheapest',\n",
       " 'round',\n",
       " 'trips',\n",
       " 'from',\n",
       " 'Dallas',\n",
       " 'to',\n",
       " 'Atlanta',\n",
       " 'I',\n",
       " 'would',\n",
       " 'like',\n",
       " 'to',\n",
       " 'see',\n",
       " 'flights',\n",
       " 'from',\n",
       " 'Denver',\n",
       " 'to',\n",
       " 'Philadelphia',\n",
       " '.',\n",
       " 'Show',\n",
       " 'me',\n",
       " 'the',\n",
       " 'price',\n",
       " 'of',\n",
       " 'the',\n",
       " 'flights',\n",
       " 'leaving',\n",
       " 'Atlanta',\n",
       " 'at',\n",
       " 'about',\n",
       " '3',\n",
       " 'in',\n",
       " 'the',\n",
       " 'afternoon',\n",
       " 'and',\n",
       " 'arriving',\n",
       " 'in',\n",
       " 'San',\n",
       " 'Francisco',\n",
       " '.',\n",
       " 'NASA',\n",
       " 'invited',\n",
       " 'social',\n",
       " 'media',\n",
       " 'users',\n",
       " 'to',\n",
       " 'experience',\n",
       " 'the',\n",
       " 'launch',\n",
       " 'of',\n",
       " 'ICESAT-2',\n",
       " 'Satellite',\n",
       " '.']"
      ]
     },
     "execution_count": 63,
     "metadata": {},
     "output_type": "execute_result"
    }
   ],
   "source": [
    "sample_test_tagged_words"
   ]
  },
  {
   "cell_type": "markdown",
   "metadata": {},
   "source": [
    "#### 1. Testing the accuracy of Vanilla Viterbi on sample test data - "
   ]
  },
  {
   "cell_type": "code",
   "execution_count": 64,
   "metadata": {},
   "outputs": [
    {
     "name": "stdout",
     "output_type": "stream",
     "text": [
      "The accuracy of the Vanilla Viterbi Algorithm on the sample test data is - 0.7679558011049724\n"
     ]
    }
   ],
   "source": [
    "# tagging the test sentences\n",
    "sample_test_tagged_seq = Vanilla_Viterbi(sample_test_tagged_words)\n",
    "\n",
    "# Let's check the accuracy of the vanilla viterbi algorithm\n",
    "sample_test_check = [i for i, j in zip(sample_test_tagged_seq, sample_test_test_run_base) if i == j]\n",
    "\n",
    "vanilla_viterbi_accuracy_on_sample_test_data = len(sample_test_check)/len(sample_test_tagged_seq)\n",
    "\n",
    "print(\"The accuracy of the Vanilla Viterbi Algorithm on the sample test data is -\", vanilla_viterbi_accuracy_on_sample_test_data)"
   ]
  },
  {
   "cell_type": "markdown",
   "metadata": {},
   "source": [
    "#### 2. Testing the accuracy of Viterbi backed by a Trigram Tagger on sample test data - "
   ]
  },
  {
   "cell_type": "code",
   "execution_count": 65,
   "metadata": {},
   "outputs": [
    {
     "name": "stdout",
     "output_type": "stream",
     "text": [
      "The accuracy of the viterbi_backedup_by_trigram_tagger on the sample test data is - 0.9281767955801105\n"
     ]
    }
   ],
   "source": [
    "# tagging the test sentences\n",
    "sample_test_viterbi_trigram_tagged_seq = viterbi_backedup_by_trigram_tagger(sample_test_tagged_words)\n",
    "\n",
    "# accuracy\n",
    "sample_test_viterbi_trigram_check = [i for i, j in zip(sample_test_viterbi_trigram_tagged_seq, sample_test_test_run_base) if i == j]\n",
    "\n",
    "sample_test_viterbi_trigram_accuracy = len(sample_test_viterbi_trigram_check)/len(sample_test_viterbi_trigram_tagged_seq)\n",
    "\n",
    "print(\"The accuracy of the viterbi_backedup_by_trigram_tagger on the sample test data is -\", sample_test_viterbi_trigram_accuracy)"
   ]
  },
  {
   "cell_type": "markdown",
   "metadata": {},
   "source": [
    "#### 3. Testing the accuracy of Viterbi using only transition probabilities for unknown words on sample test data - "
   ]
  },
  {
   "cell_type": "code",
   "execution_count": 66,
   "metadata": {},
   "outputs": [
    {
     "name": "stdout",
     "output_type": "stream",
     "text": [
      "The accuracy of the Vanilla_Viterbi_for_Unknown_Words on the sample test data is - 0.8895027624309392\n"
     ]
    }
   ],
   "source": [
    "# tagging the test sentences\n",
    "sample_test_unknown_word_tagged_seq = Vanilla_Viterbi_for_Unknown_Words(sample_test_tagged_words)\n",
    "\n",
    "# accuracy\n",
    "sample_test_unknown_word_check = [i for i, j in zip(sample_test_unknown_word_tagged_seq, sample_test_test_run_base) if i == j]\n",
    "\n",
    "sample_test_optimized_viterbi_accuracy = len(sample_test_unknown_word_check)/len(sample_test_unknown_word_tagged_seq)\n",
    "\n",
    "print(\"The accuracy of the Vanilla_Viterbi_for_Unknown_Words on the sample test data is -\", sample_test_optimized_viterbi_accuracy)"
   ]
  },
  {
   "cell_type": "markdown",
   "metadata": {},
   "source": [
    "### Comparing the accuracies of the 3 algorithm on sample test data -"
   ]
  },
  {
   "cell_type": "code",
   "execution_count": 71,
   "metadata": {},
   "outputs": [
    {
     "data": {
      "text/html": [
       "<div>\n",
       "<style scoped>\n",
       "    .dataframe tbody tr th:only-of-type {\n",
       "        vertical-align: middle;\n",
       "    }\n",
       "\n",
       "    .dataframe tbody tr th {\n",
       "        vertical-align: top;\n",
       "    }\n",
       "\n",
       "    .dataframe thead th {\n",
       "        text-align: right;\n",
       "    }\n",
       "</style>\n",
       "<table border=\"1\" class=\"dataframe\">\n",
       "  <thead>\n",
       "    <tr style=\"text-align: right;\">\n",
       "      <th></th>\n",
       "      <th>Tagging_Algorithm</th>\n",
       "      <th>Tagging_Accuracy</th>\n",
       "    </tr>\n",
       "  </thead>\n",
       "  <tbody>\n",
       "    <tr>\n",
       "      <th>0</th>\n",
       "      <td>Vanilla Viterbi</td>\n",
       "      <td>76.80</td>\n",
       "    </tr>\n",
       "    <tr>\n",
       "      <th>1</th>\n",
       "      <td>Optimized Vanilla Viterbi</td>\n",
       "      <td>88.95</td>\n",
       "    </tr>\n",
       "    <tr>\n",
       "      <th>2</th>\n",
       "      <td>Viterbi + Trigram_tagger</td>\n",
       "      <td>92.82</td>\n",
       "    </tr>\n",
       "  </tbody>\n",
       "</table>\n",
       "</div>"
      ],
      "text/plain": [
       "           Tagging_Algorithm  Tagging_Accuracy\n",
       "0            Vanilla Viterbi             76.80\n",
       "1  Optimized Vanilla Viterbi             88.95\n",
       "2   Viterbi + Trigram_tagger             92.82"
      ]
     },
     "metadata": {},
     "output_type": "display_data"
    }
   ],
   "source": [
    "accuracy_on_sample_test_data = [['Vanilla Viterbi', vanilla_viterbi_accuracy_on_sample_test_data*100], \n",
    "                  ['Optimized Vanilla Viterbi', sample_test_optimized_viterbi_accuracy*100], \n",
    "                  ['Viterbi + Trigram_tagger', sample_test_viterbi_trigram_accuracy*100]]\n",
    "\n",
    "sample_test_data_accuracy_df = pd.DataFrame(accuracy_on_sample_test_data, columns = ['Tagging_Algorithm', 'Tagging_Accuracy'])\n",
    "sample_test_data_accuracy_df['Tagging_Accuracy'] = round(sample_test_data_accuracy_df['Tagging_Accuracy'],2)\n",
    "display(sample_test_data_accuracy_df)"
   ]
  },
  {
   "cell_type": "code",
   "execution_count": 72,
   "metadata": {},
   "outputs": [
    {
     "data": {
      "application/vnd.plotly.v1+json": {
       "config": {
        "plotlyServerURL": "https://plot.ly"
       },
       "data": [
        {
         "alignmentgroup": "True",
         "hovertemplate": "Tagging_Algorithm=%{x}<br>Tagging_Accuracy=%{marker.color}<extra></extra>",
         "legendgroup": "",
         "marker": {
          "color": [
           76.8,
           88.95,
           92.82
          ],
          "coloraxis": "coloraxis"
         },
         "name": "",
         "offsetgroup": "",
         "orientation": "v",
         "showlegend": false,
         "text": [
          76.8,
          88.95,
          92.82
         ],
         "textposition": "inside",
         "texttemplate": "%{text}%",
         "type": "bar",
         "x": [
          "Vanilla Viterbi",
          "Optimized Vanilla Viterbi",
          "Viterbi + Trigram_tagger"
         ],
         "xaxis": "x",
         "y": [
          76.8,
          88.95,
          92.82
         ],
         "yaxis": "y"
        }
       ],
       "layout": {
        "barmode": "relative",
        "coloraxis": {
         "colorbar": {
          "title": {
           "text": "Tagging_Accuracy"
          }
         },
         "colorscale": [
          [
           0,
           "#fee838"
          ],
          [
           0.1111111111111111,
           "#e1cc55"
          ],
          [
           0.2222222222222222,
           "#c3b369"
          ],
          [
           0.3333333333333333,
           "#a59c74"
          ],
          [
           0.4444444444444444,
           "#8a8678"
          ],
          [
           0.5555555555555556,
           "#707173"
          ],
          [
           0.6666666666666666,
           "#575d6d"
          ],
          [
           0.7777777777777778,
           "#3b496c"
          ],
          [
           0.8888888888888888,
           "#123570"
          ],
          [
           1,
           "#00224e"
          ]
         ]
        },
        "legend": {
         "tracegroupgap": 0
        },
        "margin": {
         "t": 60
        },
        "template": {
         "data": {
          "bar": [
           {
            "error_x": {
             "color": "#2a3f5f"
            },
            "error_y": {
             "color": "#2a3f5f"
            },
            "marker": {
             "line": {
              "color": "white",
              "width": 0.5
             }
            },
            "type": "bar"
           }
          ],
          "barpolar": [
           {
            "marker": {
             "line": {
              "color": "white",
              "width": 0.5
             }
            },
            "type": "barpolar"
           }
          ],
          "carpet": [
           {
            "aaxis": {
             "endlinecolor": "#2a3f5f",
             "gridcolor": "#C8D4E3",
             "linecolor": "#C8D4E3",
             "minorgridcolor": "#C8D4E3",
             "startlinecolor": "#2a3f5f"
            },
            "baxis": {
             "endlinecolor": "#2a3f5f",
             "gridcolor": "#C8D4E3",
             "linecolor": "#C8D4E3",
             "minorgridcolor": "#C8D4E3",
             "startlinecolor": "#2a3f5f"
            },
            "type": "carpet"
           }
          ],
          "choropleth": [
           {
            "colorbar": {
             "outlinewidth": 0,
             "ticks": ""
            },
            "type": "choropleth"
           }
          ],
          "contour": [
           {
            "colorbar": {
             "outlinewidth": 0,
             "ticks": ""
            },
            "colorscale": [
             [
              0,
              "#0d0887"
             ],
             [
              0.1111111111111111,
              "#46039f"
             ],
             [
              0.2222222222222222,
              "#7201a8"
             ],
             [
              0.3333333333333333,
              "#9c179e"
             ],
             [
              0.4444444444444444,
              "#bd3786"
             ],
             [
              0.5555555555555556,
              "#d8576b"
             ],
             [
              0.6666666666666666,
              "#ed7953"
             ],
             [
              0.7777777777777778,
              "#fb9f3a"
             ],
             [
              0.8888888888888888,
              "#fdca26"
             ],
             [
              1,
              "#f0f921"
             ]
            ],
            "type": "contour"
           }
          ],
          "contourcarpet": [
           {
            "colorbar": {
             "outlinewidth": 0,
             "ticks": ""
            },
            "type": "contourcarpet"
           }
          ],
          "heatmap": [
           {
            "colorbar": {
             "outlinewidth": 0,
             "ticks": ""
            },
            "colorscale": [
             [
              0,
              "#0d0887"
             ],
             [
              0.1111111111111111,
              "#46039f"
             ],
             [
              0.2222222222222222,
              "#7201a8"
             ],
             [
              0.3333333333333333,
              "#9c179e"
             ],
             [
              0.4444444444444444,
              "#bd3786"
             ],
             [
              0.5555555555555556,
              "#d8576b"
             ],
             [
              0.6666666666666666,
              "#ed7953"
             ],
             [
              0.7777777777777778,
              "#fb9f3a"
             ],
             [
              0.8888888888888888,
              "#fdca26"
             ],
             [
              1,
              "#f0f921"
             ]
            ],
            "type": "heatmap"
           }
          ],
          "heatmapgl": [
           {
            "colorbar": {
             "outlinewidth": 0,
             "ticks": ""
            },
            "colorscale": [
             [
              0,
              "#0d0887"
             ],
             [
              0.1111111111111111,
              "#46039f"
             ],
             [
              0.2222222222222222,
              "#7201a8"
             ],
             [
              0.3333333333333333,
              "#9c179e"
             ],
             [
              0.4444444444444444,
              "#bd3786"
             ],
             [
              0.5555555555555556,
              "#d8576b"
             ],
             [
              0.6666666666666666,
              "#ed7953"
             ],
             [
              0.7777777777777778,
              "#fb9f3a"
             ],
             [
              0.8888888888888888,
              "#fdca26"
             ],
             [
              1,
              "#f0f921"
             ]
            ],
            "type": "heatmapgl"
           }
          ],
          "histogram": [
           {
            "marker": {
             "colorbar": {
              "outlinewidth": 0,
              "ticks": ""
             }
            },
            "type": "histogram"
           }
          ],
          "histogram2d": [
           {
            "colorbar": {
             "outlinewidth": 0,
             "ticks": ""
            },
            "colorscale": [
             [
              0,
              "#0d0887"
             ],
             [
              0.1111111111111111,
              "#46039f"
             ],
             [
              0.2222222222222222,
              "#7201a8"
             ],
             [
              0.3333333333333333,
              "#9c179e"
             ],
             [
              0.4444444444444444,
              "#bd3786"
             ],
             [
              0.5555555555555556,
              "#d8576b"
             ],
             [
              0.6666666666666666,
              "#ed7953"
             ],
             [
              0.7777777777777778,
              "#fb9f3a"
             ],
             [
              0.8888888888888888,
              "#fdca26"
             ],
             [
              1,
              "#f0f921"
             ]
            ],
            "type": "histogram2d"
           }
          ],
          "histogram2dcontour": [
           {
            "colorbar": {
             "outlinewidth": 0,
             "ticks": ""
            },
            "colorscale": [
             [
              0,
              "#0d0887"
             ],
             [
              0.1111111111111111,
              "#46039f"
             ],
             [
              0.2222222222222222,
              "#7201a8"
             ],
             [
              0.3333333333333333,
              "#9c179e"
             ],
             [
              0.4444444444444444,
              "#bd3786"
             ],
             [
              0.5555555555555556,
              "#d8576b"
             ],
             [
              0.6666666666666666,
              "#ed7953"
             ],
             [
              0.7777777777777778,
              "#fb9f3a"
             ],
             [
              0.8888888888888888,
              "#fdca26"
             ],
             [
              1,
              "#f0f921"
             ]
            ],
            "type": "histogram2dcontour"
           }
          ],
          "mesh3d": [
           {
            "colorbar": {
             "outlinewidth": 0,
             "ticks": ""
            },
            "type": "mesh3d"
           }
          ],
          "parcoords": [
           {
            "line": {
             "colorbar": {
              "outlinewidth": 0,
              "ticks": ""
             }
            },
            "type": "parcoords"
           }
          ],
          "pie": [
           {
            "automargin": true,
            "type": "pie"
           }
          ],
          "scatter": [
           {
            "marker": {
             "colorbar": {
              "outlinewidth": 0,
              "ticks": ""
             }
            },
            "type": "scatter"
           }
          ],
          "scatter3d": [
           {
            "line": {
             "colorbar": {
              "outlinewidth": 0,
              "ticks": ""
             }
            },
            "marker": {
             "colorbar": {
              "outlinewidth": 0,
              "ticks": ""
             }
            },
            "type": "scatter3d"
           }
          ],
          "scattercarpet": [
           {
            "marker": {
             "colorbar": {
              "outlinewidth": 0,
              "ticks": ""
             }
            },
            "type": "scattercarpet"
           }
          ],
          "scattergeo": [
           {
            "marker": {
             "colorbar": {
              "outlinewidth": 0,
              "ticks": ""
             }
            },
            "type": "scattergeo"
           }
          ],
          "scattergl": [
           {
            "marker": {
             "colorbar": {
              "outlinewidth": 0,
              "ticks": ""
             }
            },
            "type": "scattergl"
           }
          ],
          "scattermapbox": [
           {
            "marker": {
             "colorbar": {
              "outlinewidth": 0,
              "ticks": ""
             }
            },
            "type": "scattermapbox"
           }
          ],
          "scatterpolar": [
           {
            "marker": {
             "colorbar": {
              "outlinewidth": 0,
              "ticks": ""
             }
            },
            "type": "scatterpolar"
           }
          ],
          "scatterpolargl": [
           {
            "marker": {
             "colorbar": {
              "outlinewidth": 0,
              "ticks": ""
             }
            },
            "type": "scatterpolargl"
           }
          ],
          "scatterternary": [
           {
            "marker": {
             "colorbar": {
              "outlinewidth": 0,
              "ticks": ""
             }
            },
            "type": "scatterternary"
           }
          ],
          "surface": [
           {
            "colorbar": {
             "outlinewidth": 0,
             "ticks": ""
            },
            "colorscale": [
             [
              0,
              "#0d0887"
             ],
             [
              0.1111111111111111,
              "#46039f"
             ],
             [
              0.2222222222222222,
              "#7201a8"
             ],
             [
              0.3333333333333333,
              "#9c179e"
             ],
             [
              0.4444444444444444,
              "#bd3786"
             ],
             [
              0.5555555555555556,
              "#d8576b"
             ],
             [
              0.6666666666666666,
              "#ed7953"
             ],
             [
              0.7777777777777778,
              "#fb9f3a"
             ],
             [
              0.8888888888888888,
              "#fdca26"
             ],
             [
              1,
              "#f0f921"
             ]
            ],
            "type": "surface"
           }
          ],
          "table": [
           {
            "cells": {
             "fill": {
              "color": "#EBF0F8"
             },
             "line": {
              "color": "white"
             }
            },
            "header": {
             "fill": {
              "color": "#C8D4E3"
             },
             "line": {
              "color": "white"
             }
            },
            "type": "table"
           }
          ]
         },
         "layout": {
          "annotationdefaults": {
           "arrowcolor": "#2a3f5f",
           "arrowhead": 0,
           "arrowwidth": 1
          },
          "coloraxis": {
           "colorbar": {
            "outlinewidth": 0,
            "ticks": ""
           }
          },
          "colorscale": {
           "diverging": [
            [
             0,
             "#8e0152"
            ],
            [
             0.1,
             "#c51b7d"
            ],
            [
             0.2,
             "#de77ae"
            ],
            [
             0.3,
             "#f1b6da"
            ],
            [
             0.4,
             "#fde0ef"
            ],
            [
             0.5,
             "#f7f7f7"
            ],
            [
             0.6,
             "#e6f5d0"
            ],
            [
             0.7,
             "#b8e186"
            ],
            [
             0.8,
             "#7fbc41"
            ],
            [
             0.9,
             "#4d9221"
            ],
            [
             1,
             "#276419"
            ]
           ],
           "sequential": [
            [
             0,
             "#0d0887"
            ],
            [
             0.1111111111111111,
             "#46039f"
            ],
            [
             0.2222222222222222,
             "#7201a8"
            ],
            [
             0.3333333333333333,
             "#9c179e"
            ],
            [
             0.4444444444444444,
             "#bd3786"
            ],
            [
             0.5555555555555556,
             "#d8576b"
            ],
            [
             0.6666666666666666,
             "#ed7953"
            ],
            [
             0.7777777777777778,
             "#fb9f3a"
            ],
            [
             0.8888888888888888,
             "#fdca26"
            ],
            [
             1,
             "#f0f921"
            ]
           ],
           "sequentialminus": [
            [
             0,
             "#0d0887"
            ],
            [
             0.1111111111111111,
             "#46039f"
            ],
            [
             0.2222222222222222,
             "#7201a8"
            ],
            [
             0.3333333333333333,
             "#9c179e"
            ],
            [
             0.4444444444444444,
             "#bd3786"
            ],
            [
             0.5555555555555556,
             "#d8576b"
            ],
            [
             0.6666666666666666,
             "#ed7953"
            ],
            [
             0.7777777777777778,
             "#fb9f3a"
            ],
            [
             0.8888888888888888,
             "#fdca26"
            ],
            [
             1,
             "#f0f921"
            ]
           ]
          },
          "colorway": [
           "#636efa",
           "#EF553B",
           "#00cc96",
           "#ab63fa",
           "#FFA15A",
           "#19d3f3",
           "#FF6692",
           "#B6E880",
           "#FF97FF",
           "#FECB52"
          ],
          "font": {
           "color": "#2a3f5f"
          },
          "geo": {
           "bgcolor": "white",
           "lakecolor": "white",
           "landcolor": "white",
           "showlakes": true,
           "showland": true,
           "subunitcolor": "#C8D4E3"
          },
          "hoverlabel": {
           "align": "left"
          },
          "hovermode": "closest",
          "mapbox": {
           "style": "light"
          },
          "paper_bgcolor": "white",
          "plot_bgcolor": "white",
          "polar": {
           "angularaxis": {
            "gridcolor": "#EBF0F8",
            "linecolor": "#EBF0F8",
            "ticks": ""
           },
           "bgcolor": "white",
           "radialaxis": {
            "gridcolor": "#EBF0F8",
            "linecolor": "#EBF0F8",
            "ticks": ""
           }
          },
          "scene": {
           "xaxis": {
            "backgroundcolor": "white",
            "gridcolor": "#DFE8F3",
            "gridwidth": 2,
            "linecolor": "#EBF0F8",
            "showbackground": true,
            "ticks": "",
            "zerolinecolor": "#EBF0F8"
           },
           "yaxis": {
            "backgroundcolor": "white",
            "gridcolor": "#DFE8F3",
            "gridwidth": 2,
            "linecolor": "#EBF0F8",
            "showbackground": true,
            "ticks": "",
            "zerolinecolor": "#EBF0F8"
           },
           "zaxis": {
            "backgroundcolor": "white",
            "gridcolor": "#DFE8F3",
            "gridwidth": 2,
            "linecolor": "#EBF0F8",
            "showbackground": true,
            "ticks": "",
            "zerolinecolor": "#EBF0F8"
           }
          },
          "shapedefaults": {
           "line": {
            "color": "#2a3f5f"
           }
          },
          "ternary": {
           "aaxis": {
            "gridcolor": "#DFE8F3",
            "linecolor": "#A2B1C6",
            "ticks": ""
           },
           "baxis": {
            "gridcolor": "#DFE8F3",
            "linecolor": "#A2B1C6",
            "ticks": ""
           },
           "bgcolor": "white",
           "caxis": {
            "gridcolor": "#DFE8F3",
            "linecolor": "#A2B1C6",
            "ticks": ""
           }
          },
          "title": {
           "x": 0.05
          },
          "xaxis": {
           "automargin": true,
           "gridcolor": "#EBF0F8",
           "linecolor": "#EBF0F8",
           "ticks": "",
           "title": {
            "standoff": 15
           },
           "zerolinecolor": "#EBF0F8",
           "zerolinewidth": 2
          },
          "yaxis": {
           "automargin": true,
           "gridcolor": "#EBF0F8",
           "linecolor": "#EBF0F8",
           "ticks": "",
           "title": {
            "standoff": 15
           },
           "zerolinecolor": "#EBF0F8",
           "zerolinewidth": 2
          }
         }
        },
        "uniformtext": {
         "minsize": 8,
         "mode": "hide"
        },
        "xaxis": {
         "anchor": "y",
         "domain": [
          0,
          1
         ],
         "title": {
          "text": "Tagging_Algorithm"
         }
        },
        "yaxis": {
         "anchor": "x",
         "domain": [
          0,
          1
         ],
         "title": {
          "text": "Tagging_Accuracy"
         }
        }
       }
      },
      "text/html": [
       "<div>\n",
       "        \n",
       "        \n",
       "            <div id=\"5a9416b8-8d2b-40ab-b5b9-f592f577d6a8\" class=\"plotly-graph-div\" style=\"height:525px; width:100%;\"></div>\n",
       "            <script type=\"text/javascript\">\n",
       "                require([\"plotly\"], function(Plotly) {\n",
       "                    window.PLOTLYENV=window.PLOTLYENV || {};\n",
       "                    \n",
       "                if (document.getElementById(\"5a9416b8-8d2b-40ab-b5b9-f592f577d6a8\")) {\n",
       "                    Plotly.newPlot(\n",
       "                        '5a9416b8-8d2b-40ab-b5b9-f592f577d6a8',\n",
       "                        [{\"alignmentgroup\": \"True\", \"hovertemplate\": \"Tagging_Algorithm=%{x}<br>Tagging_Accuracy=%{marker.color}<extra></extra>\", \"legendgroup\": \"\", \"marker\": {\"color\": [76.8, 88.95, 92.82], \"coloraxis\": \"coloraxis\"}, \"name\": \"\", \"offsetgroup\": \"\", \"orientation\": \"v\", \"showlegend\": false, \"text\": [76.8, 88.95, 92.82], \"textposition\": \"inside\", \"texttemplate\": \"%{text}%\", \"type\": \"bar\", \"x\": [\"Vanilla Viterbi\", \"Optimized Vanilla Viterbi\", \"Viterbi + Trigram_tagger\"], \"xaxis\": \"x\", \"y\": [76.8, 88.95, 92.82], \"yaxis\": \"y\"}],\n",
       "                        {\"barmode\": \"relative\", \"coloraxis\": {\"colorbar\": {\"title\": {\"text\": \"Tagging_Accuracy\"}}, \"colorscale\": [[0.0, \"#fee838\"], [0.1111111111111111, \"#e1cc55\"], [0.2222222222222222, \"#c3b369\"], [0.3333333333333333, \"#a59c74\"], [0.4444444444444444, \"#8a8678\"], [0.5555555555555556, \"#707173\"], [0.6666666666666666, \"#575d6d\"], [0.7777777777777778, \"#3b496c\"], [0.8888888888888888, \"#123570\"], [1.0, \"#00224e\"]]}, \"legend\": {\"tracegroupgap\": 0}, \"margin\": {\"t\": 60}, \"template\": {\"data\": {\"bar\": [{\"error_x\": {\"color\": \"#2a3f5f\"}, \"error_y\": {\"color\": \"#2a3f5f\"}, \"marker\": {\"line\": {\"color\": \"white\", \"width\": 0.5}}, \"type\": \"bar\"}], \"barpolar\": [{\"marker\": {\"line\": {\"color\": \"white\", \"width\": 0.5}}, \"type\": \"barpolar\"}], \"carpet\": [{\"aaxis\": {\"endlinecolor\": \"#2a3f5f\", \"gridcolor\": \"#C8D4E3\", \"linecolor\": \"#C8D4E3\", \"minorgridcolor\": \"#C8D4E3\", \"startlinecolor\": \"#2a3f5f\"}, \"baxis\": {\"endlinecolor\": \"#2a3f5f\", \"gridcolor\": \"#C8D4E3\", \"linecolor\": \"#C8D4E3\", \"minorgridcolor\": \"#C8D4E3\", \"startlinecolor\": \"#2a3f5f\"}, \"type\": \"carpet\"}], \"choropleth\": [{\"colorbar\": {\"outlinewidth\": 0, \"ticks\": \"\"}, \"type\": \"choropleth\"}], \"contour\": [{\"colorbar\": {\"outlinewidth\": 0, \"ticks\": \"\"}, \"colorscale\": [[0.0, \"#0d0887\"], [0.1111111111111111, \"#46039f\"], [0.2222222222222222, \"#7201a8\"], [0.3333333333333333, \"#9c179e\"], [0.4444444444444444, \"#bd3786\"], [0.5555555555555556, \"#d8576b\"], [0.6666666666666666, \"#ed7953\"], [0.7777777777777778, \"#fb9f3a\"], [0.8888888888888888, \"#fdca26\"], [1.0, \"#f0f921\"]], \"type\": \"contour\"}], \"contourcarpet\": [{\"colorbar\": {\"outlinewidth\": 0, \"ticks\": \"\"}, \"type\": \"contourcarpet\"}], \"heatmap\": [{\"colorbar\": {\"outlinewidth\": 0, \"ticks\": \"\"}, \"colorscale\": [[0.0, \"#0d0887\"], [0.1111111111111111, \"#46039f\"], [0.2222222222222222, \"#7201a8\"], [0.3333333333333333, \"#9c179e\"], [0.4444444444444444, \"#bd3786\"], [0.5555555555555556, \"#d8576b\"], [0.6666666666666666, \"#ed7953\"], [0.7777777777777778, \"#fb9f3a\"], [0.8888888888888888, \"#fdca26\"], [1.0, \"#f0f921\"]], \"type\": \"heatmap\"}], \"heatmapgl\": [{\"colorbar\": {\"outlinewidth\": 0, \"ticks\": \"\"}, \"colorscale\": [[0.0, \"#0d0887\"], [0.1111111111111111, \"#46039f\"], [0.2222222222222222, \"#7201a8\"], [0.3333333333333333, \"#9c179e\"], [0.4444444444444444, \"#bd3786\"], [0.5555555555555556, \"#d8576b\"], [0.6666666666666666, \"#ed7953\"], [0.7777777777777778, \"#fb9f3a\"], [0.8888888888888888, \"#fdca26\"], [1.0, \"#f0f921\"]], \"type\": \"heatmapgl\"}], \"histogram\": [{\"marker\": {\"colorbar\": {\"outlinewidth\": 0, \"ticks\": \"\"}}, \"type\": \"histogram\"}], \"histogram2d\": [{\"colorbar\": {\"outlinewidth\": 0, \"ticks\": \"\"}, \"colorscale\": [[0.0, \"#0d0887\"], [0.1111111111111111, \"#46039f\"], [0.2222222222222222, \"#7201a8\"], [0.3333333333333333, \"#9c179e\"], [0.4444444444444444, \"#bd3786\"], [0.5555555555555556, \"#d8576b\"], [0.6666666666666666, \"#ed7953\"], [0.7777777777777778, \"#fb9f3a\"], [0.8888888888888888, \"#fdca26\"], [1.0, \"#f0f921\"]], \"type\": \"histogram2d\"}], \"histogram2dcontour\": [{\"colorbar\": {\"outlinewidth\": 0, \"ticks\": \"\"}, \"colorscale\": [[0.0, \"#0d0887\"], [0.1111111111111111, \"#46039f\"], [0.2222222222222222, \"#7201a8\"], [0.3333333333333333, \"#9c179e\"], [0.4444444444444444, \"#bd3786\"], [0.5555555555555556, \"#d8576b\"], [0.6666666666666666, \"#ed7953\"], [0.7777777777777778, \"#fb9f3a\"], [0.8888888888888888, \"#fdca26\"], [1.0, \"#f0f921\"]], \"type\": \"histogram2dcontour\"}], \"mesh3d\": [{\"colorbar\": {\"outlinewidth\": 0, \"ticks\": \"\"}, \"type\": \"mesh3d\"}], \"parcoords\": [{\"line\": {\"colorbar\": {\"outlinewidth\": 0, \"ticks\": \"\"}}, \"type\": \"parcoords\"}], \"pie\": [{\"automargin\": true, \"type\": \"pie\"}], \"scatter\": [{\"marker\": {\"colorbar\": {\"outlinewidth\": 0, \"ticks\": \"\"}}, \"type\": \"scatter\"}], \"scatter3d\": [{\"line\": {\"colorbar\": {\"outlinewidth\": 0, \"ticks\": \"\"}}, \"marker\": {\"colorbar\": {\"outlinewidth\": 0, \"ticks\": \"\"}}, \"type\": \"scatter3d\"}], \"scattercarpet\": [{\"marker\": {\"colorbar\": {\"outlinewidth\": 0, \"ticks\": \"\"}}, \"type\": \"scattercarpet\"}], \"scattergeo\": [{\"marker\": {\"colorbar\": {\"outlinewidth\": 0, \"ticks\": \"\"}}, \"type\": \"scattergeo\"}], \"scattergl\": [{\"marker\": {\"colorbar\": {\"outlinewidth\": 0, \"ticks\": \"\"}}, \"type\": \"scattergl\"}], \"scattermapbox\": [{\"marker\": {\"colorbar\": {\"outlinewidth\": 0, \"ticks\": \"\"}}, \"type\": \"scattermapbox\"}], \"scatterpolar\": [{\"marker\": {\"colorbar\": {\"outlinewidth\": 0, \"ticks\": \"\"}}, \"type\": \"scatterpolar\"}], \"scatterpolargl\": [{\"marker\": {\"colorbar\": {\"outlinewidth\": 0, \"ticks\": \"\"}}, \"type\": \"scatterpolargl\"}], \"scatterternary\": [{\"marker\": {\"colorbar\": {\"outlinewidth\": 0, \"ticks\": \"\"}}, \"type\": \"scatterternary\"}], \"surface\": [{\"colorbar\": {\"outlinewidth\": 0, \"ticks\": \"\"}, \"colorscale\": [[0.0, \"#0d0887\"], [0.1111111111111111, \"#46039f\"], [0.2222222222222222, \"#7201a8\"], [0.3333333333333333, \"#9c179e\"], [0.4444444444444444, \"#bd3786\"], [0.5555555555555556, \"#d8576b\"], [0.6666666666666666, \"#ed7953\"], [0.7777777777777778, \"#fb9f3a\"], [0.8888888888888888, \"#fdca26\"], [1.0, \"#f0f921\"]], \"type\": \"surface\"}], \"table\": [{\"cells\": {\"fill\": {\"color\": \"#EBF0F8\"}, \"line\": {\"color\": \"white\"}}, \"header\": {\"fill\": {\"color\": \"#C8D4E3\"}, \"line\": {\"color\": \"white\"}}, \"type\": \"table\"}]}, \"layout\": {\"annotationdefaults\": {\"arrowcolor\": \"#2a3f5f\", \"arrowhead\": 0, \"arrowwidth\": 1}, \"coloraxis\": {\"colorbar\": {\"outlinewidth\": 0, \"ticks\": \"\"}}, \"colorscale\": {\"diverging\": [[0, \"#8e0152\"], [0.1, \"#c51b7d\"], [0.2, \"#de77ae\"], [0.3, \"#f1b6da\"], [0.4, \"#fde0ef\"], [0.5, \"#f7f7f7\"], [0.6, \"#e6f5d0\"], [0.7, \"#b8e186\"], [0.8, \"#7fbc41\"], [0.9, \"#4d9221\"], [1, \"#276419\"]], \"sequential\": [[0.0, \"#0d0887\"], [0.1111111111111111, \"#46039f\"], [0.2222222222222222, \"#7201a8\"], [0.3333333333333333, \"#9c179e\"], [0.4444444444444444, \"#bd3786\"], [0.5555555555555556, \"#d8576b\"], [0.6666666666666666, \"#ed7953\"], [0.7777777777777778, \"#fb9f3a\"], [0.8888888888888888, \"#fdca26\"], [1.0, \"#f0f921\"]], \"sequentialminus\": [[0.0, \"#0d0887\"], [0.1111111111111111, \"#46039f\"], [0.2222222222222222, \"#7201a8\"], [0.3333333333333333, \"#9c179e\"], [0.4444444444444444, \"#bd3786\"], [0.5555555555555556, \"#d8576b\"], [0.6666666666666666, \"#ed7953\"], [0.7777777777777778, \"#fb9f3a\"], [0.8888888888888888, \"#fdca26\"], [1.0, \"#f0f921\"]]}, \"colorway\": [\"#636efa\", \"#EF553B\", \"#00cc96\", \"#ab63fa\", \"#FFA15A\", \"#19d3f3\", \"#FF6692\", \"#B6E880\", \"#FF97FF\", \"#FECB52\"], \"font\": {\"color\": \"#2a3f5f\"}, \"geo\": {\"bgcolor\": \"white\", \"lakecolor\": \"white\", \"landcolor\": \"white\", \"showlakes\": true, \"showland\": true, \"subunitcolor\": \"#C8D4E3\"}, \"hoverlabel\": {\"align\": \"left\"}, \"hovermode\": \"closest\", \"mapbox\": {\"style\": \"light\"}, \"paper_bgcolor\": \"white\", \"plot_bgcolor\": \"white\", \"polar\": {\"angularaxis\": {\"gridcolor\": \"#EBF0F8\", \"linecolor\": \"#EBF0F8\", \"ticks\": \"\"}, \"bgcolor\": \"white\", \"radialaxis\": {\"gridcolor\": \"#EBF0F8\", \"linecolor\": \"#EBF0F8\", \"ticks\": \"\"}}, \"scene\": {\"xaxis\": {\"backgroundcolor\": \"white\", \"gridcolor\": \"#DFE8F3\", \"gridwidth\": 2, \"linecolor\": \"#EBF0F8\", \"showbackground\": true, \"ticks\": \"\", \"zerolinecolor\": \"#EBF0F8\"}, \"yaxis\": {\"backgroundcolor\": \"white\", \"gridcolor\": \"#DFE8F3\", \"gridwidth\": 2, \"linecolor\": \"#EBF0F8\", \"showbackground\": true, \"ticks\": \"\", \"zerolinecolor\": \"#EBF0F8\"}, \"zaxis\": {\"backgroundcolor\": \"white\", \"gridcolor\": \"#DFE8F3\", \"gridwidth\": 2, \"linecolor\": \"#EBF0F8\", \"showbackground\": true, \"ticks\": \"\", \"zerolinecolor\": \"#EBF0F8\"}}, \"shapedefaults\": {\"line\": {\"color\": \"#2a3f5f\"}}, \"ternary\": {\"aaxis\": {\"gridcolor\": \"#DFE8F3\", \"linecolor\": \"#A2B1C6\", \"ticks\": \"\"}, \"baxis\": {\"gridcolor\": \"#DFE8F3\", \"linecolor\": \"#A2B1C6\", \"ticks\": \"\"}, \"bgcolor\": \"white\", \"caxis\": {\"gridcolor\": \"#DFE8F3\", \"linecolor\": \"#A2B1C6\", \"ticks\": \"\"}}, \"title\": {\"x\": 0.05}, \"xaxis\": {\"automargin\": true, \"gridcolor\": \"#EBF0F8\", \"linecolor\": \"#EBF0F8\", \"ticks\": \"\", \"title\": {\"standoff\": 15}, \"zerolinecolor\": \"#EBF0F8\", \"zerolinewidth\": 2}, \"yaxis\": {\"automargin\": true, \"gridcolor\": \"#EBF0F8\", \"linecolor\": \"#EBF0F8\", \"ticks\": \"\", \"title\": {\"standoff\": 15}, \"zerolinecolor\": \"#EBF0F8\", \"zerolinewidth\": 2}}}, \"uniformtext\": {\"minsize\": 8, \"mode\": \"hide\"}, \"xaxis\": {\"anchor\": \"y\", \"domain\": [0.0, 1.0], \"title\": {\"text\": \"Tagging_Algorithm\"}}, \"yaxis\": {\"anchor\": \"x\", \"domain\": [0.0, 1.0], \"title\": {\"text\": \"Tagging_Accuracy\"}}},\n",
       "                        {\"responsive\": true}\n",
       "                    ).then(function(){\n",
       "                            \n",
       "var gd = document.getElementById('5a9416b8-8d2b-40ab-b5b9-f592f577d6a8');\n",
       "var x = new MutationObserver(function (mutations, observer) {{\n",
       "        var display = window.getComputedStyle(gd).display;\n",
       "        if (!display || display === 'none') {{\n",
       "            console.log([gd, 'removed!']);\n",
       "            Plotly.purge(gd);\n",
       "            observer.disconnect();\n",
       "        }}\n",
       "}});\n",
       "\n",
       "// Listen for the removal of the full notebook cells\n",
       "var notebookContainer = gd.closest('#notebook-container');\n",
       "if (notebookContainer) {{\n",
       "    x.observe(notebookContainer, {childList: true});\n",
       "}}\n",
       "\n",
       "// Listen for the clearing of the current output cell\n",
       "var outputEl = gd.closest('.output');\n",
       "if (outputEl) {{\n",
       "    x.observe(outputEl, {childList: true});\n",
       "}}\n",
       "\n",
       "                        })\n",
       "                };\n",
       "                });\n",
       "            </script>\n",
       "        </div>"
      ]
     },
     "metadata": {},
     "output_type": "display_data"
    }
   ],
   "source": [
    "fig = px.bar(sample_test_data_accuracy_df, x='Tagging_Algorithm', y='Tagging_Accuracy',text='Tagging_Accuracy',color='Tagging_Accuracy',\n",
    "            color_continuous_scale=px.colors.sequential.Cividis_r)\n",
    "fig.update_traces(texttemplate='%{text}%', textposition='inside')\n",
    "fig.update_layout(uniformtext_minsize=8, uniformtext_mode='hide')\n",
    "fig.show()\n"
   ]
  },
  {
   "cell_type": "markdown",
   "metadata": {},
   "source": [
    "We can see that for the sample test cases too, our Viterbi backed off with Trigram Tagger performed well with an accuracy of 92.82% where as the Vanilla Viterbi had only 76.8% accuracy."
   ]
  },
  {
   "cell_type": "markdown",
   "metadata": {},
   "source": [
    "### List down cases which were incorrectly tagged by original POS tagger & got corrected by your modifications -"
   ]
  },
  {
   "cell_type": "code",
   "execution_count": 73,
   "metadata": {},
   "outputs": [],
   "source": [
    "# test sentences\n",
    "\n",
    "test_sentence_1 = 'Android is a mobile operating system developed by Google.'\n",
    "test_sentence_2 = 'Android has been the best-selling OS worldwide on smartphones since 2011 and on tablets since 2013.'\n",
    "test_sentence_3 = \"Google and Twitter made a deal in 2015 that gave Google access to Twitter's firehose.\"\n",
    "test_sentence_4 = 'Twitter is an online news and social networking service on which users post and interact with messages known as tweets.'\n",
    "test_sentence_5 = 'Before entering politics, Donald Trump was a domineering businessman and a television personality.'\n",
    "test_sentence_6 = 'The 2018 FIFA World Cup is the 21st FIFA World Cup, an international football tournament contested once every four years.'\n",
    "test_sentence_7 = 'This is the first World Cup to be held in Eastern Europe and the 11th time that it has been held in Europe.'\n",
    "test_sentence_8 = 'Show me the cheapest round trips from Dallas to Atlanta'\n",
    "test_sentence_9 = 'I would like to see flights from Denver to Philadelphia.'\n",
    "test_sentence_10 = 'Show me the price of the flights leaving Atlanta at about 3 in the afternoon and arriving in San Francisco.'\n",
    "test_sentence_11 = 'NASA invited social media users to experience the launch of ICESAT-2 Satellite.'"
   ]
  },
  {
   "cell_type": "markdown",
   "metadata": {},
   "source": [
    "> ### Case - 1"
   ]
  },
  {
   "cell_type": "code",
   "execution_count": 74,
   "metadata": {},
   "outputs": [
    {
     "name": "stdout",
     "output_type": "stream",
     "text": [
      "Tagging sequence with Vanilla_Viterbi -\n",
      "\n",
      " [('Android', 'ADJ'), ('is', 'VERB'), ('a', 'DET'), ('mobile', 'ADJ'), ('operating', 'NOUN'), ('system', 'NOUN'), ('developed', 'VERB'), ('by', 'ADP'), ('Google', 'ADJ'), ('.', '.')]\n",
      "\n",
      "\n",
      "------------------------------------------------------------------------------------------------------------------------\n",
      "Tagging sequence with viterbi_backedup_by_trigram_tagger -\n",
      "\n",
      " [('Android', 'NOUN'), ('is', 'VERB'), ('a', 'DET'), ('mobile', 'ADJ'), ('operating', 'NOUN'), ('system', 'NOUN'), ('developed', 'VERB'), ('by', 'ADP'), ('Google', 'NOUN'), ('.', '.')]\n"
     ]
    }
   ],
   "source": [
    "# test_sentence_1 = 'Android is a mobile operating system developed by Google.'\n",
    "\n",
    "words_test_sentence_1 = nltk.word_tokenize(test_sentence_1)\n",
    "\n",
    "# pos tags with Vanilla_Viterbi\n",
    "pos_tagged_sequence_with_vanilla_viterbi = Vanilla_Viterbi(words_test_sentence_1)\n",
    "print(\"Tagging sequence with Vanilla_Viterbi -\\n\\n\", pos_tagged_sequence_with_vanilla_viterbi)\n",
    "\n",
    "print('\\n')\n",
    "print('-'*120)\n",
    "\n",
    "# pos tags with viterbi_backedup_by_trigram_tagger\n",
    "pos_tagged_sequence_with_viterbi_trigram = viterbi_backedup_by_trigram_tagger(words_test_sentence_1)\n",
    "print(\"Tagging sequence with viterbi_backedup_by_trigram_tagger -\\n\\n\", pos_tagged_sequence_with_viterbi_trigram)"
   ]
  },
  {
   "cell_type": "code",
   "execution_count": 75,
   "metadata": {},
   "outputs": [
    {
     "data": {
      "text/html": [
       "<div>\n",
       "<style scoped>\n",
       "    .dataframe tbody tr th:only-of-type {\n",
       "        vertical-align: middle;\n",
       "    }\n",
       "\n",
       "    .dataframe tbody tr th {\n",
       "        vertical-align: top;\n",
       "    }\n",
       "\n",
       "    .dataframe thead th {\n",
       "        text-align: right;\n",
       "    }\n",
       "</style>\n",
       "<table border=\"1\" class=\"dataframe\">\n",
       "  <thead>\n",
       "    <tr style=\"text-align: right;\">\n",
       "      <th></th>\n",
       "      <th>vanilla_viterbi_tags</th>\n",
       "      <th>viterbi_trigram_tags_with_corrections</th>\n",
       "    </tr>\n",
       "  </thead>\n",
       "  <tbody>\n",
       "    <tr>\n",
       "      <th>0</th>\n",
       "      <td>(Android, ADJ)</td>\n",
       "      <td>(Android, NOUN)</td>\n",
       "    </tr>\n",
       "    <tr>\n",
       "      <th>1</th>\n",
       "      <td>(is, VERB)</td>\n",
       "      <td>(is, VERB)</td>\n",
       "    </tr>\n",
       "    <tr>\n",
       "      <th>2</th>\n",
       "      <td>(a, DET)</td>\n",
       "      <td>(a, DET)</td>\n",
       "    </tr>\n",
       "    <tr>\n",
       "      <th>3</th>\n",
       "      <td>(mobile, ADJ)</td>\n",
       "      <td>(mobile, ADJ)</td>\n",
       "    </tr>\n",
       "    <tr>\n",
       "      <th>4</th>\n",
       "      <td>(operating, NOUN)</td>\n",
       "      <td>(operating, NOUN)</td>\n",
       "    </tr>\n",
       "    <tr>\n",
       "      <th>5</th>\n",
       "      <td>(system, NOUN)</td>\n",
       "      <td>(system, NOUN)</td>\n",
       "    </tr>\n",
       "    <tr>\n",
       "      <th>6</th>\n",
       "      <td>(developed, VERB)</td>\n",
       "      <td>(developed, VERB)</td>\n",
       "    </tr>\n",
       "    <tr>\n",
       "      <th>7</th>\n",
       "      <td>(by, ADP)</td>\n",
       "      <td>(by, ADP)</td>\n",
       "    </tr>\n",
       "    <tr>\n",
       "      <th>8</th>\n",
       "      <td>(Google, ADJ)</td>\n",
       "      <td>(Google, NOUN)</td>\n",
       "    </tr>\n",
       "    <tr>\n",
       "      <th>9</th>\n",
       "      <td>(., .)</td>\n",
       "      <td>(., .)</td>\n",
       "    </tr>\n",
       "  </tbody>\n",
       "</table>\n",
       "</div>"
      ],
      "text/plain": [
       "  vanilla_viterbi_tags viterbi_trigram_tags_with_corrections\n",
       "0       (Android, ADJ)                       (Android, NOUN)\n",
       "1           (is, VERB)                            (is, VERB)\n",
       "2             (a, DET)                              (a, DET)\n",
       "3        (mobile, ADJ)                         (mobile, ADJ)\n",
       "4    (operating, NOUN)                     (operating, NOUN)\n",
       "5       (system, NOUN)                        (system, NOUN)\n",
       "6    (developed, VERB)                     (developed, VERB)\n",
       "7            (by, ADP)                             (by, ADP)\n",
       "8        (Google, ADJ)                        (Google, NOUN)\n",
       "9               (., .)                                (., .)"
      ]
     },
     "execution_count": 75,
     "metadata": {},
     "output_type": "execute_result"
    }
   ],
   "source": [
    "cols = ['vanilla_viterbi_tags', 'viterbi_trigram_tags_with_corrections']\n",
    "tags_correction_df_1 = pd.DataFrame(columns = cols)\n",
    "tags_correction_df_1 = tags_correction_df_1.fillna(0)\n",
    "\n",
    "tags_correction_df_1.vanilla_viterbi_tags = [tup for tup in pos_tagged_sequence_with_vanilla_viterbi]\n",
    "tags_correction_df_1.viterbi_trigram_tags_with_corrections = [tup for tup in pos_tagged_sequence_with_viterbi_trigram]\n",
    "\n",
    "tags_correction_df_1"
   ]
  },
  {
   "cell_type": "markdown",
   "metadata": {},
   "source": [
    "We can clearly see in the above output the Vanilla Viterbi tagged the word noun as Adjective where as our Viterbi backed off with Trigram Tagger tagged it as Noun which is correct."
   ]
  },
  {
   "cell_type": "markdown",
   "metadata": {},
   "source": [
    "> ### Case - 2"
   ]
  },
  {
   "cell_type": "code",
   "execution_count": 76,
   "metadata": {},
   "outputs": [
    {
     "name": "stdout",
     "output_type": "stream",
     "text": [
      "Tagging sequence with Vanilla_Viterbi -\n",
      "\n",
      " [('The', 'DET'), ('2018', 'ADJ'), ('FIFA', 'ADJ'), ('World', 'NOUN'), ('Cup', 'ADJ'), ('is', 'VERB'), ('the', 'DET'), ('21st', 'ADJ'), ('FIFA', 'ADJ'), ('World', 'NOUN'), ('Cup', 'ADJ'), (',', '.'), ('an', 'DET'), ('international', 'ADJ'), ('football', 'NOUN'), ('tournament', 'ADJ'), ('contested', 'ADJ'), ('once', 'ADV'), ('every', 'DET'), ('four', 'NUM'), ('years', 'NOUN'), ('.', '.')]\n",
      "\n",
      "\n",
      "------------------------------------------------------------------------------------------------------------------------\n",
      "Tagging sequence with viterbi_backedup_by_trigram_tagger -\n",
      "\n",
      " [('The', 'DET'), ('2018', 'NUM'), ('FIFA', 'NOUN'), ('World', 'NOUN'), ('Cup', 'NOUN'), ('is', 'VERB'), ('the', 'DET'), ('21st', 'NUM'), ('FIFA', 'NOUN'), ('World', 'NOUN'), ('Cup', 'NOUN'), (',', '.'), ('an', 'DET'), ('international', 'ADJ'), ('football', 'NOUN'), ('tournament', 'NOUN'), ('contested', 'VERB'), ('once', 'ADV'), ('every', 'DET'), ('four', 'NUM'), ('years', 'NOUN'), ('.', '.')]\n"
     ]
    }
   ],
   "source": [
    "# test_sentence_6 = 'The 2018 FIFA World Cup is the 21st FIFA World Cup, \n",
    "#                   an international football tournament contested once every four years.'\n",
    "\n",
    "words_test_sentence_6 = nltk.word_tokenize(test_sentence_6)\n",
    "\n",
    "# pos tags with Vanilla_Viterbi\n",
    "pos_tagged_sequence_with_vanilla_viterbi_6 = Vanilla_Viterbi(words_test_sentence_6)\n",
    "print(\"Tagging sequence with Vanilla_Viterbi -\\n\\n\", pos_tagged_sequence_with_vanilla_viterbi_6)\n",
    "\n",
    "print('\\n')\n",
    "print('-'*120)\n",
    "\n",
    "# pos tags with viterbi_backedup_by_trigram_tagger\n",
    "pos_tagged_sequence_with_viterbi_trigram_6 = viterbi_backedup_by_trigram_tagger(words_test_sentence_6)\n",
    "print(\"Tagging sequence with viterbi_backedup_by_trigram_tagger -\\n\\n\", pos_tagged_sequence_with_viterbi_trigram_6)"
   ]
  },
  {
   "cell_type": "code",
   "execution_count": 77,
   "metadata": {},
   "outputs": [
    {
     "data": {
      "text/html": [
       "<div>\n",
       "<style scoped>\n",
       "    .dataframe tbody tr th:only-of-type {\n",
       "        vertical-align: middle;\n",
       "    }\n",
       "\n",
       "    .dataframe tbody tr th {\n",
       "        vertical-align: top;\n",
       "    }\n",
       "\n",
       "    .dataframe thead th {\n",
       "        text-align: right;\n",
       "    }\n",
       "</style>\n",
       "<table border=\"1\" class=\"dataframe\">\n",
       "  <thead>\n",
       "    <tr style=\"text-align: right;\">\n",
       "      <th></th>\n",
       "      <th>vanilla_viterbi_tags</th>\n",
       "      <th>viterbi_trigram_tags_with_corrections</th>\n",
       "    </tr>\n",
       "  </thead>\n",
       "  <tbody>\n",
       "    <tr>\n",
       "      <th>0</th>\n",
       "      <td>(The, DET)</td>\n",
       "      <td>(The, DET)</td>\n",
       "    </tr>\n",
       "    <tr>\n",
       "      <th>1</th>\n",
       "      <td>(2018, ADJ)</td>\n",
       "      <td>(2018, NUM)</td>\n",
       "    </tr>\n",
       "    <tr>\n",
       "      <th>2</th>\n",
       "      <td>(FIFA, ADJ)</td>\n",
       "      <td>(FIFA, NOUN)</td>\n",
       "    </tr>\n",
       "    <tr>\n",
       "      <th>3</th>\n",
       "      <td>(World, NOUN)</td>\n",
       "      <td>(World, NOUN)</td>\n",
       "    </tr>\n",
       "    <tr>\n",
       "      <th>4</th>\n",
       "      <td>(Cup, ADJ)</td>\n",
       "      <td>(Cup, NOUN)</td>\n",
       "    </tr>\n",
       "    <tr>\n",
       "      <th>5</th>\n",
       "      <td>(is, VERB)</td>\n",
       "      <td>(is, VERB)</td>\n",
       "    </tr>\n",
       "    <tr>\n",
       "      <th>6</th>\n",
       "      <td>(the, DET)</td>\n",
       "      <td>(the, DET)</td>\n",
       "    </tr>\n",
       "    <tr>\n",
       "      <th>7</th>\n",
       "      <td>(21st, ADJ)</td>\n",
       "      <td>(21st, NUM)</td>\n",
       "    </tr>\n",
       "    <tr>\n",
       "      <th>8</th>\n",
       "      <td>(FIFA, ADJ)</td>\n",
       "      <td>(FIFA, NOUN)</td>\n",
       "    </tr>\n",
       "    <tr>\n",
       "      <th>9</th>\n",
       "      <td>(World, NOUN)</td>\n",
       "      <td>(World, NOUN)</td>\n",
       "    </tr>\n",
       "    <tr>\n",
       "      <th>10</th>\n",
       "      <td>(Cup, ADJ)</td>\n",
       "      <td>(Cup, NOUN)</td>\n",
       "    </tr>\n",
       "    <tr>\n",
       "      <th>11</th>\n",
       "      <td>(,, .)</td>\n",
       "      <td>(,, .)</td>\n",
       "    </tr>\n",
       "    <tr>\n",
       "      <th>12</th>\n",
       "      <td>(an, DET)</td>\n",
       "      <td>(an, DET)</td>\n",
       "    </tr>\n",
       "    <tr>\n",
       "      <th>13</th>\n",
       "      <td>(international, ADJ)</td>\n",
       "      <td>(international, ADJ)</td>\n",
       "    </tr>\n",
       "    <tr>\n",
       "      <th>14</th>\n",
       "      <td>(football, NOUN)</td>\n",
       "      <td>(football, NOUN)</td>\n",
       "    </tr>\n",
       "    <tr>\n",
       "      <th>15</th>\n",
       "      <td>(tournament, ADJ)</td>\n",
       "      <td>(tournament, NOUN)</td>\n",
       "    </tr>\n",
       "    <tr>\n",
       "      <th>16</th>\n",
       "      <td>(contested, ADJ)</td>\n",
       "      <td>(contested, VERB)</td>\n",
       "    </tr>\n",
       "    <tr>\n",
       "      <th>17</th>\n",
       "      <td>(once, ADV)</td>\n",
       "      <td>(once, ADV)</td>\n",
       "    </tr>\n",
       "    <tr>\n",
       "      <th>18</th>\n",
       "      <td>(every, DET)</td>\n",
       "      <td>(every, DET)</td>\n",
       "    </tr>\n",
       "    <tr>\n",
       "      <th>19</th>\n",
       "      <td>(four, NUM)</td>\n",
       "      <td>(four, NUM)</td>\n",
       "    </tr>\n",
       "    <tr>\n",
       "      <th>20</th>\n",
       "      <td>(years, NOUN)</td>\n",
       "      <td>(years, NOUN)</td>\n",
       "    </tr>\n",
       "    <tr>\n",
       "      <th>21</th>\n",
       "      <td>(., .)</td>\n",
       "      <td>(., .)</td>\n",
       "    </tr>\n",
       "  </tbody>\n",
       "</table>\n",
       "</div>"
      ],
      "text/plain": [
       "    vanilla_viterbi_tags viterbi_trigram_tags_with_corrections\n",
       "0             (The, DET)                            (The, DET)\n",
       "1            (2018, ADJ)                           (2018, NUM)\n",
       "2            (FIFA, ADJ)                          (FIFA, NOUN)\n",
       "3          (World, NOUN)                         (World, NOUN)\n",
       "4             (Cup, ADJ)                           (Cup, NOUN)\n",
       "5             (is, VERB)                            (is, VERB)\n",
       "6             (the, DET)                            (the, DET)\n",
       "7            (21st, ADJ)                           (21st, NUM)\n",
       "8            (FIFA, ADJ)                          (FIFA, NOUN)\n",
       "9          (World, NOUN)                         (World, NOUN)\n",
       "10            (Cup, ADJ)                           (Cup, NOUN)\n",
       "11                (,, .)                                (,, .)\n",
       "12             (an, DET)                             (an, DET)\n",
       "13  (international, ADJ)                  (international, ADJ)\n",
       "14      (football, NOUN)                      (football, NOUN)\n",
       "15     (tournament, ADJ)                    (tournament, NOUN)\n",
       "16      (contested, ADJ)                     (contested, VERB)\n",
       "17           (once, ADV)                           (once, ADV)\n",
       "18          (every, DET)                          (every, DET)\n",
       "19           (four, NUM)                           (four, NUM)\n",
       "20         (years, NOUN)                         (years, NOUN)\n",
       "21                (., .)                                (., .)"
      ]
     },
     "execution_count": 77,
     "metadata": {},
     "output_type": "execute_result"
    }
   ],
   "source": [
    "tags_correction_df_6 = pd.DataFrame(columns = cols)\n",
    "tags_correction_df_6 = tags_correction_df_6.fillna(0)\n",
    "\n",
    "tags_correction_df_6.vanilla_viterbi_tags = [tup for tup in pos_tagged_sequence_with_vanilla_viterbi_6]\n",
    "tags_correction_df_6.viterbi_trigram_tags_with_corrections = [tup for tup in pos_tagged_sequence_with_viterbi_trigram_6]\n",
    "\n",
    "tags_correction_df_6"
   ]
  },
  {
   "cell_type": "markdown",
   "metadata": {},
   "source": [
    "We can clearly see that Vanilla Viterbi has made the following mistakes in tagging:\n",
    "    - '2018' - PRT, 'FIFA' - PRT, 'Cup' - PRT, '21st' - PRT, 'tournament' - PRT, 'contested' - PRT.\n",
    "where as Viterbi backed off by a Trigram Tagger had the following corrections in it:\n",
    "    - '2018' - NUM, 'FIFA' - NOUN, 'Cup' - NOUN, '21st' - NUM, 'tournament' - NOUN, 'contested' - VERB.\n"
   ]
  },
  {
   "cell_type": "markdown",
   "metadata": {},
   "source": [
    "> ### Case - 3"
   ]
  },
  {
   "cell_type": "code",
   "execution_count": 78,
   "metadata": {
    "scrolled": true
   },
   "outputs": [
    {
     "name": "stdout",
     "output_type": "stream",
     "text": [
      "Tagging sequence with Vanilla_Viterbi -\n",
      "\n",
      " [('Show', 'NOUN'), ('me', 'PRON'), ('the', 'DET'), ('cheapest', 'ADJ'), ('round', 'NOUN'), ('trips', 'ADJ'), ('from', 'ADP'), ('Dallas', 'NOUN'), ('to', 'PRT'), ('Atlanta', 'NOUN')]\n",
      "\n",
      "\n",
      "------------------------------------------------------------------------------------------------------------------------\n",
      "Tagging sequence with viterbi_backedup_by_trigram_tagger -\n",
      "\n",
      " [('Show', 'NOUN'), ('me', 'PRON'), ('the', 'DET'), ('cheapest', 'ADJ'), ('round', 'NOUN'), ('trips', 'NOUN'), ('from', 'ADP'), ('Dallas', 'NOUN'), ('to', 'PRT'), ('Atlanta', 'NOUN')]\n"
     ]
    }
   ],
   "source": [
    "# test_sentence_8 = 'Show me the cheapest round trips from Dallas to Atlanta'\n",
    "\n",
    "words_test_sentence_8 = nltk.word_tokenize(test_sentence_8)\n",
    "\n",
    "# pos tags with Vanilla_Viterbi\n",
    "pos_tagged_sequence_with_vanilla_viterbi_8 = Vanilla_Viterbi(words_test_sentence_8)\n",
    "print(\"Tagging sequence with Vanilla_Viterbi -\\n\\n\", pos_tagged_sequence_with_vanilla_viterbi_8)\n",
    "\n",
    "print('\\n')\n",
    "print('-'*120)\n",
    "\n",
    "# pos tags with viterbi_backedup_by_trigram_tagger\n",
    "pos_tagged_sequence_with_viterbi_trigram_8 = viterbi_backedup_by_trigram_tagger(words_test_sentence_8)\n",
    "print(\"Tagging sequence with viterbi_backedup_by_trigram_tagger -\\n\\n\", pos_tagged_sequence_with_viterbi_trigram_8)"
   ]
  },
  {
   "cell_type": "code",
   "execution_count": 79,
   "metadata": {},
   "outputs": [
    {
     "data": {
      "text/html": [
       "<div>\n",
       "<style scoped>\n",
       "    .dataframe tbody tr th:only-of-type {\n",
       "        vertical-align: middle;\n",
       "    }\n",
       "\n",
       "    .dataframe tbody tr th {\n",
       "        vertical-align: top;\n",
       "    }\n",
       "\n",
       "    .dataframe thead th {\n",
       "        text-align: right;\n",
       "    }\n",
       "</style>\n",
       "<table border=\"1\" class=\"dataframe\">\n",
       "  <thead>\n",
       "    <tr style=\"text-align: right;\">\n",
       "      <th></th>\n",
       "      <th>vanilla_viterbi_tags</th>\n",
       "      <th>viterbi_trigram_tags_with_corrections</th>\n",
       "    </tr>\n",
       "  </thead>\n",
       "  <tbody>\n",
       "    <tr>\n",
       "      <th>0</th>\n",
       "      <td>(Show, NOUN)</td>\n",
       "      <td>(Show, NOUN)</td>\n",
       "    </tr>\n",
       "    <tr>\n",
       "      <th>1</th>\n",
       "      <td>(me, PRON)</td>\n",
       "      <td>(me, PRON)</td>\n",
       "    </tr>\n",
       "    <tr>\n",
       "      <th>2</th>\n",
       "      <td>(the, DET)</td>\n",
       "      <td>(the, DET)</td>\n",
       "    </tr>\n",
       "    <tr>\n",
       "      <th>3</th>\n",
       "      <td>(cheapest, ADJ)</td>\n",
       "      <td>(cheapest, ADJ)</td>\n",
       "    </tr>\n",
       "    <tr>\n",
       "      <th>4</th>\n",
       "      <td>(round, NOUN)</td>\n",
       "      <td>(round, NOUN)</td>\n",
       "    </tr>\n",
       "    <tr>\n",
       "      <th>5</th>\n",
       "      <td>(trips, ADJ)</td>\n",
       "      <td>(trips, NOUN)</td>\n",
       "    </tr>\n",
       "    <tr>\n",
       "      <th>6</th>\n",
       "      <td>(from, ADP)</td>\n",
       "      <td>(from, ADP)</td>\n",
       "    </tr>\n",
       "    <tr>\n",
       "      <th>7</th>\n",
       "      <td>(Dallas, NOUN)</td>\n",
       "      <td>(Dallas, NOUN)</td>\n",
       "    </tr>\n",
       "    <tr>\n",
       "      <th>8</th>\n",
       "      <td>(to, PRT)</td>\n",
       "      <td>(to, PRT)</td>\n",
       "    </tr>\n",
       "    <tr>\n",
       "      <th>9</th>\n",
       "      <td>(Atlanta, NOUN)</td>\n",
       "      <td>(Atlanta, NOUN)</td>\n",
       "    </tr>\n",
       "  </tbody>\n",
       "</table>\n",
       "</div>"
      ],
      "text/plain": [
       "  vanilla_viterbi_tags viterbi_trigram_tags_with_corrections\n",
       "0         (Show, NOUN)                          (Show, NOUN)\n",
       "1           (me, PRON)                            (me, PRON)\n",
       "2           (the, DET)                            (the, DET)\n",
       "3      (cheapest, ADJ)                       (cheapest, ADJ)\n",
       "4        (round, NOUN)                         (round, NOUN)\n",
       "5         (trips, ADJ)                         (trips, NOUN)\n",
       "6          (from, ADP)                           (from, ADP)\n",
       "7       (Dallas, NOUN)                        (Dallas, NOUN)\n",
       "8            (to, PRT)                             (to, PRT)\n",
       "9      (Atlanta, NOUN)                       (Atlanta, NOUN)"
      ]
     },
     "execution_count": 79,
     "metadata": {},
     "output_type": "execute_result"
    }
   ],
   "source": [
    "tags_correction_df_8 = pd.DataFrame(columns = cols)\n",
    "tags_correction_df_8 = tags_correction_df_8.fillna(0)\n",
    "\n",
    "tags_correction_df_8.vanilla_viterbi_tags = [tup for tup in pos_tagged_sequence_with_vanilla_viterbi_8]\n",
    "tags_correction_df_8.viterbi_trigram_tags_with_corrections = [tup for tup in pos_tagged_sequence_with_viterbi_trigram_8]\n",
    "\n",
    "tags_correction_df_8"
   ]
  },
  {
   "cell_type": "markdown",
   "metadata": {},
   "source": [
    "We can see that the Vanilla Viterbi algorithm tagged the word 'Trips' as PRT where as the Viterbi algorithm using back off as trigram tagger tagged it as Noun which is correct."
   ]
  },
  {
   "cell_type": "markdown",
   "metadata": {},
   "source": [
    "Now as we have seen that our modified version of Viterbi performs better than the Vanilla Viterbi Algorithm. To conclude this, we can now see the results on the whole test set for all the following three different approaches:\n",
    "1. Vanilla Viterbi Algorithm\n",
    "2. Viterbi using transition prob for unknown words\n",
    "3. Viterbi backed off by a Trigram tagger"
   ]
  },
  {
   "cell_type": "code",
   "execution_count": 80,
   "metadata": {},
   "outputs": [
    {
     "name": "stdout",
     "output_type": "stream",
     "text": [
      "Tagging sequence with Vanilla_Viterbi -\n",
      "\n",
      " [('Android', 'ADJ'), ('is', 'VERB'), ('a', 'DET'), ('mobile', 'ADJ'), ('operating', 'NOUN'), ('system', 'NOUN'), ('developed', 'VERB'), ('by', 'ADP'), ('Google', 'ADJ'), ('.', '.'), ('Android', 'ADJ'), ('has', 'VERB'), ('been', 'VERB'), ('the', 'DET'), ('best-selling', 'ADJ'), ('OS', 'ADJ'), ('worldwide', 'ADJ'), ('on', 'ADP'), ('smartphones', 'ADJ'), ('since', 'ADP'), ('2011', 'ADJ'), ('and', 'CONJ'), ('on', 'ADP'), ('tablets', 'NOUN'), ('since', 'ADP'), ('2013', 'ADJ'), ('.', '.'), ('Google', 'ADJ'), ('and', 'CONJ'), ('Twitter', 'ADJ'), ('made', 'VERB'), ('a', 'DET'), ('deal', 'NOUN'), ('in', 'ADP'), ('2015', 'ADJ'), ('that', 'ADP'), ('gave', 'VERB'), ('Google', 'ADJ'), ('access', 'NOUN'), ('to', 'PRT'), ('Twitter', 'ADJ'), (\"'s\", 'PRT'), ('firehose', 'ADJ'), ('.', '.'), ('Twitter', 'ADJ'), ('is', 'VERB'), ('an', 'DET'), ('online', 'ADJ'), ('news', 'NOUN'), ('and', 'CONJ'), ('social', 'ADJ'), ('networking', 'NOUN'), ('service', 'NOUN'), ('on', 'ADP'), ('which', 'DET'), ('users', 'NOUN'), ('post', 'NOUN'), ('and', 'CONJ'), ('interact', 'ADJ'), ('with', 'ADP'), ('messages', 'ADJ'), ('known', 'VERB'), ('as', 'ADP'), ('tweets', 'ADJ'), ('.', '.'), ('Before', 'ADP'), ('entering', 'VERB'), ('politics', 'NOUN'), (',', '.'), ('Donald', 'NOUN'), ('Trump', 'NOUN'), ('was', 'VERB'), ('a', 'DET'), ('domineering', 'ADJ'), ('businessman', 'NOUN'), ('and', 'CONJ'), ('a', 'DET'), ('television', 'NOUN'), ('personality', 'ADJ'), ('.', '.'), ('The', 'DET'), ('2018', 'ADJ'), ('FIFA', 'ADJ'), ('World', 'NOUN'), ('Cup', 'ADJ'), ('is', 'VERB'), ('the', 'DET'), ('21st', 'ADJ'), ('FIFA', 'ADJ'), ('World', 'NOUN'), ('Cup', 'ADJ'), (',', '.'), ('an', 'DET'), ('international', 'ADJ'), ('football', 'NOUN'), ('tournament', 'ADJ'), ('contested', 'ADJ'), ('once', 'ADV'), ('every', 'DET'), ('four', 'NUM'), ('years', 'NOUN'), ('.', '.'), ('This', 'DET'), ('is', 'VERB'), ('the', 'DET'), ('first', 'ADJ'), ('World', 'NOUN'), ('Cup', 'ADJ'), ('to', 'PRT'), ('be', 'VERB'), ('held', 'VERB'), ('in', 'ADP'), ('Eastern', 'NOUN'), ('Europe', 'NOUN'), ('and', 'CONJ'), ('the', 'DET'), ('11th', 'ADJ'), ('time', 'NOUN'), ('that', 'ADP'), ('it', 'PRON'), ('has', 'VERB'), ('been', 'VERB'), ('held', 'VERB'), ('in', 'ADP'), ('Europe', 'NOUN'), ('.', '.'), ('Show', 'NOUN'), ('me', 'PRON'), ('the', 'DET'), ('cheapest', 'ADJ'), ('round', 'NOUN'), ('trips', 'ADJ'), ('from', 'ADP'), ('Dallas', 'NOUN'), ('to', 'PRT'), ('Atlanta', 'NOUN'), ('I', 'PRON'), ('would', 'VERB'), ('like', 'ADP'), ('to', 'PRT'), ('see', 'VERB'), ('flights', 'NOUN'), ('from', 'ADP'), ('Denver', 'NOUN'), ('to', 'PRT'), ('Philadelphia', 'NOUN'), ('.', '.'), ('Show', 'NOUN'), ('me', 'PRON'), ('the', 'DET'), ('price', 'NOUN'), ('of', 'ADP'), ('the', 'DET'), ('flights', 'NOUN'), ('leaving', 'VERB'), ('Atlanta', 'NOUN'), ('at', 'ADP'), ('about', 'ADP'), ('3', 'NUM'), ('in', 'ADP'), ('the', 'DET'), ('afternoon', 'NOUN'), ('and', 'CONJ'), ('arriving', 'ADJ'), ('in', 'ADP'), ('San', 'NOUN'), ('Francisco', 'NOUN'), ('.', '.'), ('NASA', 'ADJ'), ('invited', 'ADJ'), ('social', 'ADJ'), ('media', 'NOUN'), ('users', 'NOUN'), ('to', 'PRT'), ('experience', 'NOUN'), ('the', 'DET'), ('launch', 'NOUN'), ('of', 'ADP'), ('ICESAT-2', 'ADJ'), ('Satellite', 'ADJ'), ('.', '.')]\n",
      "\n",
      "\n",
      "########################################################################################################################\n",
      "Tagging sequence with viterbi using only transition probability for unknown words -\n",
      "\n",
      " [('Android', 'NOUN'), ('is', 'VERB'), ('a', 'DET'), ('mobile', 'ADJ'), ('operating', 'NOUN'), ('system', 'NOUN'), ('developed', 'VERB'), ('by', 'ADP'), ('Google', 'NOUN'), ('.', '.'), ('Android', 'NOUN'), ('has', 'VERB'), ('been', 'VERB'), ('the', 'DET'), ('best-selling', 'ADJ'), ('OS', 'NOUN'), ('worldwide', 'NOUN'), ('on', 'ADP'), ('smartphones', 'NOUN'), ('since', 'ADP'), ('2011', 'NOUN'), ('and', 'CONJ'), ('on', 'ADP'), ('tablets', 'NOUN'), ('since', 'ADP'), ('2013', 'NOUN'), ('.', '.'), ('Google', 'NOUN'), ('and', 'CONJ'), ('Twitter', 'NOUN'), ('made', 'VERB'), ('a', 'DET'), ('deal', 'NOUN'), ('in', 'ADP'), ('2015', 'NOUN'), ('that', 'ADP'), ('gave', 'VERB'), ('Google', 'X'), ('access', 'NOUN'), ('to', 'PRT'), ('Twitter', 'VERB'), (\"'s\", 'PRT'), ('firehose', 'VERB'), ('.', '.'), ('Twitter', 'NOUN'), ('is', 'VERB'), ('an', 'DET'), ('online', 'NOUN'), ('news', 'NOUN'), ('and', 'CONJ'), ('social', 'ADJ'), ('networking', 'NOUN'), ('service', 'NOUN'), ('on', 'ADP'), ('which', 'DET'), ('users', 'NOUN'), ('post', 'NOUN'), ('and', 'CONJ'), ('interact', 'NOUN'), ('with', 'ADP'), ('messages', 'NOUN'), ('known', 'VERB'), ('as', 'ADP'), ('tweets', 'NOUN'), ('.', '.'), ('Before', 'ADP'), ('entering', 'VERB'), ('politics', 'NOUN'), (',', '.'), ('Donald', 'NOUN'), ('Trump', 'NOUN'), ('was', 'VERB'), ('a', 'DET'), ('domineering', 'NOUN'), ('businessman', 'NOUN'), ('and', 'CONJ'), ('a', 'DET'), ('television', 'NOUN'), ('personality', 'NOUN'), ('.', '.'), ('The', 'DET'), ('2018', 'NOUN'), ('FIFA', 'NOUN'), ('World', 'NOUN'), ('Cup', 'NOUN'), ('is', 'VERB'), ('the', 'DET'), ('21st', 'NOUN'), ('FIFA', 'NOUN'), ('World', 'NOUN'), ('Cup', 'NOUN'), (',', '.'), ('an', 'DET'), ('international', 'ADJ'), ('football', 'NOUN'), ('tournament', 'NOUN'), ('contested', 'NOUN'), ('once', 'ADV'), ('every', 'DET'), ('four', 'NUM'), ('years', 'NOUN'), ('.', '.'), ('This', 'DET'), ('is', 'VERB'), ('the', 'DET'), ('first', 'ADJ'), ('World', 'NOUN'), ('Cup', 'NOUN'), ('to', 'PRT'), ('be', 'VERB'), ('held', 'VERB'), ('in', 'ADP'), ('Eastern', 'NOUN'), ('Europe', 'NOUN'), ('and', 'CONJ'), ('the', 'DET'), ('11th', 'ADJ'), ('time', 'NOUN'), ('that', 'ADP'), ('it', 'PRON'), ('has', 'VERB'), ('been', 'VERB'), ('held', 'VERB'), ('in', 'ADP'), ('Europe', 'NOUN'), ('.', '.'), ('Show', 'NOUN'), ('me', 'PRON'), ('the', 'DET'), ('cheapest', 'ADJ'), ('round', 'NOUN'), ('trips', 'NOUN'), ('from', 'ADP'), ('Dallas', 'NOUN'), ('to', 'PRT'), ('Atlanta', 'NOUN'), ('I', 'PRON'), ('would', 'VERB'), ('like', 'ADP'), ('to', 'PRT'), ('see', 'VERB'), ('flights', 'NOUN'), ('from', 'ADP'), ('Denver', 'NOUN'), ('to', 'PRT'), ('Philadelphia', 'NOUN'), ('.', '.'), ('Show', 'NOUN'), ('me', 'PRON'), ('the', 'DET'), ('price', 'NOUN'), ('of', 'ADP'), ('the', 'DET'), ('flights', 'NOUN'), ('leaving', 'VERB'), ('Atlanta', 'NOUN'), ('at', 'ADP'), ('about', 'ADP'), ('3', 'NUM'), ('in', 'ADP'), ('the', 'DET'), ('afternoon', 'NOUN'), ('and', 'CONJ'), ('arriving', 'NOUN'), ('in', 'ADP'), ('San', 'NOUN'), ('Francisco', 'NOUN'), ('.', '.'), ('NASA', 'NOUN'), ('invited', 'NOUN'), ('social', 'ADJ'), ('media', 'NOUN'), ('users', 'NOUN'), ('to', 'PRT'), ('experience', 'NOUN'), ('the', 'DET'), ('launch', 'NOUN'), ('of', 'ADP'), ('ICESAT-2', 'NOUN'), ('Satellite', 'NOUN'), ('.', '.')]\n",
      "\n",
      "\n",
      "########################################################################################################################\n",
      "Tagging sequence with viterbi_backedup_by_trigram_tagger -\n",
      "\n",
      " [('Android', 'NOUN'), ('is', 'VERB'), ('a', 'DET'), ('mobile', 'ADJ'), ('operating', 'NOUN'), ('system', 'NOUN'), ('developed', 'VERB'), ('by', 'ADP'), ('Google', 'NOUN'), ('.', '.'), ('Android', 'NOUN'), ('has', 'VERB'), ('been', 'VERB'), ('the', 'DET'), ('best-selling', 'ADJ'), ('OS', 'NOUN'), ('worldwide', 'NOUN'), ('on', 'ADP'), ('smartphones', 'VERB'), ('since', 'ADP'), ('2011', 'NUM'), ('and', 'CONJ'), ('on', 'ADP'), ('tablets', 'NOUN'), ('since', 'ADP'), ('2013', 'NUM'), ('.', '.'), ('Google', 'NOUN'), ('and', 'CONJ'), ('Twitter', 'NOUN'), ('made', 'VERB'), ('a', 'DET'), ('deal', 'NOUN'), ('in', 'ADP'), ('2015', 'NUM'), ('that', 'ADP'), ('gave', 'VERB'), ('Google', 'NOUN'), ('access', 'NOUN'), ('to', 'PRT'), ('Twitter', 'NOUN'), (\"'s\", 'PRT'), ('firehose', 'NOUN'), ('.', '.'), ('Twitter', 'NOUN'), ('is', 'VERB'), ('an', 'DET'), ('online', 'NOUN'), ('news', 'NOUN'), ('and', 'CONJ'), ('social', 'ADJ'), ('networking', 'NOUN'), ('service', 'NOUN'), ('on', 'ADP'), ('which', 'DET'), ('users', 'NOUN'), ('post', 'NOUN'), ('and', 'CONJ'), ('interact', 'NOUN'), ('with', 'ADP'), ('messages', 'VERB'), ('known', 'VERB'), ('as', 'ADP'), ('tweets', 'NOUN'), ('.', '.'), ('Before', 'ADP'), ('entering', 'VERB'), ('politics', 'NOUN'), (',', '.'), ('Donald', 'NOUN'), ('Trump', 'NOUN'), ('was', 'VERB'), ('a', 'DET'), ('domineering', 'VERB'), ('businessman', 'NOUN'), ('and', 'CONJ'), ('a', 'DET'), ('television', 'NOUN'), ('personality', 'NOUN'), ('.', '.'), ('The', 'DET'), ('2018', 'NUM'), ('FIFA', 'NOUN'), ('World', 'NOUN'), ('Cup', 'NOUN'), ('is', 'VERB'), ('the', 'DET'), ('21st', 'NUM'), ('FIFA', 'NOUN'), ('World', 'NOUN'), ('Cup', 'NOUN'), (',', '.'), ('an', 'DET'), ('international', 'ADJ'), ('football', 'NOUN'), ('tournament', 'NOUN'), ('contested', 'VERB'), ('once', 'ADV'), ('every', 'DET'), ('four', 'NUM'), ('years', 'NOUN'), ('.', '.'), ('This', 'DET'), ('is', 'VERB'), ('the', 'DET'), ('first', 'ADJ'), ('World', 'NOUN'), ('Cup', 'NOUN'), ('to', 'PRT'), ('be', 'VERB'), ('held', 'VERB'), ('in', 'ADP'), ('Eastern', 'NOUN'), ('Europe', 'NOUN'), ('and', 'CONJ'), ('the', 'DET'), ('11th', 'ADJ'), ('time', 'NOUN'), ('that', 'ADP'), ('it', 'PRON'), ('has', 'VERB'), ('been', 'VERB'), ('held', 'VERB'), ('in', 'ADP'), ('Europe', 'NOUN'), ('.', '.'), ('Show', 'NOUN'), ('me', 'PRON'), ('the', 'DET'), ('cheapest', 'ADJ'), ('round', 'NOUN'), ('trips', 'NOUN'), ('from', 'ADP'), ('Dallas', 'NOUN'), ('to', 'PRT'), ('Atlanta', 'NOUN'), ('I', 'PRON'), ('would', 'VERB'), ('like', 'ADP'), ('to', 'PRT'), ('see', 'VERB'), ('flights', 'NOUN'), ('from', 'ADP'), ('Denver', 'NOUN'), ('to', 'PRT'), ('Philadelphia', 'NOUN'), ('.', '.'), ('Show', 'NOUN'), ('me', 'PRON'), ('the', 'DET'), ('price', 'NOUN'), ('of', 'ADP'), ('the', 'DET'), ('flights', 'NOUN'), ('leaving', 'VERB'), ('Atlanta', 'NOUN'), ('at', 'ADP'), ('about', 'ADP'), ('3', 'NUM'), ('in', 'ADP'), ('the', 'DET'), ('afternoon', 'NOUN'), ('and', 'CONJ'), ('arriving', 'VERB'), ('in', 'ADP'), ('San', 'NOUN'), ('Francisco', 'NOUN'), ('.', '.'), ('NASA', 'NOUN'), ('invited', 'VERB'), ('social', 'ADJ'), ('media', 'NOUN'), ('users', 'NOUN'), ('to', 'PRT'), ('experience', 'NOUN'), ('the', 'DET'), ('launch', 'NOUN'), ('of', 'ADP'), ('ICESAT-2', 'NOUN'), ('Satellite', 'NOUN'), ('.', '.')]\n"
     ]
    }
   ],
   "source": [
    "# Vanilla Viterbi Algorithm\n",
    "sample_test_tagged_sequence_with_vanilla_viterbi = Vanilla_Viterbi(sample_test_tagged_words)\n",
    "print(\"Tagging sequence with Vanilla_Viterbi -\\n\\n\", sample_test_tagged_sequence_with_vanilla_viterbi)\n",
    "\n",
    "print('\\n')\n",
    "print('#'*120)\n",
    "\n",
    "# Viterbi using transition probability for Unknown Words\n",
    "sample_test_tagged_sequence_unknown_words = Vanilla_Viterbi_for_Unknown_Words(sample_test_tagged_words)\n",
    "print(\"Tagging sequence with viterbi using only transition probability for unknown words -\\n\\n\", \n",
    "      sample_test_tagged_sequence_unknown_words)\n",
    "\n",
    "print('\\n')\n",
    "print('#'*120)\n",
    "\n",
    "# Viterbi backedd off by a Trigram Tagger\n",
    "sample_test_tagged_sequence_with_viterbi_trigram = viterbi_backedup_by_trigram_tagger(sample_test_tagged_words)\n",
    "print(\"Tagging sequence with viterbi_backedup_by_trigram_tagger -\\n\\n\", sample_test_tagged_sequence_with_viterbi_trigram)"
   ]
  },
  {
   "cell_type": "code",
   "execution_count": 81,
   "metadata": {},
   "outputs": [
    {
     "data": {
      "text/html": [
       "<div>\n",
       "<style scoped>\n",
       "    .dataframe tbody tr th:only-of-type {\n",
       "        vertical-align: middle;\n",
       "    }\n",
       "\n",
       "    .dataframe tbody tr th {\n",
       "        vertical-align: top;\n",
       "    }\n",
       "\n",
       "    .dataframe thead th {\n",
       "        text-align: right;\n",
       "    }\n",
       "</style>\n",
       "<table border=\"1\" class=\"dataframe\">\n",
       "  <thead>\n",
       "    <tr style=\"text-align: right;\">\n",
       "      <th></th>\n",
       "      <th>actual_tags</th>\n",
       "      <th>as_tagged_by_vanilla_viterbi</th>\n",
       "      <th>as_tagged_by_Vanilla_Viterbi_for_Unknown_Words</th>\n",
       "      <th>as_tagged_by_Vanilla_Viterbi_backed_by_trigram_tagger</th>\n",
       "    </tr>\n",
       "  </thead>\n",
       "  <tbody>\n",
       "    <tr>\n",
       "      <th>0</th>\n",
       "      <td>(Android, NOUN)</td>\n",
       "      <td>(Android, ADJ)</td>\n",
       "      <td>(Android, NOUN)</td>\n",
       "      <td>(Android, NOUN)</td>\n",
       "    </tr>\n",
       "    <tr>\n",
       "      <th>8</th>\n",
       "      <td>(Google, NOUN)</td>\n",
       "      <td>(Google, ADJ)</td>\n",
       "      <td>(Google, NOUN)</td>\n",
       "      <td>(Google, NOUN)</td>\n",
       "    </tr>\n",
       "    <tr>\n",
       "      <th>10</th>\n",
       "      <td>(Android, NOUN)</td>\n",
       "      <td>(Android, ADJ)</td>\n",
       "      <td>(Android, NOUN)</td>\n",
       "      <td>(Android, NOUN)</td>\n",
       "    </tr>\n",
       "    <tr>\n",
       "      <th>15</th>\n",
       "      <td>(OS, NOUN)</td>\n",
       "      <td>(OS, ADJ)</td>\n",
       "      <td>(OS, NOUN)</td>\n",
       "      <td>(OS, NOUN)</td>\n",
       "    </tr>\n",
       "    <tr>\n",
       "      <th>16</th>\n",
       "      <td>(worldwide, NOUN)</td>\n",
       "      <td>(worldwide, ADJ)</td>\n",
       "      <td>(worldwide, NOUN)</td>\n",
       "      <td>(worldwide, NOUN)</td>\n",
       "    </tr>\n",
       "    <tr>\n",
       "      <th>18</th>\n",
       "      <td>(smartphones, NOUN)</td>\n",
       "      <td>(smartphones, ADJ)</td>\n",
       "      <td>(smartphones, NOUN)</td>\n",
       "      <td>(smartphones, VERB)</td>\n",
       "    </tr>\n",
       "    <tr>\n",
       "      <th>20</th>\n",
       "      <td>(2011, NUM)</td>\n",
       "      <td>(2011, ADJ)</td>\n",
       "      <td>(2011, NOUN)</td>\n",
       "      <td>(2011, NUM)</td>\n",
       "    </tr>\n",
       "    <tr>\n",
       "      <th>25</th>\n",
       "      <td>(2013, NUM)</td>\n",
       "      <td>(2013, ADJ)</td>\n",
       "      <td>(2013, NOUN)</td>\n",
       "      <td>(2013, NUM)</td>\n",
       "    </tr>\n",
       "    <tr>\n",
       "      <th>27</th>\n",
       "      <td>(Google, NOUN)</td>\n",
       "      <td>(Google, ADJ)</td>\n",
       "      <td>(Google, NOUN)</td>\n",
       "      <td>(Google, NOUN)</td>\n",
       "    </tr>\n",
       "    <tr>\n",
       "      <th>29</th>\n",
       "      <td>(Twitter, NOUN)</td>\n",
       "      <td>(Twitter, ADJ)</td>\n",
       "      <td>(Twitter, NOUN)</td>\n",
       "      <td>(Twitter, NOUN)</td>\n",
       "    </tr>\n",
       "    <tr>\n",
       "      <th>34</th>\n",
       "      <td>(2015, NUM)</td>\n",
       "      <td>(2015, ADJ)</td>\n",
       "      <td>(2015, NOUN)</td>\n",
       "      <td>(2015, NUM)</td>\n",
       "    </tr>\n",
       "    <tr>\n",
       "      <th>37</th>\n",
       "      <td>(Google, NOUN)</td>\n",
       "      <td>(Google, ADJ)</td>\n",
       "      <td>(Google, X)</td>\n",
       "      <td>(Google, NOUN)</td>\n",
       "    </tr>\n",
       "    <tr>\n",
       "      <th>40</th>\n",
       "      <td>(Twitter, NOUN)</td>\n",
       "      <td>(Twitter, ADJ)</td>\n",
       "      <td>(Twitter, VERB)</td>\n",
       "      <td>(Twitter, NOUN)</td>\n",
       "    </tr>\n",
       "    <tr>\n",
       "      <th>42</th>\n",
       "      <td>(firehose, NOUN)</td>\n",
       "      <td>(firehose, ADJ)</td>\n",
       "      <td>(firehose, VERB)</td>\n",
       "      <td>(firehose, NOUN)</td>\n",
       "    </tr>\n",
       "    <tr>\n",
       "      <th>44</th>\n",
       "      <td>(Twitter, NOUN)</td>\n",
       "      <td>(Twitter, ADJ)</td>\n",
       "      <td>(Twitter, NOUN)</td>\n",
       "      <td>(Twitter, NOUN)</td>\n",
       "    </tr>\n",
       "    <tr>\n",
       "      <th>47</th>\n",
       "      <td>(online, ADJ)</td>\n",
       "      <td>(online, ADJ)</td>\n",
       "      <td>(online, NOUN)</td>\n",
       "      <td>(online, NOUN)</td>\n",
       "    </tr>\n",
       "    <tr>\n",
       "      <th>58</th>\n",
       "      <td>(interact, NOUN)</td>\n",
       "      <td>(interact, ADJ)</td>\n",
       "      <td>(interact, NOUN)</td>\n",
       "      <td>(interact, NOUN)</td>\n",
       "    </tr>\n",
       "    <tr>\n",
       "      <th>60</th>\n",
       "      <td>(messages, NOUN)</td>\n",
       "      <td>(messages, ADJ)</td>\n",
       "      <td>(messages, NOUN)</td>\n",
       "      <td>(messages, VERB)</td>\n",
       "    </tr>\n",
       "    <tr>\n",
       "      <th>63</th>\n",
       "      <td>(tweets, NOUN)</td>\n",
       "      <td>(tweets, ADJ)</td>\n",
       "      <td>(tweets, NOUN)</td>\n",
       "      <td>(tweets, NOUN)</td>\n",
       "    </tr>\n",
       "    <tr>\n",
       "      <th>73</th>\n",
       "      <td>(domineering, ADJ)</td>\n",
       "      <td>(domineering, ADJ)</td>\n",
       "      <td>(domineering, NOUN)</td>\n",
       "      <td>(domineering, VERB)</td>\n",
       "    </tr>\n",
       "    <tr>\n",
       "      <th>78</th>\n",
       "      <td>(personality, NOUN)</td>\n",
       "      <td>(personality, ADJ)</td>\n",
       "      <td>(personality, NOUN)</td>\n",
       "      <td>(personality, NOUN)</td>\n",
       "    </tr>\n",
       "    <tr>\n",
       "      <th>81</th>\n",
       "      <td>(2018, NUM)</td>\n",
       "      <td>(2018, ADJ)</td>\n",
       "      <td>(2018, NOUN)</td>\n",
       "      <td>(2018, NUM)</td>\n",
       "    </tr>\n",
       "    <tr>\n",
       "      <th>82</th>\n",
       "      <td>(FIFA, NOUN)</td>\n",
       "      <td>(FIFA, ADJ)</td>\n",
       "      <td>(FIFA, NOUN)</td>\n",
       "      <td>(FIFA, NOUN)</td>\n",
       "    </tr>\n",
       "    <tr>\n",
       "      <th>84</th>\n",
       "      <td>(Cup, NOUN)</td>\n",
       "      <td>(Cup, ADJ)</td>\n",
       "      <td>(Cup, NOUN)</td>\n",
       "      <td>(Cup, NOUN)</td>\n",
       "    </tr>\n",
       "    <tr>\n",
       "      <th>87</th>\n",
       "      <td>(21st, NUM)</td>\n",
       "      <td>(21st, ADJ)</td>\n",
       "      <td>(21st, NOUN)</td>\n",
       "      <td>(21st, NUM)</td>\n",
       "    </tr>\n",
       "    <tr>\n",
       "      <th>88</th>\n",
       "      <td>(FIFA, NOUN)</td>\n",
       "      <td>(FIFA, ADJ)</td>\n",
       "      <td>(FIFA, NOUN)</td>\n",
       "      <td>(FIFA, NOUN)</td>\n",
       "    </tr>\n",
       "    <tr>\n",
       "      <th>90</th>\n",
       "      <td>(Cup, NOUN)</td>\n",
       "      <td>(Cup, ADJ)</td>\n",
       "      <td>(Cup, NOUN)</td>\n",
       "      <td>(Cup, NOUN)</td>\n",
       "    </tr>\n",
       "    <tr>\n",
       "      <th>95</th>\n",
       "      <td>(tournament, NOUN)</td>\n",
       "      <td>(tournament, ADJ)</td>\n",
       "      <td>(tournament, NOUN)</td>\n",
       "      <td>(tournament, NOUN)</td>\n",
       "    </tr>\n",
       "    <tr>\n",
       "      <th>96</th>\n",
       "      <td>(contested, VERB)</td>\n",
       "      <td>(contested, ADJ)</td>\n",
       "      <td>(contested, NOUN)</td>\n",
       "      <td>(contested, VERB)</td>\n",
       "    </tr>\n",
       "    <tr>\n",
       "      <th>107</th>\n",
       "      <td>(Cup, NOUN)</td>\n",
       "      <td>(Cup, ADJ)</td>\n",
       "      <td>(Cup, NOUN)</td>\n",
       "      <td>(Cup, NOUN)</td>\n",
       "    </tr>\n",
       "    <tr>\n",
       "      <th>131</th>\n",
       "      <td>(trips, NOUN)</td>\n",
       "      <td>(trips, ADJ)</td>\n",
       "      <td>(trips, NOUN)</td>\n",
       "      <td>(trips, NOUN)</td>\n",
       "    </tr>\n",
       "    <tr>\n",
       "      <th>163</th>\n",
       "      <td>(arriving, NOUN)</td>\n",
       "      <td>(arriving, ADJ)</td>\n",
       "      <td>(arriving, NOUN)</td>\n",
       "      <td>(arriving, VERB)</td>\n",
       "    </tr>\n",
       "    <tr>\n",
       "      <th>168</th>\n",
       "      <td>(NASA, NOUN)</td>\n",
       "      <td>(NASA, ADJ)</td>\n",
       "      <td>(NASA, NOUN)</td>\n",
       "      <td>(NASA, NOUN)</td>\n",
       "    </tr>\n",
       "    <tr>\n",
       "      <th>169</th>\n",
       "      <td>(invited, VERB)</td>\n",
       "      <td>(invited, ADJ)</td>\n",
       "      <td>(invited, NOUN)</td>\n",
       "      <td>(invited, VERB)</td>\n",
       "    </tr>\n",
       "    <tr>\n",
       "      <th>178</th>\n",
       "      <td>(ICESAT-2, NOUN)</td>\n",
       "      <td>(ICESAT-2, ADJ)</td>\n",
       "      <td>(ICESAT-2, NOUN)</td>\n",
       "      <td>(ICESAT-2, NOUN)</td>\n",
       "    </tr>\n",
       "    <tr>\n",
       "      <th>179</th>\n",
       "      <td>(Satellite, NOUN)</td>\n",
       "      <td>(Satellite, ADJ)</td>\n",
       "      <td>(Satellite, NOUN)</td>\n",
       "      <td>(Satellite, NOUN)</td>\n",
       "    </tr>\n",
       "  </tbody>\n",
       "</table>\n",
       "</div>"
      ],
      "text/plain": [
       "             actual_tags as_tagged_by_vanilla_viterbi  \\\n",
       "0        (Android, NOUN)               (Android, ADJ)   \n",
       "8         (Google, NOUN)                (Google, ADJ)   \n",
       "10       (Android, NOUN)               (Android, ADJ)   \n",
       "15            (OS, NOUN)                    (OS, ADJ)   \n",
       "16     (worldwide, NOUN)             (worldwide, ADJ)   \n",
       "18   (smartphones, NOUN)           (smartphones, ADJ)   \n",
       "20           (2011, NUM)                  (2011, ADJ)   \n",
       "25           (2013, NUM)                  (2013, ADJ)   \n",
       "27        (Google, NOUN)                (Google, ADJ)   \n",
       "29       (Twitter, NOUN)               (Twitter, ADJ)   \n",
       "34           (2015, NUM)                  (2015, ADJ)   \n",
       "37        (Google, NOUN)                (Google, ADJ)   \n",
       "40       (Twitter, NOUN)               (Twitter, ADJ)   \n",
       "42      (firehose, NOUN)              (firehose, ADJ)   \n",
       "44       (Twitter, NOUN)               (Twitter, ADJ)   \n",
       "47         (online, ADJ)                (online, ADJ)   \n",
       "58      (interact, NOUN)              (interact, ADJ)   \n",
       "60      (messages, NOUN)              (messages, ADJ)   \n",
       "63        (tweets, NOUN)                (tweets, ADJ)   \n",
       "73    (domineering, ADJ)           (domineering, ADJ)   \n",
       "78   (personality, NOUN)           (personality, ADJ)   \n",
       "81           (2018, NUM)                  (2018, ADJ)   \n",
       "82          (FIFA, NOUN)                  (FIFA, ADJ)   \n",
       "84           (Cup, NOUN)                   (Cup, ADJ)   \n",
       "87           (21st, NUM)                  (21st, ADJ)   \n",
       "88          (FIFA, NOUN)                  (FIFA, ADJ)   \n",
       "90           (Cup, NOUN)                   (Cup, ADJ)   \n",
       "95    (tournament, NOUN)            (tournament, ADJ)   \n",
       "96     (contested, VERB)             (contested, ADJ)   \n",
       "107          (Cup, NOUN)                   (Cup, ADJ)   \n",
       "131        (trips, NOUN)                 (trips, ADJ)   \n",
       "163     (arriving, NOUN)              (arriving, ADJ)   \n",
       "168         (NASA, NOUN)                  (NASA, ADJ)   \n",
       "169      (invited, VERB)               (invited, ADJ)   \n",
       "178     (ICESAT-2, NOUN)              (ICESAT-2, ADJ)   \n",
       "179    (Satellite, NOUN)             (Satellite, ADJ)   \n",
       "\n",
       "    as_tagged_by_Vanilla_Viterbi_for_Unknown_Words  \\\n",
       "0                                  (Android, NOUN)   \n",
       "8                                   (Google, NOUN)   \n",
       "10                                 (Android, NOUN)   \n",
       "15                                      (OS, NOUN)   \n",
       "16                               (worldwide, NOUN)   \n",
       "18                             (smartphones, NOUN)   \n",
       "20                                    (2011, NOUN)   \n",
       "25                                    (2013, NOUN)   \n",
       "27                                  (Google, NOUN)   \n",
       "29                                 (Twitter, NOUN)   \n",
       "34                                    (2015, NOUN)   \n",
       "37                                     (Google, X)   \n",
       "40                                 (Twitter, VERB)   \n",
       "42                                (firehose, VERB)   \n",
       "44                                 (Twitter, NOUN)   \n",
       "47                                  (online, NOUN)   \n",
       "58                                (interact, NOUN)   \n",
       "60                                (messages, NOUN)   \n",
       "63                                  (tweets, NOUN)   \n",
       "73                             (domineering, NOUN)   \n",
       "78                             (personality, NOUN)   \n",
       "81                                    (2018, NOUN)   \n",
       "82                                    (FIFA, NOUN)   \n",
       "84                                     (Cup, NOUN)   \n",
       "87                                    (21st, NOUN)   \n",
       "88                                    (FIFA, NOUN)   \n",
       "90                                     (Cup, NOUN)   \n",
       "95                              (tournament, NOUN)   \n",
       "96                               (contested, NOUN)   \n",
       "107                                    (Cup, NOUN)   \n",
       "131                                  (trips, NOUN)   \n",
       "163                               (arriving, NOUN)   \n",
       "168                                   (NASA, NOUN)   \n",
       "169                                (invited, NOUN)   \n",
       "178                               (ICESAT-2, NOUN)   \n",
       "179                              (Satellite, NOUN)   \n",
       "\n",
       "    as_tagged_by_Vanilla_Viterbi_backed_by_trigram_tagger  \n",
       "0                                      (Android, NOUN)     \n",
       "8                                       (Google, NOUN)     \n",
       "10                                     (Android, NOUN)     \n",
       "15                                          (OS, NOUN)     \n",
       "16                                   (worldwide, NOUN)     \n",
       "18                                 (smartphones, VERB)     \n",
       "20                                         (2011, NUM)     \n",
       "25                                         (2013, NUM)     \n",
       "27                                      (Google, NOUN)     \n",
       "29                                     (Twitter, NOUN)     \n",
       "34                                         (2015, NUM)     \n",
       "37                                      (Google, NOUN)     \n",
       "40                                     (Twitter, NOUN)     \n",
       "42                                    (firehose, NOUN)     \n",
       "44                                     (Twitter, NOUN)     \n",
       "47                                      (online, NOUN)     \n",
       "58                                    (interact, NOUN)     \n",
       "60                                    (messages, VERB)     \n",
       "63                                      (tweets, NOUN)     \n",
       "73                                 (domineering, VERB)     \n",
       "78                                 (personality, NOUN)     \n",
       "81                                         (2018, NUM)     \n",
       "82                                        (FIFA, NOUN)     \n",
       "84                                         (Cup, NOUN)     \n",
       "87                                         (21st, NUM)     \n",
       "88                                        (FIFA, NOUN)     \n",
       "90                                         (Cup, NOUN)     \n",
       "95                                  (tournament, NOUN)     \n",
       "96                                   (contested, VERB)     \n",
       "107                                        (Cup, NOUN)     \n",
       "131                                      (trips, NOUN)     \n",
       "163                                   (arriving, VERB)     \n",
       "168                                       (NASA, NOUN)     \n",
       "169                                    (invited, VERB)     \n",
       "178                                   (ICESAT-2, NOUN)     \n",
       "179                                  (Satellite, NOUN)     "
      ]
     },
     "execution_count": 81,
     "metadata": {},
     "output_type": "execute_result"
    }
   ],
   "source": [
    "cols1 = ['actual_tags', 'as_tagged_by_vanilla_viterbi', 'as_tagged_by_Vanilla_Viterbi_for_Unknown_Words',\n",
    "            'as_tagged_by_Vanilla_Viterbi_backed_by_trigram_tagger']\n",
    "\n",
    "tags_comparison_df = pd.DataFrame(columns = cols1)\n",
    "tags_comparison_df = tags_comparison_df.fillna(0)\n",
    "\n",
    "# Actual tags\n",
    "tags_comparison_df.actual_tags = [tup for tup in sample_test_test_run_base]\n",
    "\n",
    "# tags by vanilla viterbi\n",
    "tags_comparison_df.as_tagged_by_vanilla_viterbi = [tup for tup in sample_test_tagged_sequence_with_vanilla_viterbi]\n",
    "\n",
    "# tags by Vanilla_Viterbi_for_Unknown_Words - METHOD - 1\n",
    "tags_comparison_df.as_tagged_by_Vanilla_Viterbi_for_Unknown_Words = [tup for tup in sample_test_tagged_sequence_unknown_words]\n",
    "\n",
    "# tags by viterbi_backedup_by_trigram_tagger - METHOD - 2\n",
    "tags_comparison_df.as_tagged_by_Vanilla_Viterbi_backed_by_trigram_tagger = [tup for tup in \n",
    "                                                                            sample_test_tagged_sequence_with_viterbi_trigram]\n",
    "\n",
    "tags_comparison_df[tags_comparison_df.as_tagged_by_vanilla_viterbi != \n",
    "                   tags_comparison_df.as_tagged_by_Vanilla_Viterbi_backed_by_trigram_tagger]"
   ]
  },
  {
   "cell_type": "markdown",
   "metadata": {},
   "source": [
    "## Conclusion"
   ]
  },
  {
   "cell_type": "markdown",
   "metadata": {},
   "source": [
    "In the above analysis, we have seen the three different approaches for POS tagging. Initial one was the Vanilla Viterbi Algorithm for unknown words. In order to solve the problem of unknown words, we have mainly applied two different techniques which are as follows:\n",
    "1. Viterbi Algorithm backed off by a Trigram Tagger\n",
    "2. Viterbi using only transition probability for unknown words"
   ]
  },
  {
   "cell_type": "markdown",
   "metadata": {},
   "source": [
    "Both the approaches resulted in improvement over the Vanilla Viterbi Algorithm which had an accuracy of 92.2% where first approach of using Viterbi Algorithm backed off by a Trigram Tagger had an accuracy of 95.9% and second approach of Viterbi Algorithm to use only transition probability for unknown words had an accuracy of 94.6%. Also, Viterbi backed off by a Trigram tagger has the highest accuracy for sample test sentences provided."
   ]
  },
  {
   "cell_type": "markdown",
   "metadata": {},
   "source": [
    "**Considering all the different approaches and their results, Viterbi Algorithm backed off by a Trigram tagger performs best with an accuracy of 95.9%.**"
   ]
  }
 ],
 "metadata": {
  "kernelspec": {
   "display_name": "Python 3",
   "language": "python",
   "name": "python3"
  },
  "language_info": {
   "codemirror_mode": {
    "name": "ipython",
    "version": 3
   },
   "file_extension": ".py",
   "mimetype": "text/x-python",
   "name": "python",
   "nbconvert_exporter": "python",
   "pygments_lexer": "ipython3",
   "version": "3.7.5"
  }
 },
 "nbformat": 4,
 "nbformat_minor": 2
}
